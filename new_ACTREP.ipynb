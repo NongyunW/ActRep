{
 "cells": [
  {
   "cell_type": "code",
   "execution_count": 1,
   "metadata": {},
   "outputs": [
    {
     "name": "stdout",
     "output_type": "stream",
     "text": [
      "\n",
      "=== ND2-to-TIFF Conversion ===\n",
      "Found 252 ND2 file(s) for conversion.\n",
      "\n",
      "--- Processing: Act_01_001.nd2 ---\n",
      "\n",
      "Processing ND2 file: Act_01_001.nd2\n",
      "Detected Axes: ['x', 'y', 'c', 't', 'z']\n",
      "Detected Shape: (19, 900, 600)\n",
      "Channels in file: ['60x DSRED', '60x GFP']\n",
      "Using channel '60x DSRED' at index 0.\n",
      "Saved TIFF: A:\\_Ongoing\\20250128_ActRep_version2_24well\\Output\\60x_DSRED_TIFF\\Act_01_001.tiff\n",
      "\n",
      "Processing ND2 file: Act_01_001.nd2\n",
      "Detected Axes: ['x', 'y', 'c', 't', 'z']\n",
      "Detected Shape: (19, 900, 600)\n",
      "Channels in file: ['60x DSRED', '60x GFP']\n",
      "Using channel '60x GFP' at index 1.\n",
      "Saved TIFF: A:\\_Ongoing\\20250128_ActRep_version2_24well\\Output\\60x_GFP_TIFF\\Act_01_001.tiff\n",
      "\n",
      "--- Processing: Act_01_002.nd2 ---\n",
      "\n",
      "Processing ND2 file: Act_01_002.nd2\n",
      "Detected Axes: ['x', 'y', 'c', 't', 'z']\n",
      "Detected Shape: (19, 900, 600)\n",
      "Channels in file: ['60x DSRED', '60x GFP']\n",
      "Using channel '60x DSRED' at index 0.\n",
      "Saved TIFF: A:\\_Ongoing\\20250128_ActRep_version2_24well\\Output\\60x_DSRED_TIFF\\Act_01_002.tiff\n",
      "\n",
      "Processing ND2 file: Act_01_002.nd2\n",
      "Detected Axes: ['x', 'y', 'c', 't', 'z']\n",
      "Detected Shape: (19, 900, 600)\n",
      "Channels in file: ['60x DSRED', '60x GFP']\n",
      "Using channel '60x GFP' at index 1.\n",
      "Saved TIFF: A:\\_Ongoing\\20250128_ActRep_version2_24well\\Output\\60x_GFP_TIFF\\Act_01_002.tiff\n",
      "\n",
      "--- Processing: Act_01_003.nd2 ---\n",
      "\n",
      "Processing ND2 file: Act_01_003.nd2\n",
      "Detected Axes: ['x', 'y', 'c', 't', 'z']\n",
      "Detected Shape: (19, 900, 600)\n",
      "Channels in file: ['60x DSRED', '60x GFP']\n",
      "Using channel '60x DSRED' at index 0.\n",
      "Saved TIFF: A:\\_Ongoing\\20250128_ActRep_version2_24well\\Output\\60x_DSRED_TIFF\\Act_01_003.tiff\n",
      "\n",
      "Processing ND2 file: Act_01_003.nd2\n",
      "Detected Axes: ['x', 'y', 'c', 't', 'z']\n",
      "Detected Shape: (19, 900, 600)\n",
      "Channels in file: ['60x DSRED', '60x GFP']\n",
      "Using channel '60x GFP' at index 1.\n",
      "Saved TIFF: A:\\_Ongoing\\20250128_ActRep_version2_24well\\Output\\60x_GFP_TIFF\\Act_01_003.tiff\n",
      "\n",
      "--- Processing: Act_02_001.nd2 ---\n",
      "\n",
      "Processing ND2 file: Act_02_001.nd2\n",
      "Detected Axes: ['x', 'y', 'c', 't', 'z']\n",
      "Detected Shape: (19, 900, 600)\n",
      "Channels in file: ['60x DSRED', '60x GFP']\n",
      "Using channel '60x DSRED' at index 0.\n",
      "Saved TIFF: A:\\_Ongoing\\20250128_ActRep_version2_24well\\Output\\60x_DSRED_TIFF\\Act_02_001.tiff\n",
      "\n",
      "Processing ND2 file: Act_02_001.nd2\n",
      "Detected Axes: ['x', 'y', 'c', 't', 'z']\n",
      "Detected Shape: (19, 900, 600)\n",
      "Channels in file: ['60x DSRED', '60x GFP']\n",
      "Using channel '60x GFP' at index 1.\n",
      "Saved TIFF: A:\\_Ongoing\\20250128_ActRep_version2_24well\\Output\\60x_GFP_TIFF\\Act_02_001.tiff\n",
      "\n",
      "--- Processing: Act_02_002.nd2 ---\n",
      "\n",
      "Processing ND2 file: Act_02_002.nd2\n",
      "Detected Axes: ['x', 'y', 'c', 't', 'z']\n",
      "Detected Shape: (19, 900, 600)\n",
      "Channels in file: ['60x DSRED', '60x GFP']\n",
      "Using channel '60x DSRED' at index 0.\n",
      "Saved TIFF: A:\\_Ongoing\\20250128_ActRep_version2_24well\\Output\\60x_DSRED_TIFF\\Act_02_002.tiff\n",
      "\n",
      "Processing ND2 file: Act_02_002.nd2\n",
      "Detected Axes: ['x', 'y', 'c', 't', 'z']\n",
      "Detected Shape: (19, 900, 600)\n",
      "Channels in file: ['60x DSRED', '60x GFP']\n",
      "Using channel '60x GFP' at index 1.\n",
      "Saved TIFF: A:\\_Ongoing\\20250128_ActRep_version2_24well\\Output\\60x_GFP_TIFF\\Act_02_002.tiff\n",
      "\n",
      "--- Processing: Act_02_003.nd2 ---\n",
      "\n",
      "Processing ND2 file: Act_02_003.nd2\n",
      "Detected Axes: ['x', 'y', 'c', 't', 'z']\n",
      "Detected Shape: (19, 900, 600)\n",
      "Channels in file: ['60x DSRED', '60x GFP']\n",
      "Using channel '60x DSRED' at index 0.\n",
      "Saved TIFF: A:\\_Ongoing\\20250128_ActRep_version2_24well\\Output\\60x_DSRED_TIFF\\Act_02_003.tiff\n",
      "\n",
      "Processing ND2 file: Act_02_003.nd2\n",
      "Detected Axes: ['x', 'y', 'c', 't', 'z']\n",
      "Detected Shape: (19, 900, 600)\n",
      "Channels in file: ['60x DSRED', '60x GFP']\n",
      "Using channel '60x GFP' at index 1.\n",
      "Saved TIFF: A:\\_Ongoing\\20250128_ActRep_version2_24well\\Output\\60x_GFP_TIFF\\Act_02_003.tiff\n",
      "\n",
      "--- Processing: Act_03_001.nd2 ---\n",
      "\n",
      "Processing ND2 file: Act_03_001.nd2\n",
      "Detected Axes: ['x', 'y', 'c', 't', 'z']\n",
      "Detected Shape: (19, 900, 600)\n",
      "Channels in file: ['60x DSRED', '60x GFP']\n",
      "Using channel '60x DSRED' at index 0.\n",
      "Saved TIFF: A:\\_Ongoing\\20250128_ActRep_version2_24well\\Output\\60x_DSRED_TIFF\\Act_03_001.tiff\n",
      "\n",
      "Processing ND2 file: Act_03_001.nd2\n",
      "Detected Axes: ['x', 'y', 'c', 't', 'z']\n",
      "Detected Shape: (19, 900, 600)\n",
      "Channels in file: ['60x DSRED', '60x GFP']\n",
      "Using channel '60x GFP' at index 1.\n",
      "Saved TIFF: A:\\_Ongoing\\20250128_ActRep_version2_24well\\Output\\60x_GFP_TIFF\\Act_03_001.tiff\n",
      "\n",
      "--- Processing: Act_03_002.nd2 ---\n",
      "\n",
      "Processing ND2 file: Act_03_002.nd2\n",
      "Detected Axes: ['x', 'y', 'c', 't', 'z']\n",
      "Detected Shape: (19, 900, 600)\n",
      "Channels in file: ['60x DSRED', '60x GFP']\n",
      "Using channel '60x DSRED' at index 0.\n",
      "Saved TIFF: A:\\_Ongoing\\20250128_ActRep_version2_24well\\Output\\60x_DSRED_TIFF\\Act_03_002.tiff\n",
      "\n",
      "Processing ND2 file: Act_03_002.nd2\n",
      "Detected Axes: ['x', 'y', 'c', 't', 'z']\n",
      "Detected Shape: (19, 900, 600)\n",
      "Channels in file: ['60x DSRED', '60x GFP']\n",
      "Using channel '60x GFP' at index 1.\n",
      "Saved TIFF: A:\\_Ongoing\\20250128_ActRep_version2_24well\\Output\\60x_GFP_TIFF\\Act_03_002.tiff\n",
      "\n",
      "--- Processing: Act_03_003.nd2 ---\n",
      "\n",
      "Processing ND2 file: Act_03_003.nd2\n",
      "Detected Axes: ['x', 'y', 'c', 't', 'z']\n",
      "Detected Shape: (19, 900, 600)\n",
      "Channels in file: ['60x DSRED', '60x GFP']\n",
      "Using channel '60x DSRED' at index 0.\n",
      "Saved TIFF: A:\\_Ongoing\\20250128_ActRep_version2_24well\\Output\\60x_DSRED_TIFF\\Act_03_003.tiff\n",
      "\n",
      "Processing ND2 file: Act_03_003.nd2\n",
      "Detected Axes: ['x', 'y', 'c', 't', 'z']\n",
      "Detected Shape: (19, 900, 600)\n",
      "Channels in file: ['60x DSRED', '60x GFP']\n",
      "Using channel '60x GFP' at index 1.\n",
      "Saved TIFF: A:\\_Ongoing\\20250128_ActRep_version2_24well\\Output\\60x_GFP_TIFF\\Act_03_003.tiff\n",
      "\n",
      "--- Processing: Act_04_001.nd2 ---\n",
      "\n",
      "Processing ND2 file: Act_04_001.nd2\n",
      "Detected Axes: ['x', 'y', 'c', 't', 'z']\n",
      "Detected Shape: (19, 900, 600)\n",
      "Channels in file: ['60x DSRED', '60x GFP']\n",
      "Using channel '60x DSRED' at index 0.\n",
      "Saved TIFF: A:\\_Ongoing\\20250128_ActRep_version2_24well\\Output\\60x_DSRED_TIFF\\Act_04_001.tiff\n",
      "\n",
      "Processing ND2 file: Act_04_001.nd2\n",
      "Detected Axes: ['x', 'y', 'c', 't', 'z']\n",
      "Detected Shape: (19, 900, 600)\n",
      "Channels in file: ['60x DSRED', '60x GFP']\n",
      "Using channel '60x GFP' at index 1.\n",
      "Saved TIFF: A:\\_Ongoing\\20250128_ActRep_version2_24well\\Output\\60x_GFP_TIFF\\Act_04_001.tiff\n",
      "\n",
      "--- Processing: Act_04_002.nd2 ---\n",
      "\n",
      "Processing ND2 file: Act_04_002.nd2\n",
      "Detected Axes: ['x', 'y', 'c', 't', 'z']\n",
      "Detected Shape: (19, 900, 600)\n",
      "Channels in file: ['60x DSRED', '60x GFP']\n",
      "Using channel '60x DSRED' at index 0.\n",
      "Saved TIFF: A:\\_Ongoing\\20250128_ActRep_version2_24well\\Output\\60x_DSRED_TIFF\\Act_04_002.tiff\n",
      "\n",
      "Processing ND2 file: Act_04_002.nd2\n",
      "Detected Axes: ['x', 'y', 'c', 't', 'z']\n",
      "Detected Shape: (19, 900, 600)\n",
      "Channels in file: ['60x DSRED', '60x GFP']\n",
      "Using channel '60x GFP' at index 1.\n",
      "Saved TIFF: A:\\_Ongoing\\20250128_ActRep_version2_24well\\Output\\60x_GFP_TIFF\\Act_04_002.tiff\n",
      "\n",
      "--- Processing: Act_04_003.nd2 ---\n",
      "\n",
      "Processing ND2 file: Act_04_003.nd2\n",
      "Detected Axes: ['x', 'y', 'c', 't', 'z']\n",
      "Detected Shape: (19, 900, 600)\n",
      "Channels in file: ['60x DSRED', '60x GFP']\n",
      "Using channel '60x DSRED' at index 0.\n",
      "Saved TIFF: A:\\_Ongoing\\20250128_ActRep_version2_24well\\Output\\60x_DSRED_TIFF\\Act_04_003.tiff\n",
      "\n",
      "Processing ND2 file: Act_04_003.nd2\n",
      "Detected Axes: ['x', 'y', 'c', 't', 'z']\n",
      "Detected Shape: (19, 900, 600)\n",
      "Channels in file: ['60x DSRED', '60x GFP']\n",
      "Using channel '60x GFP' at index 1.\n",
      "Saved TIFF: A:\\_Ongoing\\20250128_ActRep_version2_24well\\Output\\60x_GFP_TIFF\\Act_04_003.tiff\n",
      "\n",
      "--- Processing: Act_05_001.nd2 ---\n",
      "\n",
      "Processing ND2 file: Act_05_001.nd2\n",
      "Detected Axes: ['x', 'y', 'c', 't', 'z']\n",
      "Detected Shape: (19, 900, 600)\n",
      "Channels in file: ['60x DSRED', '60x GFP']\n",
      "Using channel '60x DSRED' at index 0.\n",
      "Saved TIFF: A:\\_Ongoing\\20250128_ActRep_version2_24well\\Output\\60x_DSRED_TIFF\\Act_05_001.tiff\n",
      "\n",
      "Processing ND2 file: Act_05_001.nd2\n",
      "Detected Axes: ['x', 'y', 'c', 't', 'z']\n",
      "Detected Shape: (19, 900, 600)\n",
      "Channels in file: ['60x DSRED', '60x GFP']\n",
      "Using channel '60x GFP' at index 1.\n",
      "Saved TIFF: A:\\_Ongoing\\20250128_ActRep_version2_24well\\Output\\60x_GFP_TIFF\\Act_05_001.tiff\n",
      "\n",
      "--- Processing: Act_05_002.nd2 ---\n",
      "\n",
      "Processing ND2 file: Act_05_002.nd2\n",
      "Detected Axes: ['x', 'y', 'c', 't', 'z']\n",
      "Detected Shape: (19, 900, 600)\n",
      "Channels in file: ['60x DSRED', '60x GFP']\n",
      "Using channel '60x DSRED' at index 0.\n",
      "Saved TIFF: A:\\_Ongoing\\20250128_ActRep_version2_24well\\Output\\60x_DSRED_TIFF\\Act_05_002.tiff\n",
      "\n",
      "Processing ND2 file: Act_05_002.nd2\n",
      "Detected Axes: ['x', 'y', 'c', 't', 'z']\n",
      "Detected Shape: (19, 900, 600)\n",
      "Channels in file: ['60x DSRED', '60x GFP']\n",
      "Using channel '60x GFP' at index 1.\n",
      "Saved TIFF: A:\\_Ongoing\\20250128_ActRep_version2_24well\\Output\\60x_GFP_TIFF\\Act_05_002.tiff\n",
      "\n",
      "--- Processing: Act_05_003.nd2 ---\n",
      "\n",
      "Processing ND2 file: Act_05_003.nd2\n",
      "Detected Axes: ['x', 'y', 'c', 't', 'z']\n",
      "Detected Shape: (19, 900, 600)\n",
      "Channels in file: ['60x DSRED', '60x GFP']\n",
      "Using channel '60x DSRED' at index 0.\n",
      "Saved TIFF: A:\\_Ongoing\\20250128_ActRep_version2_24well\\Output\\60x_DSRED_TIFF\\Act_05_003.tiff\n",
      "\n",
      "Processing ND2 file: Act_05_003.nd2\n",
      "Detected Axes: ['x', 'y', 'c', 't', 'z']\n",
      "Detected Shape: (19, 900, 600)\n",
      "Channels in file: ['60x DSRED', '60x GFP']\n",
      "Using channel '60x GFP' at index 1.\n",
      "Saved TIFF: A:\\_Ongoing\\20250128_ActRep_version2_24well\\Output\\60x_GFP_TIFF\\Act_05_003.tiff\n",
      "\n",
      "--- Processing: Act_06_001.nd2 ---\n",
      "\n",
      "Processing ND2 file: Act_06_001.nd2\n",
      "Detected Axes: ['x', 'y', 'c', 't', 'z']\n",
      "Detected Shape: (19, 900, 600)\n",
      "Channels in file: ['60x DSRED', '60x GFP']\n",
      "Using channel '60x DSRED' at index 0.\n",
      "Saved TIFF: A:\\_Ongoing\\20250128_ActRep_version2_24well\\Output\\60x_DSRED_TIFF\\Act_06_001.tiff\n",
      "\n",
      "Processing ND2 file: Act_06_001.nd2\n",
      "Detected Axes: ['x', 'y', 'c', 't', 'z']\n",
      "Detected Shape: (19, 900, 600)\n",
      "Channels in file: ['60x DSRED', '60x GFP']\n",
      "Using channel '60x GFP' at index 1.\n",
      "Saved TIFF: A:\\_Ongoing\\20250128_ActRep_version2_24well\\Output\\60x_GFP_TIFF\\Act_06_001.tiff\n",
      "\n",
      "--- Processing: Act_06_002.nd2 ---\n",
      "\n",
      "Processing ND2 file: Act_06_002.nd2\n",
      "Detected Axes: ['x', 'y', 'c', 't', 'z']\n",
      "Detected Shape: (19, 900, 600)\n",
      "Channels in file: ['60x DSRED', '60x GFP']\n",
      "Using channel '60x DSRED' at index 0.\n",
      "Saved TIFF: A:\\_Ongoing\\20250128_ActRep_version2_24well\\Output\\60x_DSRED_TIFF\\Act_06_002.tiff\n",
      "\n",
      "Processing ND2 file: Act_06_002.nd2\n",
      "Detected Axes: ['x', 'y', 'c', 't', 'z']\n",
      "Detected Shape: (19, 900, 600)\n",
      "Channels in file: ['60x DSRED', '60x GFP']\n",
      "Using channel '60x GFP' at index 1.\n",
      "Saved TIFF: A:\\_Ongoing\\20250128_ActRep_version2_24well\\Output\\60x_GFP_TIFF\\Act_06_002.tiff\n",
      "\n",
      "--- Processing: Act_06_003.nd2 ---\n",
      "\n",
      "Processing ND2 file: Act_06_003.nd2\n",
      "Detected Axes: ['x', 'y', 'c', 't', 'z']\n",
      "Detected Shape: (19, 900, 600)\n",
      "Channels in file: ['60x DSRED', '60x GFP']\n",
      "Using channel '60x DSRED' at index 0.\n",
      "Saved TIFF: A:\\_Ongoing\\20250128_ActRep_version2_24well\\Output\\60x_DSRED_TIFF\\Act_06_003.tiff\n",
      "\n",
      "Processing ND2 file: Act_06_003.nd2\n",
      "Detected Axes: ['x', 'y', 'c', 't', 'z']\n",
      "Detected Shape: (19, 900, 600)\n",
      "Channels in file: ['60x DSRED', '60x GFP']\n",
      "Using channel '60x GFP' at index 1.\n",
      "Saved TIFF: A:\\_Ongoing\\20250128_ActRep_version2_24well\\Output\\60x_GFP_TIFF\\Act_06_003.tiff\n",
      "\n",
      "--- Processing: Act_07_001.nd2 ---\n",
      "\n",
      "Processing ND2 file: Act_07_001.nd2\n",
      "Detected Axes: ['x', 'y', 'c', 't', 'z']\n",
      "Detected Shape: (19, 900, 600)\n",
      "Channels in file: ['60x DSRED', '60x GFP']\n",
      "Using channel '60x DSRED' at index 0.\n",
      "Saved TIFF: A:\\_Ongoing\\20250128_ActRep_version2_24well\\Output\\60x_DSRED_TIFF\\Act_07_001.tiff\n",
      "\n",
      "Processing ND2 file: Act_07_001.nd2\n",
      "Detected Axes: ['x', 'y', 'c', 't', 'z']\n",
      "Detected Shape: (19, 900, 600)\n",
      "Channels in file: ['60x DSRED', '60x GFP']\n",
      "Using channel '60x GFP' at index 1.\n",
      "Saved TIFF: A:\\_Ongoing\\20250128_ActRep_version2_24well\\Output\\60x_GFP_TIFF\\Act_07_001.tiff\n",
      "\n",
      "--- Processing: Act_07_002.nd2 ---\n",
      "\n",
      "Processing ND2 file: Act_07_002.nd2\n",
      "Detected Axes: ['x', 'y', 'c', 't', 'z']\n",
      "Detected Shape: (19, 900, 600)\n",
      "Channels in file: ['60x DSRED', '60x GFP']\n",
      "Using channel '60x DSRED' at index 0.\n",
      "Saved TIFF: A:\\_Ongoing\\20250128_ActRep_version2_24well\\Output\\60x_DSRED_TIFF\\Act_07_002.tiff\n",
      "\n",
      "Processing ND2 file: Act_07_002.nd2\n",
      "Detected Axes: ['x', 'y', 'c', 't', 'z']\n",
      "Detected Shape: (19, 900, 600)\n",
      "Channels in file: ['60x DSRED', '60x GFP']\n",
      "Using channel '60x GFP' at index 1.\n",
      "Saved TIFF: A:\\_Ongoing\\20250128_ActRep_version2_24well\\Output\\60x_GFP_TIFF\\Act_07_002.tiff\n",
      "\n",
      "--- Processing: Act_07_003.nd2 ---\n",
      "\n",
      "Processing ND2 file: Act_07_003.nd2\n",
      "Detected Axes: ['x', 'y', 'c', 't', 'z']\n",
      "Detected Shape: (19, 900, 600)\n",
      "Channels in file: ['60x DSRED', '60x GFP']\n",
      "Using channel '60x DSRED' at index 0.\n",
      "Saved TIFF: A:\\_Ongoing\\20250128_ActRep_version2_24well\\Output\\60x_DSRED_TIFF\\Act_07_003.tiff\n",
      "\n",
      "Processing ND2 file: Act_07_003.nd2\n",
      "Detected Axes: ['x', 'y', 'c', 't', 'z']\n",
      "Detected Shape: (19, 900, 600)\n",
      "Channels in file: ['60x DSRED', '60x GFP']\n",
      "Using channel '60x GFP' at index 1.\n",
      "Saved TIFF: A:\\_Ongoing\\20250128_ActRep_version2_24well\\Output\\60x_GFP_TIFF\\Act_07_003.tiff\n",
      "\n",
      "--- Processing: Act_08_001.nd2 ---\n",
      "\n",
      "Processing ND2 file: Act_08_001.nd2\n",
      "Detected Axes: ['x', 'y', 'c', 't', 'z']\n",
      "Detected Shape: (19, 900, 600)\n",
      "Channels in file: ['60x DSRED', '60x GFP']\n",
      "Using channel '60x DSRED' at index 0.\n",
      "Saved TIFF: A:\\_Ongoing\\20250128_ActRep_version2_24well\\Output\\60x_DSRED_TIFF\\Act_08_001.tiff\n",
      "\n",
      "Processing ND2 file: Act_08_001.nd2\n",
      "Detected Axes: ['x', 'y', 'c', 't', 'z']\n",
      "Detected Shape: (19, 900, 600)\n",
      "Channels in file: ['60x DSRED', '60x GFP']\n",
      "Using channel '60x GFP' at index 1.\n",
      "Saved TIFF: A:\\_Ongoing\\20250128_ActRep_version2_24well\\Output\\60x_GFP_TIFF\\Act_08_001.tiff\n",
      "\n",
      "--- Processing: Act_08_002.nd2 ---\n",
      "\n",
      "Processing ND2 file: Act_08_002.nd2\n",
      "Detected Axes: ['x', 'y', 'c', 't', 'z']\n",
      "Detected Shape: (19, 900, 600)\n",
      "Channels in file: ['60x DSRED', '60x GFP']\n",
      "Using channel '60x DSRED' at index 0.\n",
      "Saved TIFF: A:\\_Ongoing\\20250128_ActRep_version2_24well\\Output\\60x_DSRED_TIFF\\Act_08_002.tiff\n",
      "\n",
      "Processing ND2 file: Act_08_002.nd2\n",
      "Detected Axes: ['x', 'y', 'c', 't', 'z']\n",
      "Detected Shape: (19, 900, 600)\n",
      "Channels in file: ['60x DSRED', '60x GFP']\n",
      "Using channel '60x GFP' at index 1.\n",
      "Saved TIFF: A:\\_Ongoing\\20250128_ActRep_version2_24well\\Output\\60x_GFP_TIFF\\Act_08_002.tiff\n",
      "\n",
      "--- Processing: Act_08_003.nd2 ---\n",
      "\n",
      "Processing ND2 file: Act_08_003.nd2\n",
      "Detected Axes: ['x', 'y', 'c', 't', 'z']\n",
      "Detected Shape: (19, 900, 600)\n",
      "Channels in file: ['60x DSRED', '60x GFP']\n",
      "Using channel '60x DSRED' at index 0.\n",
      "Saved TIFF: A:\\_Ongoing\\20250128_ActRep_version2_24well\\Output\\60x_DSRED_TIFF\\Act_08_003.tiff\n",
      "\n",
      "Processing ND2 file: Act_08_003.nd2\n",
      "Detected Axes: ['x', 'y', 'c', 't', 'z']\n",
      "Detected Shape: (19, 900, 600)\n",
      "Channels in file: ['60x DSRED', '60x GFP']\n",
      "Using channel '60x GFP' at index 1.\n",
      "Saved TIFF: A:\\_Ongoing\\20250128_ActRep_version2_24well\\Output\\60x_GFP_TIFF\\Act_08_003.tiff\n",
      "\n",
      "--- Processing: Act_09_001.nd2 ---\n",
      "\n",
      "Processing ND2 file: Act_09_001.nd2\n",
      "Detected Axes: ['x', 'y', 'c', 't', 'z']\n",
      "Detected Shape: (19, 900, 600)\n",
      "Channels in file: ['60x DSRED', '60x GFP']\n",
      "Using channel '60x DSRED' at index 0.\n",
      "Saved TIFF: A:\\_Ongoing\\20250128_ActRep_version2_24well\\Output\\60x_DSRED_TIFF\\Act_09_001.tiff\n",
      "\n",
      "Processing ND2 file: Act_09_001.nd2\n",
      "Detected Axes: ['x', 'y', 'c', 't', 'z']\n",
      "Detected Shape: (19, 900, 600)\n",
      "Channels in file: ['60x DSRED', '60x GFP']\n",
      "Using channel '60x GFP' at index 1.\n",
      "Saved TIFF: A:\\_Ongoing\\20250128_ActRep_version2_24well\\Output\\60x_GFP_TIFF\\Act_09_001.tiff\n",
      "\n",
      "--- Processing: Act_09_002.nd2 ---\n",
      "\n",
      "Processing ND2 file: Act_09_002.nd2\n",
      "Detected Axes: ['x', 'y', 'c', 't', 'z']\n",
      "Detected Shape: (19, 900, 600)\n",
      "Channels in file: ['60x DSRED', '60x GFP']\n",
      "Using channel '60x DSRED' at index 0.\n",
      "Saved TIFF: A:\\_Ongoing\\20250128_ActRep_version2_24well\\Output\\60x_DSRED_TIFF\\Act_09_002.tiff\n",
      "\n",
      "Processing ND2 file: Act_09_002.nd2\n",
      "Detected Axes: ['x', 'y', 'c', 't', 'z']\n",
      "Detected Shape: (19, 900, 600)\n",
      "Channels in file: ['60x DSRED', '60x GFP']\n",
      "Using channel '60x GFP' at index 1.\n",
      "Saved TIFF: A:\\_Ongoing\\20250128_ActRep_version2_24well\\Output\\60x_GFP_TIFF\\Act_09_002.tiff\n",
      "\n",
      "--- Processing: Act_09_003.nd2 ---\n",
      "\n",
      "Processing ND2 file: Act_09_003.nd2\n",
      "Detected Axes: ['x', 'y', 'c', 't', 'z']\n",
      "Detected Shape: (19, 900, 600)\n",
      "Channels in file: ['60x DSRED', '60x GFP']\n",
      "Using channel '60x DSRED' at index 0.\n",
      "Saved TIFF: A:\\_Ongoing\\20250128_ActRep_version2_24well\\Output\\60x_DSRED_TIFF\\Act_09_003.tiff\n",
      "\n",
      "Processing ND2 file: Act_09_003.nd2\n",
      "Detected Axes: ['x', 'y', 'c', 't', 'z']\n",
      "Detected Shape: (19, 900, 600)\n",
      "Channels in file: ['60x DSRED', '60x GFP']\n",
      "Using channel '60x GFP' at index 1.\n",
      "Saved TIFF: A:\\_Ongoing\\20250128_ActRep_version2_24well\\Output\\60x_GFP_TIFF\\Act_09_003.tiff\n",
      "\n",
      "--- Processing: Act_10_001.nd2 ---\n",
      "\n",
      "Processing ND2 file: Act_10_001.nd2\n",
      "Detected Axes: ['x', 'y', 'c', 't', 'z']\n",
      "Detected Shape: (19, 900, 600)\n",
      "Channels in file: ['60x DSRED', '60x GFP']\n",
      "Using channel '60x DSRED' at index 0.\n",
      "Saved TIFF: A:\\_Ongoing\\20250128_ActRep_version2_24well\\Output\\60x_DSRED_TIFF\\Act_10_001.tiff\n",
      "\n",
      "Processing ND2 file: Act_10_001.nd2\n",
      "Detected Axes: ['x', 'y', 'c', 't', 'z']\n",
      "Detected Shape: (19, 900, 600)\n",
      "Channels in file: ['60x DSRED', '60x GFP']\n",
      "Using channel '60x GFP' at index 1.\n",
      "Saved TIFF: A:\\_Ongoing\\20250128_ActRep_version2_24well\\Output\\60x_GFP_TIFF\\Act_10_001.tiff\n",
      "\n",
      "--- Processing: Act_10_002.nd2 ---\n",
      "\n",
      "Processing ND2 file: Act_10_002.nd2\n",
      "Detected Axes: ['x', 'y', 'c', 't', 'z']\n",
      "Detected Shape: (19, 900, 600)\n",
      "Channels in file: ['60x DSRED', '60x GFP']\n",
      "Using channel '60x DSRED' at index 0.\n",
      "Saved TIFF: A:\\_Ongoing\\20250128_ActRep_version2_24well\\Output\\60x_DSRED_TIFF\\Act_10_002.tiff\n",
      "\n",
      "Processing ND2 file: Act_10_002.nd2\n",
      "Detected Axes: ['x', 'y', 'c', 't', 'z']\n",
      "Detected Shape: (19, 900, 600)\n",
      "Channels in file: ['60x DSRED', '60x GFP']\n",
      "Using channel '60x GFP' at index 1.\n",
      "Saved TIFF: A:\\_Ongoing\\20250128_ActRep_version2_24well\\Output\\60x_GFP_TIFF\\Act_10_002.tiff\n",
      "\n",
      "--- Processing: Act_10_003.nd2 ---\n",
      "\n",
      "Processing ND2 file: Act_10_003.nd2\n",
      "Detected Axes: ['x', 'y', 'c', 't', 'z']\n",
      "Detected Shape: (19, 900, 600)\n",
      "Channels in file: ['60x DSRED', '60x GFP']\n",
      "Using channel '60x DSRED' at index 0.\n",
      "Saved TIFF: A:\\_Ongoing\\20250128_ActRep_version2_24well\\Output\\60x_DSRED_TIFF\\Act_10_003.tiff\n",
      "\n",
      "Processing ND2 file: Act_10_003.nd2\n",
      "Detected Axes: ['x', 'y', 'c', 't', 'z']\n",
      "Detected Shape: (19, 900, 600)\n",
      "Channels in file: ['60x DSRED', '60x GFP']\n",
      "Using channel '60x GFP' at index 1.\n",
      "Saved TIFF: A:\\_Ongoing\\20250128_ActRep_version2_24well\\Output\\60x_GFP_TIFF\\Act_10_003.tiff\n",
      "\n",
      "--- Processing: Act_11_001.nd2 ---\n",
      "\n",
      "Processing ND2 file: Act_11_001.nd2\n",
      "Detected Axes: ['x', 'y', 'c', 't', 'z']\n",
      "Detected Shape: (19, 900, 600)\n",
      "Channels in file: ['60x DSRED', '60x GFP']\n",
      "Using channel '60x DSRED' at index 0.\n",
      "Saved TIFF: A:\\_Ongoing\\20250128_ActRep_version2_24well\\Output\\60x_DSRED_TIFF\\Act_11_001.tiff\n",
      "\n",
      "Processing ND2 file: Act_11_001.nd2\n",
      "Detected Axes: ['x', 'y', 'c', 't', 'z']\n",
      "Detected Shape: (19, 900, 600)\n",
      "Channels in file: ['60x DSRED', '60x GFP']\n",
      "Using channel '60x GFP' at index 1.\n",
      "Saved TIFF: A:\\_Ongoing\\20250128_ActRep_version2_24well\\Output\\60x_GFP_TIFF\\Act_11_001.tiff\n",
      "\n",
      "--- Processing: Act_11_002.nd2 ---\n",
      "\n",
      "Processing ND2 file: Act_11_002.nd2\n",
      "Detected Axes: ['x', 'y', 'c', 't', 'z']\n",
      "Detected Shape: (19, 900, 600)\n",
      "Channels in file: ['60x DSRED', '60x GFP']\n",
      "Using channel '60x DSRED' at index 0.\n",
      "Saved TIFF: A:\\_Ongoing\\20250128_ActRep_version2_24well\\Output\\60x_DSRED_TIFF\\Act_11_002.tiff\n",
      "\n",
      "Processing ND2 file: Act_11_002.nd2\n",
      "Detected Axes: ['x', 'y', 'c', 't', 'z']\n",
      "Detected Shape: (19, 900, 600)\n",
      "Channels in file: ['60x DSRED', '60x GFP']\n",
      "Using channel '60x GFP' at index 1.\n",
      "Saved TIFF: A:\\_Ongoing\\20250128_ActRep_version2_24well\\Output\\60x_GFP_TIFF\\Act_11_002.tiff\n",
      "\n",
      "--- Processing: Act_11_003.nd2 ---\n",
      "\n",
      "Processing ND2 file: Act_11_003.nd2\n",
      "Detected Axes: ['x', 'y', 'c', 't', 'z']\n",
      "Detected Shape: (19, 900, 600)\n",
      "Channels in file: ['60x DSRED', '60x GFP']\n",
      "Using channel '60x DSRED' at index 0.\n",
      "Saved TIFF: A:\\_Ongoing\\20250128_ActRep_version2_24well\\Output\\60x_DSRED_TIFF\\Act_11_003.tiff\n",
      "\n",
      "Processing ND2 file: Act_11_003.nd2\n",
      "Detected Axes: ['x', 'y', 'c', 't', 'z']\n",
      "Detected Shape: (19, 900, 600)\n",
      "Channels in file: ['60x DSRED', '60x GFP']\n",
      "Using channel '60x GFP' at index 1.\n",
      "Saved TIFF: A:\\_Ongoing\\20250128_ActRep_version2_24well\\Output\\60x_GFP_TIFF\\Act_11_003.tiff\n",
      "\n",
      "--- Processing: Act_12_001.nd2 ---\n",
      "\n",
      "Processing ND2 file: Act_12_001.nd2\n",
      "Detected Axes: ['x', 'y', 'c', 't', 'z']\n",
      "Detected Shape: (19, 900, 600)\n",
      "Channels in file: ['60x DSRED', '60x GFP']\n",
      "Using channel '60x DSRED' at index 0.\n",
      "Saved TIFF: A:\\_Ongoing\\20250128_ActRep_version2_24well\\Output\\60x_DSRED_TIFF\\Act_12_001.tiff\n",
      "\n",
      "Processing ND2 file: Act_12_001.nd2\n",
      "Detected Axes: ['x', 'y', 'c', 't', 'z']\n",
      "Detected Shape: (19, 900, 600)\n",
      "Channels in file: ['60x DSRED', '60x GFP']\n",
      "Using channel '60x GFP' at index 1.\n",
      "Saved TIFF: A:\\_Ongoing\\20250128_ActRep_version2_24well\\Output\\60x_GFP_TIFF\\Act_12_001.tiff\n",
      "\n",
      "--- Processing: Act_12_002.nd2 ---\n",
      "\n",
      "Processing ND2 file: Act_12_002.nd2\n",
      "Detected Axes: ['x', 'y', 'c', 't', 'z']\n",
      "Detected Shape: (19, 900, 600)\n",
      "Channels in file: ['60x DSRED', '60x GFP']\n",
      "Using channel '60x DSRED' at index 0.\n",
      "Saved TIFF: A:\\_Ongoing\\20250128_ActRep_version2_24well\\Output\\60x_DSRED_TIFF\\Act_12_002.tiff\n",
      "\n",
      "Processing ND2 file: Act_12_002.nd2\n",
      "Detected Axes: ['x', 'y', 'c', 't', 'z']\n",
      "Detected Shape: (19, 900, 600)\n",
      "Channels in file: ['60x DSRED', '60x GFP']\n",
      "Using channel '60x GFP' at index 1.\n",
      "Saved TIFF: A:\\_Ongoing\\20250128_ActRep_version2_24well\\Output\\60x_GFP_TIFF\\Act_12_002.tiff\n",
      "\n",
      "--- Processing: Act_12_003.nd2 ---\n",
      "\n",
      "Processing ND2 file: Act_12_003.nd2\n",
      "Detected Axes: ['x', 'y', 'c', 't', 'z']\n",
      "Detected Shape: (19, 900, 600)\n",
      "Channels in file: ['60x DSRED', '60x GFP']\n",
      "Using channel '60x DSRED' at index 0.\n",
      "Saved TIFF: A:\\_Ongoing\\20250128_ActRep_version2_24well\\Output\\60x_DSRED_TIFF\\Act_12_003.tiff\n",
      "\n",
      "Processing ND2 file: Act_12_003.nd2\n",
      "Detected Axes: ['x', 'y', 'c', 't', 'z']\n",
      "Detected Shape: (19, 900, 600)\n",
      "Channels in file: ['60x DSRED', '60x GFP']\n",
      "Using channel '60x GFP' at index 1.\n",
      "Saved TIFF: A:\\_Ongoing\\20250128_ActRep_version2_24well\\Output\\60x_GFP_TIFF\\Act_12_003.tiff\n",
      "\n",
      "--- Processing: Act_13_001.nd2 ---\n",
      "\n",
      "Processing ND2 file: Act_13_001.nd2\n",
      "Detected Axes: ['x', 'y', 'c', 't', 'z']\n",
      "Detected Shape: (19, 900, 600)\n",
      "Channels in file: ['60x DSRED', '60x GFP']\n",
      "Using channel '60x DSRED' at index 0.\n",
      "Saved TIFF: A:\\_Ongoing\\20250128_ActRep_version2_24well\\Output\\60x_DSRED_TIFF\\Act_13_001.tiff\n",
      "\n",
      "Processing ND2 file: Act_13_001.nd2\n",
      "Detected Axes: ['x', 'y', 'c', 't', 'z']\n",
      "Detected Shape: (19, 900, 600)\n",
      "Channels in file: ['60x DSRED', '60x GFP']\n",
      "Using channel '60x GFP' at index 1.\n",
      "Saved TIFF: A:\\_Ongoing\\20250128_ActRep_version2_24well\\Output\\60x_GFP_TIFF\\Act_13_001.tiff\n",
      "\n",
      "--- Processing: Act_13_002.nd2 ---\n",
      "\n",
      "Processing ND2 file: Act_13_002.nd2\n",
      "Detected Axes: ['x', 'y', 'c', 't', 'z']\n",
      "Detected Shape: (19, 900, 600)\n",
      "Channels in file: ['60x DSRED', '60x GFP']\n",
      "Using channel '60x DSRED' at index 0.\n",
      "Saved TIFF: A:\\_Ongoing\\20250128_ActRep_version2_24well\\Output\\60x_DSRED_TIFF\\Act_13_002.tiff\n",
      "\n",
      "Processing ND2 file: Act_13_002.nd2\n",
      "Detected Axes: ['x', 'y', 'c', 't', 'z']\n",
      "Detected Shape: (19, 900, 600)\n",
      "Channels in file: ['60x DSRED', '60x GFP']\n",
      "Using channel '60x GFP' at index 1.\n",
      "Saved TIFF: A:\\_Ongoing\\20250128_ActRep_version2_24well\\Output\\60x_GFP_TIFF\\Act_13_002.tiff\n",
      "\n",
      "--- Processing: Act_13_003.nd2 ---\n",
      "\n",
      "Processing ND2 file: Act_13_003.nd2\n",
      "Detected Axes: ['x', 'y', 'c', 't', 'z']\n",
      "Detected Shape: (19, 900, 600)\n",
      "Channels in file: ['60x DSRED', '60x GFP']\n",
      "Using channel '60x DSRED' at index 0.\n",
      "Saved TIFF: A:\\_Ongoing\\20250128_ActRep_version2_24well\\Output\\60x_DSRED_TIFF\\Act_13_003.tiff\n",
      "\n",
      "Processing ND2 file: Act_13_003.nd2\n",
      "Detected Axes: ['x', 'y', 'c', 't', 'z']\n",
      "Detected Shape: (19, 900, 600)\n",
      "Channels in file: ['60x DSRED', '60x GFP']\n",
      "Using channel '60x GFP' at index 1.\n",
      "Saved TIFF: A:\\_Ongoing\\20250128_ActRep_version2_24well\\Output\\60x_GFP_TIFF\\Act_13_003.tiff\n",
      "\n",
      "--- Processing: Act_14_001.nd2 ---\n",
      "\n",
      "Processing ND2 file: Act_14_001.nd2\n",
      "Detected Axes: ['x', 'y', 'c', 't', 'z']\n",
      "Detected Shape: (19, 900, 600)\n",
      "Channels in file: ['60x DSRED', '60x GFP']\n",
      "Using channel '60x DSRED' at index 0.\n",
      "Saved TIFF: A:\\_Ongoing\\20250128_ActRep_version2_24well\\Output\\60x_DSRED_TIFF\\Act_14_001.tiff\n",
      "\n",
      "Processing ND2 file: Act_14_001.nd2\n",
      "Detected Axes: ['x', 'y', 'c', 't', 'z']\n",
      "Detected Shape: (19, 900, 600)\n",
      "Channels in file: ['60x DSRED', '60x GFP']\n",
      "Using channel '60x GFP' at index 1.\n",
      "Saved TIFF: A:\\_Ongoing\\20250128_ActRep_version2_24well\\Output\\60x_GFP_TIFF\\Act_14_001.tiff\n",
      "\n",
      "--- Processing: Act_14_002.nd2 ---\n",
      "\n",
      "Processing ND2 file: Act_14_002.nd2\n",
      "Detected Axes: ['x', 'y', 'c', 't', 'z']\n",
      "Detected Shape: (19, 900, 600)\n",
      "Channels in file: ['60x DSRED', '60x GFP']\n",
      "Using channel '60x DSRED' at index 0.\n",
      "Saved TIFF: A:\\_Ongoing\\20250128_ActRep_version2_24well\\Output\\60x_DSRED_TIFF\\Act_14_002.tiff\n",
      "\n",
      "Processing ND2 file: Act_14_002.nd2\n",
      "Detected Axes: ['x', 'y', 'c', 't', 'z']\n",
      "Detected Shape: (19, 900, 600)\n",
      "Channels in file: ['60x DSRED', '60x GFP']\n",
      "Using channel '60x GFP' at index 1.\n",
      "Saved TIFF: A:\\_Ongoing\\20250128_ActRep_version2_24well\\Output\\60x_GFP_TIFF\\Act_14_002.tiff\n",
      "\n",
      "--- Processing: Act_14_003.nd2 ---\n",
      "\n",
      "Processing ND2 file: Act_14_003.nd2\n",
      "Detected Axes: ['x', 'y', 'c', 't', 'z']\n",
      "Detected Shape: (19, 900, 600)\n",
      "Channels in file: ['60x DSRED', '60x GFP']\n",
      "Using channel '60x DSRED' at index 0.\n",
      "Saved TIFF: A:\\_Ongoing\\20250128_ActRep_version2_24well\\Output\\60x_DSRED_TIFF\\Act_14_003.tiff\n",
      "\n",
      "Processing ND2 file: Act_14_003.nd2\n",
      "Detected Axes: ['x', 'y', 'c', 't', 'z']\n",
      "Detected Shape: (19, 900, 600)\n",
      "Channels in file: ['60x DSRED', '60x GFP']\n",
      "Using channel '60x GFP' at index 1.\n",
      "Saved TIFF: A:\\_Ongoing\\20250128_ActRep_version2_24well\\Output\\60x_GFP_TIFF\\Act_14_003.tiff\n",
      "\n",
      "--- Processing: Act_15_001.nd2 ---\n",
      "\n",
      "Processing ND2 file: Act_15_001.nd2\n",
      "Detected Axes: ['x', 'y', 'c', 't', 'z']\n",
      "Detected Shape: (19, 900, 600)\n",
      "Channels in file: ['60x DSRED', '60x GFP']\n",
      "Using channel '60x DSRED' at index 0.\n",
      "Saved TIFF: A:\\_Ongoing\\20250128_ActRep_version2_24well\\Output\\60x_DSRED_TIFF\\Act_15_001.tiff\n",
      "\n",
      "Processing ND2 file: Act_15_001.nd2\n",
      "Detected Axes: ['x', 'y', 'c', 't', 'z']\n",
      "Detected Shape: (19, 900, 600)\n",
      "Channels in file: ['60x DSRED', '60x GFP']\n",
      "Using channel '60x GFP' at index 1.\n",
      "Saved TIFF: A:\\_Ongoing\\20250128_ActRep_version2_24well\\Output\\60x_GFP_TIFF\\Act_15_001.tiff\n",
      "\n",
      "--- Processing: Act_15_002.nd2 ---\n",
      "\n",
      "Processing ND2 file: Act_15_002.nd2\n",
      "Detected Axes: ['x', 'y', 'c', 't', 'z']\n",
      "Detected Shape: (19, 900, 600)\n",
      "Channels in file: ['60x DSRED', '60x GFP']\n",
      "Using channel '60x DSRED' at index 0.\n",
      "Saved TIFF: A:\\_Ongoing\\20250128_ActRep_version2_24well\\Output\\60x_DSRED_TIFF\\Act_15_002.tiff\n",
      "\n",
      "Processing ND2 file: Act_15_002.nd2\n",
      "Detected Axes: ['x', 'y', 'c', 't', 'z']\n",
      "Detected Shape: (19, 900, 600)\n",
      "Channels in file: ['60x DSRED', '60x GFP']\n",
      "Using channel '60x GFP' at index 1.\n",
      "Saved TIFF: A:\\_Ongoing\\20250128_ActRep_version2_24well\\Output\\60x_GFP_TIFF\\Act_15_002.tiff\n",
      "\n",
      "--- Processing: Act_15_003.nd2 ---\n",
      "\n",
      "Processing ND2 file: Act_15_003.nd2\n",
      "Detected Axes: ['x', 'y', 'c', 't', 'z']\n",
      "Detected Shape: (19, 900, 600)\n",
      "Channels in file: ['60x DSRED', '60x GFP']\n",
      "Using channel '60x DSRED' at index 0.\n",
      "Saved TIFF: A:\\_Ongoing\\20250128_ActRep_version2_24well\\Output\\60x_DSRED_TIFF\\Act_15_003.tiff\n",
      "\n",
      "Processing ND2 file: Act_15_003.nd2\n",
      "Detected Axes: ['x', 'y', 'c', 't', 'z']\n",
      "Detected Shape: (19, 900, 600)\n",
      "Channels in file: ['60x DSRED', '60x GFP']\n",
      "Using channel '60x GFP' at index 1.\n",
      "Saved TIFF: A:\\_Ongoing\\20250128_ActRep_version2_24well\\Output\\60x_GFP_TIFF\\Act_15_003.tiff\n",
      "\n",
      "--- Processing: Act_16_001.nd2 ---\n",
      "\n",
      "Processing ND2 file: Act_16_001.nd2\n",
      "Detected Axes: ['x', 'y', 'c', 't', 'z']\n",
      "Detected Shape: (19, 900, 600)\n",
      "Channels in file: ['60x DSRED', '60x GFP']\n",
      "Using channel '60x DSRED' at index 0.\n",
      "Saved TIFF: A:\\_Ongoing\\20250128_ActRep_version2_24well\\Output\\60x_DSRED_TIFF\\Act_16_001.tiff\n",
      "\n",
      "Processing ND2 file: Act_16_001.nd2\n",
      "Detected Axes: ['x', 'y', 'c', 't', 'z']\n",
      "Detected Shape: (19, 900, 600)\n",
      "Channels in file: ['60x DSRED', '60x GFP']\n",
      "Using channel '60x GFP' at index 1.\n",
      "Saved TIFF: A:\\_Ongoing\\20250128_ActRep_version2_24well\\Output\\60x_GFP_TIFF\\Act_16_001.tiff\n",
      "\n",
      "--- Processing: Act_16_002.nd2 ---\n",
      "\n",
      "Processing ND2 file: Act_16_002.nd2\n",
      "Detected Axes: ['x', 'y', 'c', 't', 'z']\n",
      "Detected Shape: (19, 900, 600)\n",
      "Channels in file: ['60x DSRED', '60x GFP']\n",
      "Using channel '60x DSRED' at index 0.\n",
      "Saved TIFF: A:\\_Ongoing\\20250128_ActRep_version2_24well\\Output\\60x_DSRED_TIFF\\Act_16_002.tiff\n",
      "\n",
      "Processing ND2 file: Act_16_002.nd2\n",
      "Detected Axes: ['x', 'y', 'c', 't', 'z']\n",
      "Detected Shape: (19, 900, 600)\n",
      "Channels in file: ['60x DSRED', '60x GFP']\n",
      "Using channel '60x GFP' at index 1.\n",
      "Saved TIFF: A:\\_Ongoing\\20250128_ActRep_version2_24well\\Output\\60x_GFP_TIFF\\Act_16_002.tiff\n",
      "\n",
      "--- Processing: Act_16_003.nd2 ---\n",
      "\n",
      "Processing ND2 file: Act_16_003.nd2\n",
      "Detected Axes: ['x', 'y', 'c', 't', 'z']\n",
      "Detected Shape: (19, 900, 600)\n",
      "Channels in file: ['60x DSRED', '60x GFP']\n",
      "Using channel '60x DSRED' at index 0.\n",
      "Saved TIFF: A:\\_Ongoing\\20250128_ActRep_version2_24well\\Output\\60x_DSRED_TIFF\\Act_16_003.tiff\n",
      "\n",
      "Processing ND2 file: Act_16_003.nd2\n",
      "Detected Axes: ['x', 'y', 'c', 't', 'z']\n",
      "Detected Shape: (19, 900, 600)\n",
      "Channels in file: ['60x DSRED', '60x GFP']\n",
      "Using channel '60x GFP' at index 1.\n",
      "Saved TIFF: A:\\_Ongoing\\20250128_ActRep_version2_24well\\Output\\60x_GFP_TIFF\\Act_16_003.tiff\n",
      "\n",
      "--- Processing: Act_17_001.nd2 ---\n",
      "\n",
      "Processing ND2 file: Act_17_001.nd2\n",
      "Detected Axes: ['x', 'y', 'c', 't', 'z']\n",
      "Detected Shape: (19, 900, 600)\n",
      "Channels in file: ['60x DSRED', '60x GFP']\n",
      "Using channel '60x DSRED' at index 0.\n",
      "Saved TIFF: A:\\_Ongoing\\20250128_ActRep_version2_24well\\Output\\60x_DSRED_TIFF\\Act_17_001.tiff\n",
      "\n",
      "Processing ND2 file: Act_17_001.nd2\n",
      "Detected Axes: ['x', 'y', 'c', 't', 'z']\n",
      "Detected Shape: (19, 900, 600)\n",
      "Channels in file: ['60x DSRED', '60x GFP']\n",
      "Using channel '60x GFP' at index 1.\n",
      "Saved TIFF: A:\\_Ongoing\\20250128_ActRep_version2_24well\\Output\\60x_GFP_TIFF\\Act_17_001.tiff\n",
      "\n",
      "--- Processing: Act_17_002.nd2 ---\n",
      "\n",
      "Processing ND2 file: Act_17_002.nd2\n",
      "Detected Axes: ['x', 'y', 'c', 't', 'z']\n",
      "Detected Shape: (19, 900, 600)\n",
      "Channels in file: ['60x DSRED', '60x GFP']\n",
      "Using channel '60x DSRED' at index 0.\n",
      "Saved TIFF: A:\\_Ongoing\\20250128_ActRep_version2_24well\\Output\\60x_DSRED_TIFF\\Act_17_002.tiff\n",
      "\n",
      "Processing ND2 file: Act_17_002.nd2\n",
      "Detected Axes: ['x', 'y', 'c', 't', 'z']\n",
      "Detected Shape: (19, 900, 600)\n",
      "Channels in file: ['60x DSRED', '60x GFP']\n",
      "Using channel '60x GFP' at index 1.\n",
      "Saved TIFF: A:\\_Ongoing\\20250128_ActRep_version2_24well\\Output\\60x_GFP_TIFF\\Act_17_002.tiff\n",
      "\n",
      "--- Processing: Act_17_003.nd2 ---\n",
      "\n",
      "Processing ND2 file: Act_17_003.nd2\n",
      "Detected Axes: ['x', 'y', 'c', 't', 'z']\n",
      "Detected Shape: (19, 900, 600)\n",
      "Channels in file: ['60x DSRED', '60x GFP']\n",
      "Using channel '60x DSRED' at index 0.\n",
      "Saved TIFF: A:\\_Ongoing\\20250128_ActRep_version2_24well\\Output\\60x_DSRED_TIFF\\Act_17_003.tiff\n",
      "\n",
      "Processing ND2 file: Act_17_003.nd2\n",
      "Detected Axes: ['x', 'y', 'c', 't', 'z']\n",
      "Detected Shape: (19, 900, 600)\n",
      "Channels in file: ['60x DSRED', '60x GFP']\n",
      "Using channel '60x GFP' at index 1.\n",
      "Saved TIFF: A:\\_Ongoing\\20250128_ActRep_version2_24well\\Output\\60x_GFP_TIFF\\Act_17_003.tiff\n",
      "\n",
      "--- Processing: Act_18_001.nd2 ---\n",
      "\n",
      "Processing ND2 file: Act_18_001.nd2\n",
      "Detected Axes: ['x', 'y', 'c', 't', 'z']\n",
      "Detected Shape: (19, 900, 600)\n",
      "Channels in file: ['60x DSRED', '60x GFP']\n",
      "Using channel '60x DSRED' at index 0.\n",
      "Saved TIFF: A:\\_Ongoing\\20250128_ActRep_version2_24well\\Output\\60x_DSRED_TIFF\\Act_18_001.tiff\n",
      "\n",
      "Processing ND2 file: Act_18_001.nd2\n",
      "Detected Axes: ['x', 'y', 'c', 't', 'z']\n",
      "Detected Shape: (19, 900, 600)\n",
      "Channels in file: ['60x DSRED', '60x GFP']\n",
      "Using channel '60x GFP' at index 1.\n",
      "Saved TIFF: A:\\_Ongoing\\20250128_ActRep_version2_24well\\Output\\60x_GFP_TIFF\\Act_18_001.tiff\n",
      "\n",
      "--- Processing: Act_18_002.nd2 ---\n",
      "\n",
      "Processing ND2 file: Act_18_002.nd2\n",
      "Detected Axes: ['x', 'y', 'c', 't', 'z']\n",
      "Detected Shape: (19, 900, 600)\n",
      "Channels in file: ['60x DSRED', '60x GFP']\n",
      "Using channel '60x DSRED' at index 0.\n",
      "Saved TIFF: A:\\_Ongoing\\20250128_ActRep_version2_24well\\Output\\60x_DSRED_TIFF\\Act_18_002.tiff\n",
      "\n",
      "Processing ND2 file: Act_18_002.nd2\n",
      "Detected Axes: ['x', 'y', 'c', 't', 'z']\n",
      "Detected Shape: (19, 900, 600)\n",
      "Channels in file: ['60x DSRED', '60x GFP']\n",
      "Using channel '60x GFP' at index 1.\n",
      "Saved TIFF: A:\\_Ongoing\\20250128_ActRep_version2_24well\\Output\\60x_GFP_TIFF\\Act_18_002.tiff\n",
      "\n",
      "--- Processing: Act_18_003.nd2 ---\n",
      "\n",
      "Processing ND2 file: Act_18_003.nd2\n",
      "Detected Axes: ['x', 'y', 'c', 't', 'z']\n",
      "Detected Shape: (19, 900, 600)\n",
      "Channels in file: ['60x DSRED', '60x GFP']\n",
      "Using channel '60x DSRED' at index 0.\n",
      "Saved TIFF: A:\\_Ongoing\\20250128_ActRep_version2_24well\\Output\\60x_DSRED_TIFF\\Act_18_003.tiff\n",
      "\n",
      "Processing ND2 file: Act_18_003.nd2\n",
      "Detected Axes: ['x', 'y', 'c', 't', 'z']\n",
      "Detected Shape: (19, 900, 600)\n",
      "Channels in file: ['60x DSRED', '60x GFP']\n",
      "Using channel '60x GFP' at index 1.\n",
      "Saved TIFF: A:\\_Ongoing\\20250128_ActRep_version2_24well\\Output\\60x_GFP_TIFF\\Act_18_003.tiff\n",
      "\n",
      "--- Processing: Act_19_001.nd2 ---\n",
      "\n",
      "Processing ND2 file: Act_19_001.nd2\n",
      "Detected Axes: ['x', 'y', 'c', 't', 'z']\n",
      "Detected Shape: (19, 900, 600)\n",
      "Channels in file: ['60x DSRED', '60x GFP']\n",
      "Using channel '60x DSRED' at index 0.\n",
      "Saved TIFF: A:\\_Ongoing\\20250128_ActRep_version2_24well\\Output\\60x_DSRED_TIFF\\Act_19_001.tiff\n",
      "\n",
      "Processing ND2 file: Act_19_001.nd2\n",
      "Detected Axes: ['x', 'y', 'c', 't', 'z']\n",
      "Detected Shape: (19, 900, 600)\n",
      "Channels in file: ['60x DSRED', '60x GFP']\n",
      "Using channel '60x GFP' at index 1.\n",
      "Saved TIFF: A:\\_Ongoing\\20250128_ActRep_version2_24well\\Output\\60x_GFP_TIFF\\Act_19_001.tiff\n",
      "\n",
      "--- Processing: Act_19_002.nd2 ---\n",
      "\n",
      "Processing ND2 file: Act_19_002.nd2\n",
      "Detected Axes: ['x', 'y', 'c', 't', 'z']\n",
      "Detected Shape: (19, 900, 600)\n",
      "Channels in file: ['60x DSRED', '60x GFP']\n",
      "Using channel '60x DSRED' at index 0.\n",
      "Saved TIFF: A:\\_Ongoing\\20250128_ActRep_version2_24well\\Output\\60x_DSRED_TIFF\\Act_19_002.tiff\n",
      "\n",
      "Processing ND2 file: Act_19_002.nd2\n",
      "Detected Axes: ['x', 'y', 'c', 't', 'z']\n",
      "Detected Shape: (19, 900, 600)\n",
      "Channels in file: ['60x DSRED', '60x GFP']\n",
      "Using channel '60x GFP' at index 1.\n",
      "Saved TIFF: A:\\_Ongoing\\20250128_ActRep_version2_24well\\Output\\60x_GFP_TIFF\\Act_19_002.tiff\n",
      "\n",
      "--- Processing: Act_19_003.nd2 ---\n",
      "\n",
      "Processing ND2 file: Act_19_003.nd2\n",
      "Detected Axes: ['x', 'y', 'c', 't', 'z']\n",
      "Detected Shape: (19, 900, 600)\n",
      "Channels in file: ['60x DSRED', '60x GFP']\n",
      "Using channel '60x DSRED' at index 0.\n",
      "Saved TIFF: A:\\_Ongoing\\20250128_ActRep_version2_24well\\Output\\60x_DSRED_TIFF\\Act_19_003.tiff\n",
      "\n",
      "Processing ND2 file: Act_19_003.nd2\n",
      "Detected Axes: ['x', 'y', 'c', 't', 'z']\n",
      "Detected Shape: (19, 900, 600)\n",
      "Channels in file: ['60x DSRED', '60x GFP']\n",
      "Using channel '60x GFP' at index 1.\n",
      "Saved TIFF: A:\\_Ongoing\\20250128_ActRep_version2_24well\\Output\\60x_GFP_TIFF\\Act_19_003.tiff\n",
      "\n",
      "--- Processing: Act_20_001.nd2 ---\n",
      "\n",
      "Processing ND2 file: Act_20_001.nd2\n",
      "Detected Axes: ['x', 'y', 'c', 't', 'z']\n",
      "Detected Shape: (19, 900, 600)\n",
      "Channels in file: ['60x DSRED', '60x GFP']\n",
      "Using channel '60x DSRED' at index 0.\n",
      "Saved TIFF: A:\\_Ongoing\\20250128_ActRep_version2_24well\\Output\\60x_DSRED_TIFF\\Act_20_001.tiff\n",
      "\n",
      "Processing ND2 file: Act_20_001.nd2\n",
      "Detected Axes: ['x', 'y', 'c', 't', 'z']\n",
      "Detected Shape: (19, 900, 600)\n",
      "Channels in file: ['60x DSRED', '60x GFP']\n",
      "Using channel '60x GFP' at index 1.\n",
      "Saved TIFF: A:\\_Ongoing\\20250128_ActRep_version2_24well\\Output\\60x_GFP_TIFF\\Act_20_001.tiff\n",
      "\n",
      "--- Processing: Act_20_002.nd2 ---\n",
      "\n",
      "Processing ND2 file: Act_20_002.nd2\n",
      "Detected Axes: ['x', 'y', 'c', 't', 'z']\n",
      "Detected Shape: (19, 900, 600)\n",
      "Channels in file: ['60x DSRED', '60x GFP']\n",
      "Using channel '60x DSRED' at index 0.\n",
      "Saved TIFF: A:\\_Ongoing\\20250128_ActRep_version2_24well\\Output\\60x_DSRED_TIFF\\Act_20_002.tiff\n",
      "\n",
      "Processing ND2 file: Act_20_002.nd2\n",
      "Detected Axes: ['x', 'y', 'c', 't', 'z']\n",
      "Detected Shape: (19, 900, 600)\n",
      "Channels in file: ['60x DSRED', '60x GFP']\n",
      "Using channel '60x GFP' at index 1.\n",
      "Saved TIFF: A:\\_Ongoing\\20250128_ActRep_version2_24well\\Output\\60x_GFP_TIFF\\Act_20_002.tiff\n",
      "\n",
      "--- Processing: Act_20_003.nd2 ---\n",
      "\n",
      "Processing ND2 file: Act_20_003.nd2\n",
      "Detected Axes: ['x', 'y', 'c', 't', 'z']\n",
      "Detected Shape: (19, 900, 600)\n",
      "Channels in file: ['60x DSRED', '60x GFP']\n",
      "Using channel '60x DSRED' at index 0.\n",
      "Saved TIFF: A:\\_Ongoing\\20250128_ActRep_version2_24well\\Output\\60x_DSRED_TIFF\\Act_20_003.tiff\n",
      "\n",
      "Processing ND2 file: Act_20_003.nd2\n",
      "Detected Axes: ['x', 'y', 'c', 't', 'z']\n",
      "Detected Shape: (19, 900, 600)\n",
      "Channels in file: ['60x DSRED', '60x GFP']\n",
      "Using channel '60x GFP' at index 1.\n",
      "Saved TIFF: A:\\_Ongoing\\20250128_ActRep_version2_24well\\Output\\60x_GFP_TIFF\\Act_20_003.tiff\n",
      "\n",
      "--- Processing: Act_22_001.nd2 ---\n",
      "\n",
      "Processing ND2 file: Act_22_001.nd2\n",
      "Detected Axes: ['x', 'y', 'c', 't', 'z']\n",
      "Detected Shape: (19, 900, 600)\n",
      "Channels in file: ['60x DSRED', '60x GFP']\n",
      "Using channel '60x DSRED' at index 0.\n",
      "Saved TIFF: A:\\_Ongoing\\20250128_ActRep_version2_24well\\Output\\60x_DSRED_TIFF\\Act_22_001.tiff\n",
      "\n",
      "Processing ND2 file: Act_22_001.nd2\n",
      "Detected Axes: ['x', 'y', 'c', 't', 'z']\n",
      "Detected Shape: (19, 900, 600)\n",
      "Channels in file: ['60x DSRED', '60x GFP']\n",
      "Using channel '60x GFP' at index 1.\n",
      "Saved TIFF: A:\\_Ongoing\\20250128_ActRep_version2_24well\\Output\\60x_GFP_TIFF\\Act_22_001.tiff\n",
      "\n",
      "--- Processing: Act_22_002.nd2 ---\n",
      "\n",
      "Processing ND2 file: Act_22_002.nd2\n",
      "Detected Axes: ['x', 'y', 'c', 't', 'z']\n",
      "Detected Shape: (19, 900, 600)\n",
      "Channels in file: ['60x DSRED', '60x GFP']\n",
      "Using channel '60x DSRED' at index 0.\n",
      "Saved TIFF: A:\\_Ongoing\\20250128_ActRep_version2_24well\\Output\\60x_DSRED_TIFF\\Act_22_002.tiff\n",
      "\n",
      "Processing ND2 file: Act_22_002.nd2\n",
      "Detected Axes: ['x', 'y', 'c', 't', 'z']\n",
      "Detected Shape: (19, 900, 600)\n",
      "Channels in file: ['60x DSRED', '60x GFP']\n",
      "Using channel '60x GFP' at index 1.\n",
      "Saved TIFF: A:\\_Ongoing\\20250128_ActRep_version2_24well\\Output\\60x_GFP_TIFF\\Act_22_002.tiff\n",
      "\n",
      "--- Processing: Act_22_003.nd2 ---\n",
      "\n",
      "Processing ND2 file: Act_22_003.nd2\n",
      "Detected Axes: ['x', 'y', 'c', 't', 'z']\n",
      "Detected Shape: (19, 900, 600)\n",
      "Channels in file: ['60x DSRED', '60x GFP']\n",
      "Using channel '60x DSRED' at index 0.\n",
      "Saved TIFF: A:\\_Ongoing\\20250128_ActRep_version2_24well\\Output\\60x_DSRED_TIFF\\Act_22_003.tiff\n",
      "\n",
      "Processing ND2 file: Act_22_003.nd2\n",
      "Detected Axes: ['x', 'y', 'c', 't', 'z']\n",
      "Detected Shape: (19, 900, 600)\n",
      "Channels in file: ['60x DSRED', '60x GFP']\n",
      "Using channel '60x GFP' at index 1.\n",
      "Saved TIFF: A:\\_Ongoing\\20250128_ActRep_version2_24well\\Output\\60x_GFP_TIFF\\Act_22_003.tiff\n",
      "\n",
      "--- Processing: Act_23_001.nd2 ---\n",
      "\n",
      "Processing ND2 file: Act_23_001.nd2\n",
      "Detected Axes: ['x', 'y', 'c', 't', 'z']\n",
      "Detected Shape: (19, 900, 600)\n",
      "Channels in file: ['60x DSRED', '60x GFP']\n",
      "Using channel '60x DSRED' at index 0.\n",
      "Saved TIFF: A:\\_Ongoing\\20250128_ActRep_version2_24well\\Output\\60x_DSRED_TIFF\\Act_23_001.tiff\n",
      "\n",
      "Processing ND2 file: Act_23_001.nd2\n",
      "Detected Axes: ['x', 'y', 'c', 't', 'z']\n",
      "Detected Shape: (19, 900, 600)\n",
      "Channels in file: ['60x DSRED', '60x GFP']\n",
      "Using channel '60x GFP' at index 1.\n",
      "Saved TIFF: A:\\_Ongoing\\20250128_ActRep_version2_24well\\Output\\60x_GFP_TIFF\\Act_23_001.tiff\n",
      "\n",
      "--- Processing: Act_23_002.nd2 ---\n",
      "\n",
      "Processing ND2 file: Act_23_002.nd2\n",
      "Detected Axes: ['x', 'y', 'c', 't', 'z']\n",
      "Detected Shape: (19, 900, 600)\n",
      "Channels in file: ['60x DSRED', '60x GFP']\n",
      "Using channel '60x DSRED' at index 0.\n",
      "Saved TIFF: A:\\_Ongoing\\20250128_ActRep_version2_24well\\Output\\60x_DSRED_TIFF\\Act_23_002.tiff\n",
      "\n",
      "Processing ND2 file: Act_23_002.nd2\n",
      "Detected Axes: ['x', 'y', 'c', 't', 'z']\n",
      "Detected Shape: (19, 900, 600)\n",
      "Channels in file: ['60x DSRED', '60x GFP']\n",
      "Using channel '60x GFP' at index 1.\n",
      "Saved TIFF: A:\\_Ongoing\\20250128_ActRep_version2_24well\\Output\\60x_GFP_TIFF\\Act_23_002.tiff\n",
      "\n",
      "--- Processing: Act_23_003.nd2 ---\n",
      "\n",
      "Processing ND2 file: Act_23_003.nd2\n",
      "Detected Axes: ['x', 'y', 'c', 't', 'z']\n",
      "Detected Shape: (19, 900, 600)\n",
      "Channels in file: ['60x DSRED', '60x GFP']\n",
      "Using channel '60x DSRED' at index 0.\n",
      "Saved TIFF: A:\\_Ongoing\\20250128_ActRep_version2_24well\\Output\\60x_DSRED_TIFF\\Act_23_003.tiff\n",
      "\n",
      "Processing ND2 file: Act_23_003.nd2\n",
      "Detected Axes: ['x', 'y', 'c', 't', 'z']\n",
      "Detected Shape: (19, 900, 600)\n",
      "Channels in file: ['60x DSRED', '60x GFP']\n",
      "Using channel '60x GFP' at index 1.\n",
      "Saved TIFF: A:\\_Ongoing\\20250128_ActRep_version2_24well\\Output\\60x_GFP_TIFF\\Act_23_003.tiff\n",
      "\n",
      "--- Processing: Act_24_001.nd2 ---\n",
      "\n",
      "Processing ND2 file: Act_24_001.nd2\n",
      "Detected Axes: ['x', 'y', 'c', 't', 'z']\n",
      "Detected Shape: (19, 900, 600)\n",
      "Channels in file: ['60x DSRED', '60x GFP']\n",
      "Using channel '60x DSRED' at index 0.\n",
      "Saved TIFF: A:\\_Ongoing\\20250128_ActRep_version2_24well\\Output\\60x_DSRED_TIFF\\Act_24_001.tiff\n",
      "\n",
      "Processing ND2 file: Act_24_001.nd2\n",
      "Detected Axes: ['x', 'y', 'c', 't', 'z']\n",
      "Detected Shape: (19, 900, 600)\n",
      "Channels in file: ['60x DSRED', '60x GFP']\n",
      "Using channel '60x GFP' at index 1.\n",
      "Saved TIFF: A:\\_Ongoing\\20250128_ActRep_version2_24well\\Output\\60x_GFP_TIFF\\Act_24_001.tiff\n",
      "\n",
      "--- Processing: Act_24_002.nd2 ---\n",
      "\n",
      "Processing ND2 file: Act_24_002.nd2\n",
      "Detected Axes: ['x', 'y', 'c', 't', 'z']\n",
      "Detected Shape: (19, 900, 600)\n",
      "Channels in file: ['60x DSRED', '60x GFP']\n",
      "Using channel '60x DSRED' at index 0.\n",
      "Saved TIFF: A:\\_Ongoing\\20250128_ActRep_version2_24well\\Output\\60x_DSRED_TIFF\\Act_24_002.tiff\n",
      "\n",
      "Processing ND2 file: Act_24_002.nd2\n",
      "Detected Axes: ['x', 'y', 'c', 't', 'z']\n",
      "Detected Shape: (19, 900, 600)\n",
      "Channels in file: ['60x DSRED', '60x GFP']\n",
      "Using channel '60x GFP' at index 1.\n",
      "Saved TIFF: A:\\_Ongoing\\20250128_ActRep_version2_24well\\Output\\60x_GFP_TIFF\\Act_24_002.tiff\n",
      "\n",
      "--- Processing: Act_24_003.nd2 ---\n",
      "\n",
      "Processing ND2 file: Act_24_003.nd2\n",
      "Detected Axes: ['x', 'y', 'c', 't', 'z']\n",
      "Detected Shape: (19, 900, 600)\n",
      "Channels in file: ['60x DSRED', '60x GFP']\n",
      "Using channel '60x DSRED' at index 0.\n",
      "Saved TIFF: A:\\_Ongoing\\20250128_ActRep_version2_24well\\Output\\60x_DSRED_TIFF\\Act_24_003.tiff\n",
      "\n",
      "Processing ND2 file: Act_24_003.nd2\n",
      "Detected Axes: ['x', 'y', 'c', 't', 'z']\n",
      "Detected Shape: (19, 900, 600)\n",
      "Channels in file: ['60x DSRED', '60x GFP']\n",
      "Using channel '60x GFP' at index 1.\n",
      "Saved TIFF: A:\\_Ongoing\\20250128_ActRep_version2_24well\\Output\\60x_GFP_TIFF\\Act_24_003.tiff\n",
      "\n",
      "--- Processing: Rep_01_001.nd2 ---\n",
      "\n",
      "Processing ND2 file: Rep_01_001.nd2\n",
      "Detected Axes: ['x', 'y', 'c', 't', 'z']\n",
      "Detected Shape: (19, 900, 600)\n",
      "Channels in file: ['60x DSRED', '60x GFP']\n",
      "Using channel '60x DSRED' at index 0.\n",
      "Saved TIFF: A:\\_Ongoing\\20250128_ActRep_version2_24well\\Output\\60x_DSRED_TIFF\\Rep_01_001.tiff\n",
      "\n",
      "Processing ND2 file: Rep_01_001.nd2\n",
      "Detected Axes: ['x', 'y', 'c', 't', 'z']\n",
      "Detected Shape: (19, 900, 600)\n",
      "Channels in file: ['60x DSRED', '60x GFP']\n",
      "Using channel '60x GFP' at index 1.\n",
      "Saved TIFF: A:\\_Ongoing\\20250128_ActRep_version2_24well\\Output\\60x_GFP_TIFF\\Rep_01_001.tiff\n",
      "\n",
      "--- Processing: Rep_01_002.nd2 ---\n",
      "\n",
      "Processing ND2 file: Rep_01_002.nd2\n",
      "Detected Axes: ['x', 'y', 'c', 't', 'z']\n",
      "Detected Shape: (19, 900, 600)\n",
      "Channels in file: ['60x DSRED', '60x GFP']\n",
      "Using channel '60x DSRED' at index 0.\n",
      "Saved TIFF: A:\\_Ongoing\\20250128_ActRep_version2_24well\\Output\\60x_DSRED_TIFF\\Rep_01_002.tiff\n",
      "\n",
      "Processing ND2 file: Rep_01_002.nd2\n",
      "Detected Axes: ['x', 'y', 'c', 't', 'z']\n",
      "Detected Shape: (19, 900, 600)\n",
      "Channels in file: ['60x DSRED', '60x GFP']\n",
      "Using channel '60x GFP' at index 1.\n",
      "Saved TIFF: A:\\_Ongoing\\20250128_ActRep_version2_24well\\Output\\60x_GFP_TIFF\\Rep_01_002.tiff\n",
      "\n",
      "--- Processing: Rep_01_003.nd2 ---\n",
      "\n",
      "Processing ND2 file: Rep_01_003.nd2\n",
      "Detected Axes: ['x', 'y', 'c', 't', 'z']\n",
      "Detected Shape: (19, 900, 600)\n",
      "Channels in file: ['60x DSRED', '60x GFP']\n",
      "Using channel '60x DSRED' at index 0.\n",
      "Saved TIFF: A:\\_Ongoing\\20250128_ActRep_version2_24well\\Output\\60x_DSRED_TIFF\\Rep_01_003.tiff\n",
      "\n",
      "Processing ND2 file: Rep_01_003.nd2\n",
      "Detected Axes: ['x', 'y', 'c', 't', 'z']\n",
      "Detected Shape: (19, 900, 600)\n",
      "Channels in file: ['60x DSRED', '60x GFP']\n",
      "Using channel '60x GFP' at index 1.\n",
      "Saved TIFF: A:\\_Ongoing\\20250128_ActRep_version2_24well\\Output\\60x_GFP_TIFF\\Rep_01_003.tiff\n",
      "\n",
      "--- Processing: Rep_01_004.nd2 ---\n",
      "\n",
      "Processing ND2 file: Rep_01_004.nd2\n",
      "Detected Axes: ['x', 'y', 'c', 't', 'z']\n",
      "Detected Shape: (19, 900, 600)\n",
      "Channels in file: ['60x DSRED', '60x GFP']\n",
      "Using channel '60x DSRED' at index 0.\n",
      "Saved TIFF: A:\\_Ongoing\\20250128_ActRep_version2_24well\\Output\\60x_DSRED_TIFF\\Rep_01_004.tiff\n",
      "\n",
      "Processing ND2 file: Rep_01_004.nd2\n",
      "Detected Axes: ['x', 'y', 'c', 't', 'z']\n",
      "Detected Shape: (19, 900, 600)\n",
      "Channels in file: ['60x DSRED', '60x GFP']\n",
      "Using channel '60x GFP' at index 1.\n",
      "Saved TIFF: A:\\_Ongoing\\20250128_ActRep_version2_24well\\Output\\60x_GFP_TIFF\\Rep_01_004.tiff\n",
      "\n",
      "--- Processing: Rep_01_005.nd2 ---\n",
      "\n",
      "Processing ND2 file: Rep_01_005.nd2\n",
      "Detected Axes: ['x', 'y', 'c', 't', 'z']\n",
      "Detected Shape: (19, 900, 600)\n",
      "Channels in file: ['60x DSRED', '60x GFP']\n",
      "Using channel '60x DSRED' at index 0.\n",
      "Saved TIFF: A:\\_Ongoing\\20250128_ActRep_version2_24well\\Output\\60x_DSRED_TIFF\\Rep_01_005.tiff\n",
      "\n",
      "Processing ND2 file: Rep_01_005.nd2\n",
      "Detected Axes: ['x', 'y', 'c', 't', 'z']\n",
      "Detected Shape: (19, 900, 600)\n",
      "Channels in file: ['60x DSRED', '60x GFP']\n",
      "Using channel '60x GFP' at index 1.\n",
      "Saved TIFF: A:\\_Ongoing\\20250128_ActRep_version2_24well\\Output\\60x_GFP_TIFF\\Rep_01_005.tiff\n",
      "\n",
      "--- Processing: Rep_01_006.nd2 ---\n",
      "\n",
      "Processing ND2 file: Rep_01_006.nd2\n",
      "Detected Axes: ['x', 'y', 'c', 't', 'z']\n",
      "Detected Shape: (19, 900, 600)\n",
      "Channels in file: ['60x DSRED', '60x GFP']\n",
      "Using channel '60x DSRED' at index 0.\n",
      "Saved TIFF: A:\\_Ongoing\\20250128_ActRep_version2_24well\\Output\\60x_DSRED_TIFF\\Rep_01_006.tiff\n",
      "\n",
      "Processing ND2 file: Rep_01_006.nd2\n",
      "Detected Axes: ['x', 'y', 'c', 't', 'z']\n",
      "Detected Shape: (19, 900, 600)\n",
      "Channels in file: ['60x DSRED', '60x GFP']\n",
      "Using channel '60x GFP' at index 1.\n",
      "Saved TIFF: A:\\_Ongoing\\20250128_ActRep_version2_24well\\Output\\60x_GFP_TIFF\\Rep_01_006.tiff\n",
      "\n",
      "--- Processing: Rep_01_007.nd2 ---\n",
      "\n",
      "Processing ND2 file: Rep_01_007.nd2\n",
      "Detected Axes: ['x', 'y', 'c', 't', 'z']\n",
      "Detected Shape: (19, 900, 600)\n",
      "Channels in file: ['60x DSRED', '60x GFP']\n",
      "Using channel '60x DSRED' at index 0.\n",
      "Saved TIFF: A:\\_Ongoing\\20250128_ActRep_version2_24well\\Output\\60x_DSRED_TIFF\\Rep_01_007.tiff\n",
      "\n",
      "Processing ND2 file: Rep_01_007.nd2\n",
      "Detected Axes: ['x', 'y', 'c', 't', 'z']\n",
      "Detected Shape: (19, 900, 600)\n",
      "Channels in file: ['60x DSRED', '60x GFP']\n",
      "Using channel '60x GFP' at index 1.\n",
      "Saved TIFF: A:\\_Ongoing\\20250128_ActRep_version2_24well\\Output\\60x_GFP_TIFF\\Rep_01_007.tiff\n",
      "\n",
      "--- Processing: Rep_01_008.nd2 ---\n",
      "\n",
      "Processing ND2 file: Rep_01_008.nd2\n",
      "Detected Axes: ['x', 'y', 'c', 't', 'z']\n",
      "Detected Shape: (19, 900, 600)\n",
      "Channels in file: ['60x DSRED', '60x GFP']\n",
      "Using channel '60x DSRED' at index 0.\n",
      "Saved TIFF: A:\\_Ongoing\\20250128_ActRep_version2_24well\\Output\\60x_DSRED_TIFF\\Rep_01_008.tiff\n",
      "\n",
      "Processing ND2 file: Rep_01_008.nd2\n",
      "Detected Axes: ['x', 'y', 'c', 't', 'z']\n",
      "Detected Shape: (19, 900, 600)\n",
      "Channels in file: ['60x DSRED', '60x GFP']\n",
      "Using channel '60x GFP' at index 1.\n",
      "Saved TIFF: A:\\_Ongoing\\20250128_ActRep_version2_24well\\Output\\60x_GFP_TIFF\\Rep_01_008.tiff\n",
      "\n",
      "--- Processing: Rep_02_001.nd2 ---\n",
      "\n",
      "Processing ND2 file: Rep_02_001.nd2\n",
      "Detected Axes: ['x', 'y', 'c', 't', 'z']\n",
      "Detected Shape: (19, 900, 600)\n",
      "Channels in file: ['60x DSRED', '60x GFP']\n",
      "Using channel '60x DSRED' at index 0.\n",
      "Saved TIFF: A:\\_Ongoing\\20250128_ActRep_version2_24well\\Output\\60x_DSRED_TIFF\\Rep_02_001.tiff\n",
      "\n",
      "Processing ND2 file: Rep_02_001.nd2\n",
      "Detected Axes: ['x', 'y', 'c', 't', 'z']\n",
      "Detected Shape: (19, 900, 600)\n",
      "Channels in file: ['60x DSRED', '60x GFP']\n",
      "Using channel '60x GFP' at index 1.\n",
      "Saved TIFF: A:\\_Ongoing\\20250128_ActRep_version2_24well\\Output\\60x_GFP_TIFF\\Rep_02_001.tiff\n",
      "\n",
      "--- Processing: Rep_02_002.nd2 ---\n",
      "\n",
      "Processing ND2 file: Rep_02_002.nd2\n",
      "Detected Axes: ['x', 'y', 'c', 't', 'z']\n",
      "Detected Shape: (19, 900, 600)\n",
      "Channels in file: ['60x DSRED', '60x GFP']\n",
      "Using channel '60x DSRED' at index 0.\n",
      "Saved TIFF: A:\\_Ongoing\\20250128_ActRep_version2_24well\\Output\\60x_DSRED_TIFF\\Rep_02_002.tiff\n",
      "\n",
      "Processing ND2 file: Rep_02_002.nd2\n",
      "Detected Axes: ['x', 'y', 'c', 't', 'z']\n",
      "Detected Shape: (19, 900, 600)\n",
      "Channels in file: ['60x DSRED', '60x GFP']\n",
      "Using channel '60x GFP' at index 1.\n",
      "Saved TIFF: A:\\_Ongoing\\20250128_ActRep_version2_24well\\Output\\60x_GFP_TIFF\\Rep_02_002.tiff\n",
      "\n",
      "--- Processing: Rep_02_003.nd2 ---\n",
      "\n",
      "Processing ND2 file: Rep_02_003.nd2\n",
      "Detected Axes: ['x', 'y', 'c', 't', 'z']\n",
      "Detected Shape: (19, 900, 600)\n",
      "Channels in file: ['60x DSRED', '60x GFP']\n",
      "Using channel '60x DSRED' at index 0.\n",
      "Saved TIFF: A:\\_Ongoing\\20250128_ActRep_version2_24well\\Output\\60x_DSRED_TIFF\\Rep_02_003.tiff\n",
      "\n",
      "Processing ND2 file: Rep_02_003.nd2\n",
      "Detected Axes: ['x', 'y', 'c', 't', 'z']\n",
      "Detected Shape: (19, 900, 600)\n",
      "Channels in file: ['60x DSRED', '60x GFP']\n",
      "Using channel '60x GFP' at index 1.\n",
      "Saved TIFF: A:\\_Ongoing\\20250128_ActRep_version2_24well\\Output\\60x_GFP_TIFF\\Rep_02_003.tiff\n",
      "\n",
      "--- Processing: Rep_02_004.nd2 ---\n",
      "\n",
      "Processing ND2 file: Rep_02_004.nd2\n",
      "Detected Axes: ['x', 'y', 'c', 't', 'z']\n",
      "Detected Shape: (19, 900, 600)\n",
      "Channels in file: ['60x DSRED', '60x GFP']\n",
      "Using channel '60x DSRED' at index 0.\n",
      "Saved TIFF: A:\\_Ongoing\\20250128_ActRep_version2_24well\\Output\\60x_DSRED_TIFF\\Rep_02_004.tiff\n",
      "\n",
      "Processing ND2 file: Rep_02_004.nd2\n",
      "Detected Axes: ['x', 'y', 'c', 't', 'z']\n",
      "Detected Shape: (19, 900, 600)\n",
      "Channels in file: ['60x DSRED', '60x GFP']\n",
      "Using channel '60x GFP' at index 1.\n",
      "Saved TIFF: A:\\_Ongoing\\20250128_ActRep_version2_24well\\Output\\60x_GFP_TIFF\\Rep_02_004.tiff\n",
      "\n",
      "--- Processing: Rep_02_005.nd2 ---\n",
      "\n",
      "Processing ND2 file: Rep_02_005.nd2\n",
      "Detected Axes: ['x', 'y', 'c', 't', 'z']\n",
      "Detected Shape: (19, 900, 600)\n",
      "Channels in file: ['60x DSRED', '60x GFP']\n",
      "Using channel '60x DSRED' at index 0.\n",
      "Saved TIFF: A:\\_Ongoing\\20250128_ActRep_version2_24well\\Output\\60x_DSRED_TIFF\\Rep_02_005.tiff\n",
      "\n",
      "Processing ND2 file: Rep_02_005.nd2\n",
      "Detected Axes: ['x', 'y', 'c', 't', 'z']\n",
      "Detected Shape: (19, 900, 600)\n",
      "Channels in file: ['60x DSRED', '60x GFP']\n",
      "Using channel '60x GFP' at index 1.\n",
      "Saved TIFF: A:\\_Ongoing\\20250128_ActRep_version2_24well\\Output\\60x_GFP_TIFF\\Rep_02_005.tiff\n",
      "\n",
      "--- Processing: Rep_02_006.nd2 ---\n",
      "\n",
      "Processing ND2 file: Rep_02_006.nd2\n",
      "Detected Axes: ['x', 'y', 'c', 't', 'z']\n",
      "Detected Shape: (19, 900, 600)\n",
      "Channels in file: ['60x DSRED', '60x GFP']\n",
      "Using channel '60x DSRED' at index 0.\n",
      "Saved TIFF: A:\\_Ongoing\\20250128_ActRep_version2_24well\\Output\\60x_DSRED_TIFF\\Rep_02_006.tiff\n",
      "\n",
      "Processing ND2 file: Rep_02_006.nd2\n",
      "Detected Axes: ['x', 'y', 'c', 't', 'z']\n",
      "Detected Shape: (19, 900, 600)\n",
      "Channels in file: ['60x DSRED', '60x GFP']\n",
      "Using channel '60x GFP' at index 1.\n",
      "Saved TIFF: A:\\_Ongoing\\20250128_ActRep_version2_24well\\Output\\60x_GFP_TIFF\\Rep_02_006.tiff\n",
      "\n",
      "--- Processing: Rep_03_001.nd2 ---\n",
      "\n",
      "Processing ND2 file: Rep_03_001.nd2\n",
      "Detected Axes: ['x', 'y', 'c', 't', 'z']\n",
      "Detected Shape: (19, 900, 600)\n",
      "Channels in file: ['60x DSRED', '60x GFP']\n",
      "Using channel '60x DSRED' at index 0.\n",
      "Saved TIFF: A:\\_Ongoing\\20250128_ActRep_version2_24well\\Output\\60x_DSRED_TIFF\\Rep_03_001.tiff\n",
      "\n",
      "Processing ND2 file: Rep_03_001.nd2\n",
      "Detected Axes: ['x', 'y', 'c', 't', 'z']\n",
      "Detected Shape: (19, 900, 600)\n",
      "Channels in file: ['60x DSRED', '60x GFP']\n",
      "Using channel '60x GFP' at index 1.\n",
      "Saved TIFF: A:\\_Ongoing\\20250128_ActRep_version2_24well\\Output\\60x_GFP_TIFF\\Rep_03_001.tiff\n",
      "\n",
      "--- Processing: Rep_03_002.nd2 ---\n",
      "\n",
      "Processing ND2 file: Rep_03_002.nd2\n",
      "Detected Axes: ['x', 'y', 'c', 't', 'z']\n",
      "Detected Shape: (19, 900, 600)\n",
      "Channels in file: ['60x DSRED', '60x GFP']\n",
      "Using channel '60x DSRED' at index 0.\n",
      "Saved TIFF: A:\\_Ongoing\\20250128_ActRep_version2_24well\\Output\\60x_DSRED_TIFF\\Rep_03_002.tiff\n",
      "\n",
      "Processing ND2 file: Rep_03_002.nd2\n",
      "Detected Axes: ['x', 'y', 'c', 't', 'z']\n",
      "Detected Shape: (19, 900, 600)\n",
      "Channels in file: ['60x DSRED', '60x GFP']\n",
      "Using channel '60x GFP' at index 1.\n",
      "Saved TIFF: A:\\_Ongoing\\20250128_ActRep_version2_24well\\Output\\60x_GFP_TIFF\\Rep_03_002.tiff\n",
      "\n",
      "--- Processing: Rep_03_003.nd2 ---\n",
      "\n",
      "Processing ND2 file: Rep_03_003.nd2\n",
      "Detected Axes: ['x', 'y', 'c', 't', 'z']\n",
      "Detected Shape: (19, 900, 600)\n",
      "Channels in file: ['60x DSRED', '60x GFP']\n",
      "Using channel '60x DSRED' at index 0.\n",
      "Saved TIFF: A:\\_Ongoing\\20250128_ActRep_version2_24well\\Output\\60x_DSRED_TIFF\\Rep_03_003.tiff\n",
      "\n",
      "Processing ND2 file: Rep_03_003.nd2\n",
      "Detected Axes: ['x', 'y', 'c', 't', 'z']\n",
      "Detected Shape: (19, 900, 600)\n",
      "Channels in file: ['60x DSRED', '60x GFP']\n",
      "Using channel '60x GFP' at index 1.\n",
      "Saved TIFF: A:\\_Ongoing\\20250128_ActRep_version2_24well\\Output\\60x_GFP_TIFF\\Rep_03_003.tiff\n",
      "\n",
      "--- Processing: Rep_03_004.nd2 ---\n",
      "\n",
      "Processing ND2 file: Rep_03_004.nd2\n",
      "Detected Axes: ['x', 'y', 'c', 't', 'z']\n",
      "Detected Shape: (19, 900, 600)\n",
      "Channels in file: ['60x DSRED', '60x GFP']\n",
      "Using channel '60x DSRED' at index 0.\n",
      "Saved TIFF: A:\\_Ongoing\\20250128_ActRep_version2_24well\\Output\\60x_DSRED_TIFF\\Rep_03_004.tiff\n",
      "\n",
      "Processing ND2 file: Rep_03_004.nd2\n",
      "Detected Axes: ['x', 'y', 'c', 't', 'z']\n",
      "Detected Shape: (19, 900, 600)\n",
      "Channels in file: ['60x DSRED', '60x GFP']\n",
      "Using channel '60x GFP' at index 1.\n",
      "Saved TIFF: A:\\_Ongoing\\20250128_ActRep_version2_24well\\Output\\60x_GFP_TIFF\\Rep_03_004.tiff\n",
      "\n",
      "--- Processing: Rep_03_005.nd2 ---\n",
      "\n",
      "Processing ND2 file: Rep_03_005.nd2\n",
      "Detected Axes: ['x', 'y', 'c', 't', 'z']\n",
      "Detected Shape: (19, 900, 600)\n",
      "Channels in file: ['60x DSRED', '60x GFP']\n",
      "Using channel '60x DSRED' at index 0.\n",
      "Saved TIFF: A:\\_Ongoing\\20250128_ActRep_version2_24well\\Output\\60x_DSRED_TIFF\\Rep_03_005.tiff\n",
      "\n",
      "Processing ND2 file: Rep_03_005.nd2\n",
      "Detected Axes: ['x', 'y', 'c', 't', 'z']\n",
      "Detected Shape: (19, 900, 600)\n",
      "Channels in file: ['60x DSRED', '60x GFP']\n",
      "Using channel '60x GFP' at index 1.\n",
      "Saved TIFF: A:\\_Ongoing\\20250128_ActRep_version2_24well\\Output\\60x_GFP_TIFF\\Rep_03_005.tiff\n",
      "\n",
      "--- Processing: Rep_03_006.nd2 ---\n",
      "\n",
      "Processing ND2 file: Rep_03_006.nd2\n",
      "Detected Axes: ['x', 'y', 'c', 't', 'z']\n",
      "Detected Shape: (19, 900, 600)\n",
      "Channels in file: ['60x DSRED', '60x GFP']\n",
      "Using channel '60x DSRED' at index 0.\n",
      "Saved TIFF: A:\\_Ongoing\\20250128_ActRep_version2_24well\\Output\\60x_DSRED_TIFF\\Rep_03_006.tiff\n",
      "\n",
      "Processing ND2 file: Rep_03_006.nd2\n",
      "Detected Axes: ['x', 'y', 'c', 't', 'z']\n",
      "Detected Shape: (19, 900, 600)\n",
      "Channels in file: ['60x DSRED', '60x GFP']\n",
      "Using channel '60x GFP' at index 1.\n",
      "Saved TIFF: A:\\_Ongoing\\20250128_ActRep_version2_24well\\Output\\60x_GFP_TIFF\\Rep_03_006.tiff\n",
      "\n",
      "--- Processing: Rep_04_001.nd2 ---\n",
      "\n",
      "Processing ND2 file: Rep_04_001.nd2\n",
      "Detected Axes: ['x', 'y', 'c', 't', 'z']\n",
      "Detected Shape: (19, 900, 600)\n",
      "Channels in file: ['60x DSRED', '60x GFP']\n",
      "Using channel '60x DSRED' at index 0.\n",
      "Saved TIFF: A:\\_Ongoing\\20250128_ActRep_version2_24well\\Output\\60x_DSRED_TIFF\\Rep_04_001.tiff\n",
      "\n",
      "Processing ND2 file: Rep_04_001.nd2\n",
      "Detected Axes: ['x', 'y', 'c', 't', 'z']\n",
      "Detected Shape: (19, 900, 600)\n",
      "Channels in file: ['60x DSRED', '60x GFP']\n",
      "Using channel '60x GFP' at index 1.\n",
      "Saved TIFF: A:\\_Ongoing\\20250128_ActRep_version2_24well\\Output\\60x_GFP_TIFF\\Rep_04_001.tiff\n",
      "\n",
      "--- Processing: Rep_04_002.nd2 ---\n",
      "\n",
      "Processing ND2 file: Rep_04_002.nd2\n",
      "Detected Axes: ['x', 'y', 'c', 't', 'z']\n",
      "Detected Shape: (19, 900, 600)\n",
      "Channels in file: ['60x DSRED', '60x GFP']\n",
      "Using channel '60x DSRED' at index 0.\n",
      "Saved TIFF: A:\\_Ongoing\\20250128_ActRep_version2_24well\\Output\\60x_DSRED_TIFF\\Rep_04_002.tiff\n",
      "\n",
      "Processing ND2 file: Rep_04_002.nd2\n",
      "Detected Axes: ['x', 'y', 'c', 't', 'z']\n",
      "Detected Shape: (19, 900, 600)\n",
      "Channels in file: ['60x DSRED', '60x GFP']\n",
      "Using channel '60x GFP' at index 1.\n",
      "Saved TIFF: A:\\_Ongoing\\20250128_ActRep_version2_24well\\Output\\60x_GFP_TIFF\\Rep_04_002.tiff\n",
      "\n",
      "--- Processing: Rep_04_003.nd2 ---\n",
      "\n",
      "Processing ND2 file: Rep_04_003.nd2\n",
      "Detected Axes: ['x', 'y', 'c', 't', 'z']\n",
      "Detected Shape: (19, 900, 600)\n",
      "Channels in file: ['60x DSRED', '60x GFP']\n",
      "Using channel '60x DSRED' at index 0.\n",
      "Saved TIFF: A:\\_Ongoing\\20250128_ActRep_version2_24well\\Output\\60x_DSRED_TIFF\\Rep_04_003.tiff\n",
      "\n",
      "Processing ND2 file: Rep_04_003.nd2\n",
      "Detected Axes: ['x', 'y', 'c', 't', 'z']\n",
      "Detected Shape: (19, 900, 600)\n",
      "Channels in file: ['60x DSRED', '60x GFP']\n",
      "Using channel '60x GFP' at index 1.\n",
      "Saved TIFF: A:\\_Ongoing\\20250128_ActRep_version2_24well\\Output\\60x_GFP_TIFF\\Rep_04_003.tiff\n",
      "\n",
      "--- Processing: Rep_04_004.nd2 ---\n",
      "\n",
      "Processing ND2 file: Rep_04_004.nd2\n",
      "Detected Axes: ['x', 'y', 'c', 't', 'z']\n",
      "Detected Shape: (19, 900, 600)\n",
      "Channels in file: ['60x DSRED', '60x GFP']\n",
      "Using channel '60x DSRED' at index 0.\n",
      "Saved TIFF: A:\\_Ongoing\\20250128_ActRep_version2_24well\\Output\\60x_DSRED_TIFF\\Rep_04_004.tiff\n",
      "\n",
      "Processing ND2 file: Rep_04_004.nd2\n",
      "Detected Axes: ['x', 'y', 'c', 't', 'z']\n",
      "Detected Shape: (19, 900, 600)\n",
      "Channels in file: ['60x DSRED', '60x GFP']\n",
      "Using channel '60x GFP' at index 1.\n",
      "Saved TIFF: A:\\_Ongoing\\20250128_ActRep_version2_24well\\Output\\60x_GFP_TIFF\\Rep_04_004.tiff\n",
      "\n",
      "--- Processing: Rep_04_005.nd2 ---\n",
      "\n",
      "Processing ND2 file: Rep_04_005.nd2\n",
      "Detected Axes: ['x', 'y', 'c', 't', 'z']\n",
      "Detected Shape: (19, 900, 600)\n",
      "Channels in file: ['60x DSRED', '60x GFP']\n",
      "Using channel '60x DSRED' at index 0.\n",
      "Saved TIFF: A:\\_Ongoing\\20250128_ActRep_version2_24well\\Output\\60x_DSRED_TIFF\\Rep_04_005.tiff\n",
      "\n",
      "Processing ND2 file: Rep_04_005.nd2\n",
      "Detected Axes: ['x', 'y', 'c', 't', 'z']\n",
      "Detected Shape: (19, 900, 600)\n",
      "Channels in file: ['60x DSRED', '60x GFP']\n",
      "Using channel '60x GFP' at index 1.\n",
      "Saved TIFF: A:\\_Ongoing\\20250128_ActRep_version2_24well\\Output\\60x_GFP_TIFF\\Rep_04_005.tiff\n",
      "\n",
      "--- Processing: Rep_04_006.nd2 ---\n",
      "\n",
      "Processing ND2 file: Rep_04_006.nd2\n",
      "Detected Axes: ['x', 'y', 'c', 't', 'z']\n",
      "Detected Shape: (19, 900, 600)\n",
      "Channels in file: ['60x DSRED', '60x GFP']\n",
      "Using channel '60x DSRED' at index 0.\n",
      "Saved TIFF: A:\\_Ongoing\\20250128_ActRep_version2_24well\\Output\\60x_DSRED_TIFF\\Rep_04_006.tiff\n",
      "\n",
      "Processing ND2 file: Rep_04_006.nd2\n",
      "Detected Axes: ['x', 'y', 'c', 't', 'z']\n",
      "Detected Shape: (19, 900, 600)\n",
      "Channels in file: ['60x DSRED', '60x GFP']\n",
      "Using channel '60x GFP' at index 1.\n",
      "Saved TIFF: A:\\_Ongoing\\20250128_ActRep_version2_24well\\Output\\60x_GFP_TIFF\\Rep_04_006.tiff\n",
      "\n",
      "--- Processing: Rep_05_001.nd2 ---\n",
      "\n",
      "Processing ND2 file: Rep_05_001.nd2\n",
      "Detected Axes: ['x', 'y', 'c', 't', 'z']\n",
      "Detected Shape: (19, 900, 600)\n",
      "Channels in file: ['60x DSRED', '60x GFP']\n",
      "Using channel '60x DSRED' at index 0.\n",
      "Saved TIFF: A:\\_Ongoing\\20250128_ActRep_version2_24well\\Output\\60x_DSRED_TIFF\\Rep_05_001.tiff\n",
      "\n",
      "Processing ND2 file: Rep_05_001.nd2\n",
      "Detected Axes: ['x', 'y', 'c', 't', 'z']\n",
      "Detected Shape: (19, 900, 600)\n",
      "Channels in file: ['60x DSRED', '60x GFP']\n",
      "Using channel '60x GFP' at index 1.\n",
      "Saved TIFF: A:\\_Ongoing\\20250128_ActRep_version2_24well\\Output\\60x_GFP_TIFF\\Rep_05_001.tiff\n",
      "\n",
      "--- Processing: Rep_05_002.nd2 ---\n",
      "\n",
      "Processing ND2 file: Rep_05_002.nd2\n",
      "Detected Axes: ['x', 'y', 'c', 't', 'z']\n",
      "Detected Shape: (19, 900, 600)\n",
      "Channels in file: ['60x DSRED', '60x GFP']\n",
      "Using channel '60x DSRED' at index 0.\n",
      "Saved TIFF: A:\\_Ongoing\\20250128_ActRep_version2_24well\\Output\\60x_DSRED_TIFF\\Rep_05_002.tiff\n",
      "\n",
      "Processing ND2 file: Rep_05_002.nd2\n",
      "Detected Axes: ['x', 'y', 'c', 't', 'z']\n",
      "Detected Shape: (19, 900, 600)\n",
      "Channels in file: ['60x DSRED', '60x GFP']\n",
      "Using channel '60x GFP' at index 1.\n",
      "Saved TIFF: A:\\_Ongoing\\20250128_ActRep_version2_24well\\Output\\60x_GFP_TIFF\\Rep_05_002.tiff\n",
      "\n",
      "--- Processing: Rep_05_003.nd2 ---\n",
      "\n",
      "Processing ND2 file: Rep_05_003.nd2\n",
      "Detected Axes: ['x', 'y', 'c', 't', 'z']\n",
      "Detected Shape: (19, 900, 600)\n",
      "Channels in file: ['60x DSRED', '60x GFP']\n",
      "Using channel '60x DSRED' at index 0.\n",
      "Saved TIFF: A:\\_Ongoing\\20250128_ActRep_version2_24well\\Output\\60x_DSRED_TIFF\\Rep_05_003.tiff\n",
      "\n",
      "Processing ND2 file: Rep_05_003.nd2\n",
      "Detected Axes: ['x', 'y', 'c', 't', 'z']\n",
      "Detected Shape: (19, 900, 600)\n",
      "Channels in file: ['60x DSRED', '60x GFP']\n",
      "Using channel '60x GFP' at index 1.\n",
      "Saved TIFF: A:\\_Ongoing\\20250128_ActRep_version2_24well\\Output\\60x_GFP_TIFF\\Rep_05_003.tiff\n",
      "\n",
      "--- Processing: Rep_05_004.nd2 ---\n",
      "\n",
      "Processing ND2 file: Rep_05_004.nd2\n",
      "Detected Axes: ['x', 'y', 'c', 't', 'z']\n",
      "Detected Shape: (19, 900, 600)\n",
      "Channels in file: ['60x DSRED', '60x GFP']\n",
      "Using channel '60x DSRED' at index 0.\n",
      "Saved TIFF: A:\\_Ongoing\\20250128_ActRep_version2_24well\\Output\\60x_DSRED_TIFF\\Rep_05_004.tiff\n",
      "\n",
      "Processing ND2 file: Rep_05_004.nd2\n",
      "Detected Axes: ['x', 'y', 'c', 't', 'z']\n",
      "Detected Shape: (19, 900, 600)\n",
      "Channels in file: ['60x DSRED', '60x GFP']\n",
      "Using channel '60x GFP' at index 1.\n",
      "Saved TIFF: A:\\_Ongoing\\20250128_ActRep_version2_24well\\Output\\60x_GFP_TIFF\\Rep_05_004.tiff\n",
      "\n",
      "--- Processing: Rep_05_005.nd2 ---\n",
      "\n",
      "Processing ND2 file: Rep_05_005.nd2\n",
      "Detected Axes: ['x', 'y', 'c', 't', 'z']\n",
      "Detected Shape: (19, 900, 600)\n",
      "Channels in file: ['60x DSRED', '60x GFP']\n",
      "Using channel '60x DSRED' at index 0.\n",
      "Saved TIFF: A:\\_Ongoing\\20250128_ActRep_version2_24well\\Output\\60x_DSRED_TIFF\\Rep_05_005.tiff\n",
      "\n",
      "Processing ND2 file: Rep_05_005.nd2\n",
      "Detected Axes: ['x', 'y', 'c', 't', 'z']\n",
      "Detected Shape: (19, 900, 600)\n",
      "Channels in file: ['60x DSRED', '60x GFP']\n",
      "Using channel '60x GFP' at index 1.\n",
      "Saved TIFF: A:\\_Ongoing\\20250128_ActRep_version2_24well\\Output\\60x_GFP_TIFF\\Rep_05_005.tiff\n",
      "\n",
      "--- Processing: Rep_05_006.nd2 ---\n",
      "\n",
      "Processing ND2 file: Rep_05_006.nd2\n",
      "Detected Axes: ['x', 'y', 'c', 't', 'z']\n",
      "Detected Shape: (19, 900, 600)\n",
      "Channels in file: ['60x DSRED', '60x GFP']\n",
      "Using channel '60x DSRED' at index 0.\n",
      "Saved TIFF: A:\\_Ongoing\\20250128_ActRep_version2_24well\\Output\\60x_DSRED_TIFF\\Rep_05_006.tiff\n",
      "\n",
      "Processing ND2 file: Rep_05_006.nd2\n",
      "Detected Axes: ['x', 'y', 'c', 't', 'z']\n",
      "Detected Shape: (19, 900, 600)\n",
      "Channels in file: ['60x DSRED', '60x GFP']\n",
      "Using channel '60x GFP' at index 1.\n",
      "Saved TIFF: A:\\_Ongoing\\20250128_ActRep_version2_24well\\Output\\60x_GFP_TIFF\\Rep_05_006.tiff\n",
      "\n",
      "--- Processing: Rep_05_007.nd2 ---\n",
      "\n",
      "Processing ND2 file: Rep_05_007.nd2\n",
      "Detected Axes: ['x', 'y', 'c', 't', 'z']\n",
      "Detected Shape: (19, 900, 600)\n",
      "Channels in file: ['60x DSRED', '60x GFP']\n",
      "Using channel '60x DSRED' at index 0.\n",
      "Saved TIFF: A:\\_Ongoing\\20250128_ActRep_version2_24well\\Output\\60x_DSRED_TIFF\\Rep_05_007.tiff\n",
      "\n",
      "Processing ND2 file: Rep_05_007.nd2\n",
      "Detected Axes: ['x', 'y', 'c', 't', 'z']\n",
      "Detected Shape: (19, 900, 600)\n",
      "Channels in file: ['60x DSRED', '60x GFP']\n",
      "Using channel '60x GFP' at index 1.\n",
      "Saved TIFF: A:\\_Ongoing\\20250128_ActRep_version2_24well\\Output\\60x_GFP_TIFF\\Rep_05_007.tiff\n",
      "\n",
      "--- Processing: Rep_06_001.nd2 ---\n",
      "\n",
      "Processing ND2 file: Rep_06_001.nd2\n",
      "Detected Axes: ['x', 'y', 'c', 't', 'z']\n",
      "Detected Shape: (19, 900, 600)\n",
      "Channels in file: ['60x DSRED', '60x GFP']\n",
      "Using channel '60x DSRED' at index 0.\n",
      "Saved TIFF: A:\\_Ongoing\\20250128_ActRep_version2_24well\\Output\\60x_DSRED_TIFF\\Rep_06_001.tiff\n",
      "\n",
      "Processing ND2 file: Rep_06_001.nd2\n",
      "Detected Axes: ['x', 'y', 'c', 't', 'z']\n",
      "Detected Shape: (19, 900, 600)\n",
      "Channels in file: ['60x DSRED', '60x GFP']\n",
      "Using channel '60x GFP' at index 1.\n",
      "Saved TIFF: A:\\_Ongoing\\20250128_ActRep_version2_24well\\Output\\60x_GFP_TIFF\\Rep_06_001.tiff\n",
      "\n",
      "--- Processing: Rep_06_002.nd2 ---\n",
      "\n",
      "Processing ND2 file: Rep_06_002.nd2\n",
      "Detected Axes: ['x', 'y', 'c', 't', 'z']\n",
      "Detected Shape: (19, 900, 600)\n",
      "Channels in file: ['60x DSRED', '60x GFP']\n",
      "Using channel '60x DSRED' at index 0.\n",
      "Saved TIFF: A:\\_Ongoing\\20250128_ActRep_version2_24well\\Output\\60x_DSRED_TIFF\\Rep_06_002.tiff\n",
      "\n",
      "Processing ND2 file: Rep_06_002.nd2\n",
      "Detected Axes: ['x', 'y', 'c', 't', 'z']\n",
      "Detected Shape: (19, 900, 600)\n",
      "Channels in file: ['60x DSRED', '60x GFP']\n",
      "Using channel '60x GFP' at index 1.\n",
      "Saved TIFF: A:\\_Ongoing\\20250128_ActRep_version2_24well\\Output\\60x_GFP_TIFF\\Rep_06_002.tiff\n",
      "\n",
      "--- Processing: Rep_06_003.nd2 ---\n",
      "\n",
      "Processing ND2 file: Rep_06_003.nd2\n",
      "Detected Axes: ['x', 'y', 'c', 't', 'z']\n",
      "Detected Shape: (19, 900, 600)\n",
      "Channels in file: ['60x DSRED', '60x GFP']\n",
      "Using channel '60x DSRED' at index 0.\n",
      "Saved TIFF: A:\\_Ongoing\\20250128_ActRep_version2_24well\\Output\\60x_DSRED_TIFF\\Rep_06_003.tiff\n",
      "\n",
      "Processing ND2 file: Rep_06_003.nd2\n",
      "Detected Axes: ['x', 'y', 'c', 't', 'z']\n",
      "Detected Shape: (19, 900, 600)\n",
      "Channels in file: ['60x DSRED', '60x GFP']\n",
      "Using channel '60x GFP' at index 1.\n",
      "Saved TIFF: A:\\_Ongoing\\20250128_ActRep_version2_24well\\Output\\60x_GFP_TIFF\\Rep_06_003.tiff\n",
      "\n",
      "--- Processing: Rep_06_004.nd2 ---\n",
      "\n",
      "Processing ND2 file: Rep_06_004.nd2\n",
      "Detected Axes: ['x', 'y', 'c', 't', 'z']\n",
      "Detected Shape: (19, 900, 600)\n",
      "Channels in file: ['60x DSRED', '60x GFP']\n",
      "Using channel '60x DSRED' at index 0.\n",
      "Saved TIFF: A:\\_Ongoing\\20250128_ActRep_version2_24well\\Output\\60x_DSRED_TIFF\\Rep_06_004.tiff\n",
      "\n",
      "Processing ND2 file: Rep_06_004.nd2\n",
      "Detected Axes: ['x', 'y', 'c', 't', 'z']\n",
      "Detected Shape: (19, 900, 600)\n",
      "Channels in file: ['60x DSRED', '60x GFP']\n",
      "Using channel '60x GFP' at index 1.\n",
      "Saved TIFF: A:\\_Ongoing\\20250128_ActRep_version2_24well\\Output\\60x_GFP_TIFF\\Rep_06_004.tiff\n",
      "\n",
      "--- Processing: Rep_06_005.nd2 ---\n",
      "\n",
      "Processing ND2 file: Rep_06_005.nd2\n",
      "Detected Axes: ['x', 'y', 'c', 't', 'z']\n",
      "Detected Shape: (19, 900, 600)\n",
      "Channels in file: ['60x DSRED', '60x GFP']\n",
      "Using channel '60x DSRED' at index 0.\n",
      "Saved TIFF: A:\\_Ongoing\\20250128_ActRep_version2_24well\\Output\\60x_DSRED_TIFF\\Rep_06_005.tiff\n",
      "\n",
      "Processing ND2 file: Rep_06_005.nd2\n",
      "Detected Axes: ['x', 'y', 'c', 't', 'z']\n",
      "Detected Shape: (19, 900, 600)\n",
      "Channels in file: ['60x DSRED', '60x GFP']\n",
      "Using channel '60x GFP' at index 1.\n",
      "Saved TIFF: A:\\_Ongoing\\20250128_ActRep_version2_24well\\Output\\60x_GFP_TIFF\\Rep_06_005.tiff\n",
      "\n",
      "--- Processing: Rep_06_006.nd2 ---\n",
      "\n",
      "Processing ND2 file: Rep_06_006.nd2\n",
      "Detected Axes: ['x', 'y', 'c', 't', 'z']\n",
      "Detected Shape: (19, 900, 600)\n",
      "Channels in file: ['60x DSRED', '60x GFP']\n",
      "Using channel '60x DSRED' at index 0.\n",
      "Saved TIFF: A:\\_Ongoing\\20250128_ActRep_version2_24well\\Output\\60x_DSRED_TIFF\\Rep_06_006.tiff\n",
      "\n",
      "Processing ND2 file: Rep_06_006.nd2\n",
      "Detected Axes: ['x', 'y', 'c', 't', 'z']\n",
      "Detected Shape: (19, 900, 600)\n",
      "Channels in file: ['60x DSRED', '60x GFP']\n",
      "Using channel '60x GFP' at index 1.\n",
      "Saved TIFF: A:\\_Ongoing\\20250128_ActRep_version2_24well\\Output\\60x_GFP_TIFF\\Rep_06_006.tiff\n",
      "\n",
      "--- Processing: Rep_06_007.nd2 ---\n",
      "\n",
      "Processing ND2 file: Rep_06_007.nd2\n",
      "Detected Axes: ['x', 'y', 'c', 't', 'z']\n",
      "Detected Shape: (19, 900, 600)\n",
      "Channels in file: ['60x DSRED', '60x GFP']\n",
      "Using channel '60x DSRED' at index 0.\n",
      "Saved TIFF: A:\\_Ongoing\\20250128_ActRep_version2_24well\\Output\\60x_DSRED_TIFF\\Rep_06_007.tiff\n",
      "\n",
      "Processing ND2 file: Rep_06_007.nd2\n",
      "Detected Axes: ['x', 'y', 'c', 't', 'z']\n",
      "Detected Shape: (19, 900, 600)\n",
      "Channels in file: ['60x DSRED', '60x GFP']\n",
      "Using channel '60x GFP' at index 1.\n",
      "Saved TIFF: A:\\_Ongoing\\20250128_ActRep_version2_24well\\Output\\60x_GFP_TIFF\\Rep_06_007.tiff\n",
      "\n",
      "--- Processing: Rep_07_001.nd2 ---\n",
      "\n",
      "Processing ND2 file: Rep_07_001.nd2\n",
      "Detected Axes: ['x', 'y', 'c', 't', 'z']\n",
      "Detected Shape: (19, 900, 600)\n",
      "Channels in file: ['60x DSRED', '60x GFP']\n",
      "Using channel '60x DSRED' at index 0.\n",
      "Saved TIFF: A:\\_Ongoing\\20250128_ActRep_version2_24well\\Output\\60x_DSRED_TIFF\\Rep_07_001.tiff\n",
      "\n",
      "Processing ND2 file: Rep_07_001.nd2\n",
      "Detected Axes: ['x', 'y', 'c', 't', 'z']\n",
      "Detected Shape: (19, 900, 600)\n",
      "Channels in file: ['60x DSRED', '60x GFP']\n",
      "Using channel '60x GFP' at index 1.\n",
      "Saved TIFF: A:\\_Ongoing\\20250128_ActRep_version2_24well\\Output\\60x_GFP_TIFF\\Rep_07_001.tiff\n",
      "\n",
      "--- Processing: Rep_07_002.nd2 ---\n",
      "\n",
      "Processing ND2 file: Rep_07_002.nd2\n",
      "Detected Axes: ['x', 'y', 'c', 't', 'z']\n",
      "Detected Shape: (19, 900, 600)\n",
      "Channels in file: ['60x DSRED', '60x GFP']\n",
      "Using channel '60x DSRED' at index 0.\n",
      "Saved TIFF: A:\\_Ongoing\\20250128_ActRep_version2_24well\\Output\\60x_DSRED_TIFF\\Rep_07_002.tiff\n",
      "\n",
      "Processing ND2 file: Rep_07_002.nd2\n",
      "Detected Axes: ['x', 'y', 'c', 't', 'z']\n",
      "Detected Shape: (19, 900, 600)\n",
      "Channels in file: ['60x DSRED', '60x GFP']\n",
      "Using channel '60x GFP' at index 1.\n",
      "Saved TIFF: A:\\_Ongoing\\20250128_ActRep_version2_24well\\Output\\60x_GFP_TIFF\\Rep_07_002.tiff\n",
      "\n",
      "--- Processing: Rep_07_003.nd2 ---\n",
      "\n",
      "Processing ND2 file: Rep_07_003.nd2\n",
      "Detected Axes: ['x', 'y', 'c', 't', 'z']\n",
      "Detected Shape: (19, 900, 600)\n",
      "Channels in file: ['60x DSRED', '60x GFP']\n",
      "Using channel '60x DSRED' at index 0.\n",
      "Saved TIFF: A:\\_Ongoing\\20250128_ActRep_version2_24well\\Output\\60x_DSRED_TIFF\\Rep_07_003.tiff\n",
      "\n",
      "Processing ND2 file: Rep_07_003.nd2\n",
      "Detected Axes: ['x', 'y', 'c', 't', 'z']\n",
      "Detected Shape: (19, 900, 600)\n",
      "Channels in file: ['60x DSRED', '60x GFP']\n",
      "Using channel '60x GFP' at index 1.\n",
      "Saved TIFF: A:\\_Ongoing\\20250128_ActRep_version2_24well\\Output\\60x_GFP_TIFF\\Rep_07_003.tiff\n",
      "\n",
      "--- Processing: Rep_07_004.nd2 ---\n",
      "\n",
      "Processing ND2 file: Rep_07_004.nd2\n",
      "Detected Axes: ['x', 'y', 'c', 't', 'z']\n",
      "Detected Shape: (19, 900, 600)\n",
      "Channels in file: ['60x DSRED', '60x GFP']\n",
      "Using channel '60x DSRED' at index 0.\n",
      "Saved TIFF: A:\\_Ongoing\\20250128_ActRep_version2_24well\\Output\\60x_DSRED_TIFF\\Rep_07_004.tiff\n",
      "\n",
      "Processing ND2 file: Rep_07_004.nd2\n",
      "Detected Axes: ['x', 'y', 'c', 't', 'z']\n",
      "Detected Shape: (19, 900, 600)\n",
      "Channels in file: ['60x DSRED', '60x GFP']\n",
      "Using channel '60x GFP' at index 1.\n",
      "Saved TIFF: A:\\_Ongoing\\20250128_ActRep_version2_24well\\Output\\60x_GFP_TIFF\\Rep_07_004.tiff\n",
      "\n",
      "--- Processing: Rep_07_005.nd2 ---\n",
      "\n",
      "Processing ND2 file: Rep_07_005.nd2\n",
      "Detected Axes: ['x', 'y', 'c', 't', 'z']\n",
      "Detected Shape: (19, 900, 600)\n",
      "Channels in file: ['60x DSRED', '60x GFP']\n",
      "Using channel '60x DSRED' at index 0.\n",
      "Saved TIFF: A:\\_Ongoing\\20250128_ActRep_version2_24well\\Output\\60x_DSRED_TIFF\\Rep_07_005.tiff\n",
      "\n",
      "Processing ND2 file: Rep_07_005.nd2\n",
      "Detected Axes: ['x', 'y', 'c', 't', 'z']\n",
      "Detected Shape: (19, 900, 600)\n",
      "Channels in file: ['60x DSRED', '60x GFP']\n",
      "Using channel '60x GFP' at index 1.\n",
      "Saved TIFF: A:\\_Ongoing\\20250128_ActRep_version2_24well\\Output\\60x_GFP_TIFF\\Rep_07_005.tiff\n",
      "\n",
      "--- Processing: Rep_07_006.nd2 ---\n",
      "\n",
      "Processing ND2 file: Rep_07_006.nd2\n",
      "Detected Axes: ['x', 'y', 'c', 't', 'z']\n",
      "Detected Shape: (19, 900, 600)\n",
      "Channels in file: ['60x DSRED', '60x GFP']\n",
      "Using channel '60x DSRED' at index 0.\n",
      "Saved TIFF: A:\\_Ongoing\\20250128_ActRep_version2_24well\\Output\\60x_DSRED_TIFF\\Rep_07_006.tiff\n",
      "\n",
      "Processing ND2 file: Rep_07_006.nd2\n",
      "Detected Axes: ['x', 'y', 'c', 't', 'z']\n",
      "Detected Shape: (19, 900, 600)\n",
      "Channels in file: ['60x DSRED', '60x GFP']\n",
      "Using channel '60x GFP' at index 1.\n",
      "Saved TIFF: A:\\_Ongoing\\20250128_ActRep_version2_24well\\Output\\60x_GFP_TIFF\\Rep_07_006.tiff\n",
      "\n",
      "--- Processing: Rep_08_001.nd2 ---\n",
      "\n",
      "Processing ND2 file: Rep_08_001.nd2\n",
      "Detected Axes: ['x', 'y', 'c', 't', 'z']\n",
      "Detected Shape: (19, 900, 600)\n",
      "Channels in file: ['60x DSRED', '60x GFP']\n",
      "Using channel '60x DSRED' at index 0.\n",
      "Saved TIFF: A:\\_Ongoing\\20250128_ActRep_version2_24well\\Output\\60x_DSRED_TIFF\\Rep_08_001.tiff\n",
      "\n",
      "Processing ND2 file: Rep_08_001.nd2\n",
      "Detected Axes: ['x', 'y', 'c', 't', 'z']\n",
      "Detected Shape: (19, 900, 600)\n",
      "Channels in file: ['60x DSRED', '60x GFP']\n",
      "Using channel '60x GFP' at index 1.\n",
      "Saved TIFF: A:\\_Ongoing\\20250128_ActRep_version2_24well\\Output\\60x_GFP_TIFF\\Rep_08_001.tiff\n",
      "\n",
      "--- Processing: Rep_08_002.nd2 ---\n",
      "\n",
      "Processing ND2 file: Rep_08_002.nd2\n",
      "Detected Axes: ['x', 'y', 'c', 't', 'z']\n",
      "Detected Shape: (19, 900, 600)\n",
      "Channels in file: ['60x DSRED', '60x GFP']\n",
      "Using channel '60x DSRED' at index 0.\n",
      "Saved TIFF: A:\\_Ongoing\\20250128_ActRep_version2_24well\\Output\\60x_DSRED_TIFF\\Rep_08_002.tiff\n",
      "\n",
      "Processing ND2 file: Rep_08_002.nd2\n",
      "Detected Axes: ['x', 'y', 'c', 't', 'z']\n",
      "Detected Shape: (19, 900, 600)\n",
      "Channels in file: ['60x DSRED', '60x GFP']\n",
      "Using channel '60x GFP' at index 1.\n",
      "Saved TIFF: A:\\_Ongoing\\20250128_ActRep_version2_24well\\Output\\60x_GFP_TIFF\\Rep_08_002.tiff\n",
      "\n",
      "--- Processing: Rep_08_003.nd2 ---\n",
      "\n",
      "Processing ND2 file: Rep_08_003.nd2\n",
      "Detected Axes: ['x', 'y', 'c', 't', 'z']\n",
      "Detected Shape: (19, 900, 600)\n",
      "Channels in file: ['60x DSRED', '60x GFP']\n",
      "Using channel '60x DSRED' at index 0.\n",
      "Saved TIFF: A:\\_Ongoing\\20250128_ActRep_version2_24well\\Output\\60x_DSRED_TIFF\\Rep_08_003.tiff\n",
      "\n",
      "Processing ND2 file: Rep_08_003.nd2\n",
      "Detected Axes: ['x', 'y', 'c', 't', 'z']\n",
      "Detected Shape: (19, 900, 600)\n",
      "Channels in file: ['60x DSRED', '60x GFP']\n",
      "Using channel '60x GFP' at index 1.\n",
      "Saved TIFF: A:\\_Ongoing\\20250128_ActRep_version2_24well\\Output\\60x_GFP_TIFF\\Rep_08_003.tiff\n",
      "\n",
      "--- Processing: Rep_08_004.nd2 ---\n",
      "\n",
      "Processing ND2 file: Rep_08_004.nd2\n",
      "Detected Axes: ['x', 'y', 'c', 't', 'z']\n",
      "Detected Shape: (19, 900, 600)\n",
      "Channels in file: ['60x DSRED', '60x GFP']\n",
      "Using channel '60x DSRED' at index 0.\n",
      "Saved TIFF: A:\\_Ongoing\\20250128_ActRep_version2_24well\\Output\\60x_DSRED_TIFF\\Rep_08_004.tiff\n",
      "\n",
      "Processing ND2 file: Rep_08_004.nd2\n",
      "Detected Axes: ['x', 'y', 'c', 't', 'z']\n",
      "Detected Shape: (19, 900, 600)\n",
      "Channels in file: ['60x DSRED', '60x GFP']\n",
      "Using channel '60x GFP' at index 1.\n",
      "Saved TIFF: A:\\_Ongoing\\20250128_ActRep_version2_24well\\Output\\60x_GFP_TIFF\\Rep_08_004.tiff\n",
      "\n",
      "--- Processing: Rep_08_005.nd2 ---\n",
      "\n",
      "Processing ND2 file: Rep_08_005.nd2\n",
      "Detected Axes: ['x', 'y', 'c', 't', 'z']\n",
      "Detected Shape: (19, 900, 600)\n",
      "Channels in file: ['60x DSRED', '60x GFP']\n",
      "Using channel '60x DSRED' at index 0.\n",
      "Saved TIFF: A:\\_Ongoing\\20250128_ActRep_version2_24well\\Output\\60x_DSRED_TIFF\\Rep_08_005.tiff\n",
      "\n",
      "Processing ND2 file: Rep_08_005.nd2\n",
      "Detected Axes: ['x', 'y', 'c', 't', 'z']\n",
      "Detected Shape: (19, 900, 600)\n",
      "Channels in file: ['60x DSRED', '60x GFP']\n",
      "Using channel '60x GFP' at index 1.\n",
      "Saved TIFF: A:\\_Ongoing\\20250128_ActRep_version2_24well\\Output\\60x_GFP_TIFF\\Rep_08_005.tiff\n",
      "\n",
      "--- Processing: Rep_08_006.nd2 ---\n",
      "\n",
      "Processing ND2 file: Rep_08_006.nd2\n",
      "Detected Axes: ['x', 'y', 'c', 't', 'z']\n",
      "Detected Shape: (19, 900, 600)\n",
      "Channels in file: ['60x DSRED', '60x GFP']\n",
      "Using channel '60x DSRED' at index 0.\n",
      "Saved TIFF: A:\\_Ongoing\\20250128_ActRep_version2_24well\\Output\\60x_DSRED_TIFF\\Rep_08_006.tiff\n",
      "\n",
      "Processing ND2 file: Rep_08_006.nd2\n",
      "Detected Axes: ['x', 'y', 'c', 't', 'z']\n",
      "Detected Shape: (19, 900, 600)\n",
      "Channels in file: ['60x DSRED', '60x GFP']\n",
      "Using channel '60x GFP' at index 1.\n",
      "Saved TIFF: A:\\_Ongoing\\20250128_ActRep_version2_24well\\Output\\60x_GFP_TIFF\\Rep_08_006.tiff\n",
      "\n",
      "--- Processing: Rep_08_007.nd2 ---\n",
      "\n",
      "Processing ND2 file: Rep_08_007.nd2\n",
      "Detected Axes: ['x', 'y', 'c', 't', 'z']\n",
      "Detected Shape: (19, 900, 600)\n",
      "Channels in file: ['60x DSRED', '60x GFP']\n",
      "Using channel '60x DSRED' at index 0.\n",
      "Saved TIFF: A:\\_Ongoing\\20250128_ActRep_version2_24well\\Output\\60x_DSRED_TIFF\\Rep_08_007.tiff\n",
      "\n",
      "Processing ND2 file: Rep_08_007.nd2\n",
      "Detected Axes: ['x', 'y', 'c', 't', 'z']\n",
      "Detected Shape: (19, 900, 600)\n",
      "Channels in file: ['60x DSRED', '60x GFP']\n",
      "Using channel '60x GFP' at index 1.\n",
      "Saved TIFF: A:\\_Ongoing\\20250128_ActRep_version2_24well\\Output\\60x_GFP_TIFF\\Rep_08_007.tiff\n",
      "\n",
      "--- Processing: Rep_08_008.nd2 ---\n",
      "\n",
      "Processing ND2 file: Rep_08_008.nd2\n",
      "Detected Axes: ['x', 'y', 'c', 't', 'z']\n",
      "Detected Shape: (19, 900, 600)\n",
      "Channels in file: ['60x DSRED', '60x GFP']\n",
      "Using channel '60x DSRED' at index 0.\n",
      "Saved TIFF: A:\\_Ongoing\\20250128_ActRep_version2_24well\\Output\\60x_DSRED_TIFF\\Rep_08_008.tiff\n",
      "\n",
      "Processing ND2 file: Rep_08_008.nd2\n",
      "Detected Axes: ['x', 'y', 'c', 't', 'z']\n",
      "Detected Shape: (19, 900, 600)\n",
      "Channels in file: ['60x DSRED', '60x GFP']\n",
      "Using channel '60x GFP' at index 1.\n",
      "Saved TIFF: A:\\_Ongoing\\20250128_ActRep_version2_24well\\Output\\60x_GFP_TIFF\\Rep_08_008.tiff\n",
      "\n",
      "--- Processing: Rep_08_009.nd2 ---\n",
      "\n",
      "Processing ND2 file: Rep_08_009.nd2\n",
      "Detected Axes: ['x', 'y', 'c', 't', 'z']\n",
      "Detected Shape: (19, 900, 600)\n",
      "Channels in file: ['60x DSRED', '60x GFP']\n",
      "Using channel '60x DSRED' at index 0.\n",
      "Saved TIFF: A:\\_Ongoing\\20250128_ActRep_version2_24well\\Output\\60x_DSRED_TIFF\\Rep_08_009.tiff\n",
      "\n",
      "Processing ND2 file: Rep_08_009.nd2\n",
      "Detected Axes: ['x', 'y', 'c', 't', 'z']\n",
      "Detected Shape: (19, 900, 600)\n",
      "Channels in file: ['60x DSRED', '60x GFP']\n",
      "Using channel '60x GFP' at index 1.\n",
      "Saved TIFF: A:\\_Ongoing\\20250128_ActRep_version2_24well\\Output\\60x_GFP_TIFF\\Rep_08_009.tiff\n",
      "\n",
      "--- Processing: Rep_08_010.nd2 ---\n",
      "\n",
      "Processing ND2 file: Rep_08_010.nd2\n",
      "Detected Axes: ['x', 'y', 'c', 't', 'z']\n",
      "Detected Shape: (19, 900, 600)\n",
      "Channels in file: ['60x DSRED', '60x GFP']\n",
      "Using channel '60x DSRED' at index 0.\n",
      "Saved TIFF: A:\\_Ongoing\\20250128_ActRep_version2_24well\\Output\\60x_DSRED_TIFF\\Rep_08_010.tiff\n",
      "\n",
      "Processing ND2 file: Rep_08_010.nd2\n",
      "Detected Axes: ['x', 'y', 'c', 't', 'z']\n",
      "Detected Shape: (19, 900, 600)\n",
      "Channels in file: ['60x DSRED', '60x GFP']\n",
      "Using channel '60x GFP' at index 1.\n",
      "Saved TIFF: A:\\_Ongoing\\20250128_ActRep_version2_24well\\Output\\60x_GFP_TIFF\\Rep_08_010.tiff\n",
      "\n",
      "--- Processing: Rep_09_001.nd2 ---\n",
      "\n",
      "Processing ND2 file: Rep_09_001.nd2\n",
      "Detected Axes: ['x', 'y', 'c', 't', 'z']\n",
      "Detected Shape: (19, 900, 600)\n",
      "Channels in file: ['60x DSRED', '60x GFP']\n",
      "Using channel '60x DSRED' at index 0.\n",
      "Saved TIFF: A:\\_Ongoing\\20250128_ActRep_version2_24well\\Output\\60x_DSRED_TIFF\\Rep_09_001.tiff\n",
      "\n",
      "Processing ND2 file: Rep_09_001.nd2\n",
      "Detected Axes: ['x', 'y', 'c', 't', 'z']\n",
      "Detected Shape: (19, 900, 600)\n",
      "Channels in file: ['60x DSRED', '60x GFP']\n",
      "Using channel '60x GFP' at index 1.\n",
      "Saved TIFF: A:\\_Ongoing\\20250128_ActRep_version2_24well\\Output\\60x_GFP_TIFF\\Rep_09_001.tiff\n",
      "\n",
      "--- Processing: Rep_09_002.nd2 ---\n",
      "\n",
      "Processing ND2 file: Rep_09_002.nd2\n",
      "Detected Axes: ['x', 'y', 'c', 't', 'z']\n",
      "Detected Shape: (19, 900, 600)\n",
      "Channels in file: ['60x DSRED', '60x GFP']\n",
      "Using channel '60x DSRED' at index 0.\n",
      "Saved TIFF: A:\\_Ongoing\\20250128_ActRep_version2_24well\\Output\\60x_DSRED_TIFF\\Rep_09_002.tiff\n",
      "\n",
      "Processing ND2 file: Rep_09_002.nd2\n",
      "Detected Axes: ['x', 'y', 'c', 't', 'z']\n",
      "Detected Shape: (19, 900, 600)\n",
      "Channels in file: ['60x DSRED', '60x GFP']\n",
      "Using channel '60x GFP' at index 1.\n",
      "Saved TIFF: A:\\_Ongoing\\20250128_ActRep_version2_24well\\Output\\60x_GFP_TIFF\\Rep_09_002.tiff\n",
      "\n",
      "--- Processing: Rep_09_003.nd2 ---\n",
      "\n",
      "Processing ND2 file: Rep_09_003.nd2\n",
      "Detected Axes: ['x', 'y', 'c', 't', 'z']\n",
      "Detected Shape: (19, 900, 600)\n",
      "Channels in file: ['60x DSRED', '60x GFP']\n",
      "Using channel '60x DSRED' at index 0.\n",
      "Saved TIFF: A:\\_Ongoing\\20250128_ActRep_version2_24well\\Output\\60x_DSRED_TIFF\\Rep_09_003.tiff\n",
      "\n",
      "Processing ND2 file: Rep_09_003.nd2\n",
      "Detected Axes: ['x', 'y', 'c', 't', 'z']\n",
      "Detected Shape: (19, 900, 600)\n",
      "Channels in file: ['60x DSRED', '60x GFP']\n",
      "Using channel '60x GFP' at index 1.\n",
      "Saved TIFF: A:\\_Ongoing\\20250128_ActRep_version2_24well\\Output\\60x_GFP_TIFF\\Rep_09_003.tiff\n",
      "\n",
      "--- Processing: Rep_09_004.nd2 ---\n",
      "\n",
      "Processing ND2 file: Rep_09_004.nd2\n",
      "Detected Axes: ['x', 'y', 'c', 't', 'z']\n",
      "Detected Shape: (19, 900, 600)\n",
      "Channels in file: ['60x DSRED', '60x GFP']\n",
      "Using channel '60x DSRED' at index 0.\n",
      "Saved TIFF: A:\\_Ongoing\\20250128_ActRep_version2_24well\\Output\\60x_DSRED_TIFF\\Rep_09_004.tiff\n",
      "\n",
      "Processing ND2 file: Rep_09_004.nd2\n",
      "Detected Axes: ['x', 'y', 'c', 't', 'z']\n",
      "Detected Shape: (19, 900, 600)\n",
      "Channels in file: ['60x DSRED', '60x GFP']\n",
      "Using channel '60x GFP' at index 1.\n",
      "Saved TIFF: A:\\_Ongoing\\20250128_ActRep_version2_24well\\Output\\60x_GFP_TIFF\\Rep_09_004.tiff\n",
      "\n",
      "--- Processing: Rep_09_005.nd2 ---\n",
      "\n",
      "Processing ND2 file: Rep_09_005.nd2\n",
      "Detected Axes: ['x', 'y', 'c', 't', 'z']\n",
      "Detected Shape: (19, 900, 600)\n",
      "Channels in file: ['60x DSRED', '60x GFP']\n",
      "Using channel '60x DSRED' at index 0.\n",
      "Saved TIFF: A:\\_Ongoing\\20250128_ActRep_version2_24well\\Output\\60x_DSRED_TIFF\\Rep_09_005.tiff\n",
      "\n",
      "Processing ND2 file: Rep_09_005.nd2\n",
      "Detected Axes: ['x', 'y', 'c', 't', 'z']\n",
      "Detected Shape: (19, 900, 600)\n",
      "Channels in file: ['60x DSRED', '60x GFP']\n",
      "Using channel '60x GFP' at index 1.\n",
      "Saved TIFF: A:\\_Ongoing\\20250128_ActRep_version2_24well\\Output\\60x_GFP_TIFF\\Rep_09_005.tiff\n",
      "\n",
      "--- Processing: Rep_09_006.nd2 ---\n",
      "\n",
      "Processing ND2 file: Rep_09_006.nd2\n",
      "Detected Axes: ['x', 'y', 'c', 't', 'z']\n",
      "Detected Shape: (19, 900, 600)\n",
      "Channels in file: ['60x DSRED', '60x GFP']\n",
      "Using channel '60x DSRED' at index 0.\n",
      "Saved TIFF: A:\\_Ongoing\\20250128_ActRep_version2_24well\\Output\\60x_DSRED_TIFF\\Rep_09_006.tiff\n",
      "\n",
      "Processing ND2 file: Rep_09_006.nd2\n",
      "Detected Axes: ['x', 'y', 'c', 't', 'z']\n",
      "Detected Shape: (19, 900, 600)\n",
      "Channels in file: ['60x DSRED', '60x GFP']\n",
      "Using channel '60x GFP' at index 1.\n",
      "Saved TIFF: A:\\_Ongoing\\20250128_ActRep_version2_24well\\Output\\60x_GFP_TIFF\\Rep_09_006.tiff\n",
      "\n",
      "--- Processing: Rep_09_007.nd2 ---\n",
      "\n",
      "Processing ND2 file: Rep_09_007.nd2\n",
      "Detected Axes: ['x', 'y', 'c', 't', 'z']\n",
      "Detected Shape: (19, 900, 600)\n",
      "Channels in file: ['60x DSRED', '60x GFP']\n",
      "Using channel '60x DSRED' at index 0.\n",
      "Saved TIFF: A:\\_Ongoing\\20250128_ActRep_version2_24well\\Output\\60x_DSRED_TIFF\\Rep_09_007.tiff\n",
      "\n",
      "Processing ND2 file: Rep_09_007.nd2\n",
      "Detected Axes: ['x', 'y', 'c', 't', 'z']\n",
      "Detected Shape: (19, 900, 600)\n",
      "Channels in file: ['60x DSRED', '60x GFP']\n",
      "Using channel '60x GFP' at index 1.\n",
      "Saved TIFF: A:\\_Ongoing\\20250128_ActRep_version2_24well\\Output\\60x_GFP_TIFF\\Rep_09_007.tiff\n",
      "\n",
      "--- Processing: Rep_09_008.nd2 ---\n",
      "\n",
      "Processing ND2 file: Rep_09_008.nd2\n",
      "Detected Axes: ['x', 'y', 'c', 't', 'z']\n",
      "Detected Shape: (19, 900, 600)\n",
      "Channels in file: ['60x DSRED', '60x GFP']\n",
      "Using channel '60x DSRED' at index 0.\n",
      "Saved TIFF: A:\\_Ongoing\\20250128_ActRep_version2_24well\\Output\\60x_DSRED_TIFF\\Rep_09_008.tiff\n",
      "\n",
      "Processing ND2 file: Rep_09_008.nd2\n",
      "Detected Axes: ['x', 'y', 'c', 't', 'z']\n",
      "Detected Shape: (19, 900, 600)\n",
      "Channels in file: ['60x DSRED', '60x GFP']\n",
      "Using channel '60x GFP' at index 1.\n",
      "Saved TIFF: A:\\_Ongoing\\20250128_ActRep_version2_24well\\Output\\60x_GFP_TIFF\\Rep_09_008.tiff\n",
      "\n",
      "--- Processing: Rep_09_009.nd2 ---\n",
      "\n",
      "Processing ND2 file: Rep_09_009.nd2\n",
      "Detected Axes: ['x', 'y', 'c', 't', 'z']\n",
      "Detected Shape: (19, 900, 600)\n",
      "Channels in file: ['60x DSRED', '60x GFP']\n",
      "Using channel '60x DSRED' at index 0.\n",
      "Saved TIFF: A:\\_Ongoing\\20250128_ActRep_version2_24well\\Output\\60x_DSRED_TIFF\\Rep_09_009.tiff\n",
      "\n",
      "Processing ND2 file: Rep_09_009.nd2\n",
      "Detected Axes: ['x', 'y', 'c', 't', 'z']\n",
      "Detected Shape: (19, 900, 600)\n",
      "Channels in file: ['60x DSRED', '60x GFP']\n",
      "Using channel '60x GFP' at index 1.\n",
      "Saved TIFF: A:\\_Ongoing\\20250128_ActRep_version2_24well\\Output\\60x_GFP_TIFF\\Rep_09_009.tiff\n",
      "\n",
      "--- Processing: Rep_10_001.nd2 ---\n",
      "\n",
      "Processing ND2 file: Rep_10_001.nd2\n",
      "Detected Axes: ['x', 'y', 'c', 't', 'z']\n",
      "Detected Shape: (19, 900, 600)\n",
      "Channels in file: ['60x DSRED', '60x GFP']\n",
      "Using channel '60x DSRED' at index 0.\n",
      "Saved TIFF: A:\\_Ongoing\\20250128_ActRep_version2_24well\\Output\\60x_DSRED_TIFF\\Rep_10_001.tiff\n",
      "\n",
      "Processing ND2 file: Rep_10_001.nd2\n",
      "Detected Axes: ['x', 'y', 'c', 't', 'z']\n",
      "Detected Shape: (19, 900, 600)\n",
      "Channels in file: ['60x DSRED', '60x GFP']\n",
      "Using channel '60x GFP' at index 1.\n",
      "Saved TIFF: A:\\_Ongoing\\20250128_ActRep_version2_24well\\Output\\60x_GFP_TIFF\\Rep_10_001.tiff\n",
      "\n",
      "--- Processing: Rep_10_002.nd2 ---\n",
      "\n",
      "Processing ND2 file: Rep_10_002.nd2\n",
      "Detected Axes: ['x', 'y', 'c', 't', 'z']\n",
      "Detected Shape: (19, 900, 600)\n",
      "Channels in file: ['60x DSRED', '60x GFP']\n",
      "Using channel '60x DSRED' at index 0.\n",
      "Saved TIFF: A:\\_Ongoing\\20250128_ActRep_version2_24well\\Output\\60x_DSRED_TIFF\\Rep_10_002.tiff\n",
      "\n",
      "Processing ND2 file: Rep_10_002.nd2\n",
      "Detected Axes: ['x', 'y', 'c', 't', 'z']\n",
      "Detected Shape: (19, 900, 600)\n",
      "Channels in file: ['60x DSRED', '60x GFP']\n",
      "Using channel '60x GFP' at index 1.\n",
      "Saved TIFF: A:\\_Ongoing\\20250128_ActRep_version2_24well\\Output\\60x_GFP_TIFF\\Rep_10_002.tiff\n",
      "\n",
      "--- Processing: Rep_10_003.nd2 ---\n",
      "\n",
      "Processing ND2 file: Rep_10_003.nd2\n",
      "Detected Axes: ['x', 'y', 'c', 't', 'z']\n",
      "Detected Shape: (19, 900, 600)\n",
      "Channels in file: ['60x DSRED', '60x GFP']\n",
      "Using channel '60x DSRED' at index 0.\n",
      "Saved TIFF: A:\\_Ongoing\\20250128_ActRep_version2_24well\\Output\\60x_DSRED_TIFF\\Rep_10_003.tiff\n",
      "\n",
      "Processing ND2 file: Rep_10_003.nd2\n",
      "Detected Axes: ['x', 'y', 'c', 't', 'z']\n",
      "Detected Shape: (19, 900, 600)\n",
      "Channels in file: ['60x DSRED', '60x GFP']\n",
      "Using channel '60x GFP' at index 1.\n",
      "Saved TIFF: A:\\_Ongoing\\20250128_ActRep_version2_24well\\Output\\60x_GFP_TIFF\\Rep_10_003.tiff\n",
      "\n",
      "--- Processing: Rep_10_004.nd2 ---\n",
      "\n",
      "Processing ND2 file: Rep_10_004.nd2\n",
      "Detected Axes: ['x', 'y', 'c', 't', 'z']\n",
      "Detected Shape: (19, 900, 600)\n",
      "Channels in file: ['60x DSRED', '60x GFP']\n",
      "Using channel '60x DSRED' at index 0.\n",
      "Saved TIFF: A:\\_Ongoing\\20250128_ActRep_version2_24well\\Output\\60x_DSRED_TIFF\\Rep_10_004.tiff\n",
      "\n",
      "Processing ND2 file: Rep_10_004.nd2\n",
      "Detected Axes: ['x', 'y', 'c', 't', 'z']\n",
      "Detected Shape: (19, 900, 600)\n",
      "Channels in file: ['60x DSRED', '60x GFP']\n",
      "Using channel '60x GFP' at index 1.\n",
      "Saved TIFF: A:\\_Ongoing\\20250128_ActRep_version2_24well\\Output\\60x_GFP_TIFF\\Rep_10_004.tiff\n",
      "\n",
      "--- Processing: Rep_10_005.nd2 ---\n",
      "\n",
      "Processing ND2 file: Rep_10_005.nd2\n",
      "Detected Axes: ['x', 'y', 'c', 't', 'z']\n",
      "Detected Shape: (19, 900, 600)\n",
      "Channels in file: ['60x DSRED', '60x GFP']\n",
      "Using channel '60x DSRED' at index 0.\n",
      "Saved TIFF: A:\\_Ongoing\\20250128_ActRep_version2_24well\\Output\\60x_DSRED_TIFF\\Rep_10_005.tiff\n",
      "\n",
      "Processing ND2 file: Rep_10_005.nd2\n",
      "Detected Axes: ['x', 'y', 'c', 't', 'z']\n",
      "Detected Shape: (19, 900, 600)\n",
      "Channels in file: ['60x DSRED', '60x GFP']\n",
      "Using channel '60x GFP' at index 1.\n",
      "Saved TIFF: A:\\_Ongoing\\20250128_ActRep_version2_24well\\Output\\60x_GFP_TIFF\\Rep_10_005.tiff\n",
      "\n",
      "--- Processing: Rep_10_006.nd2 ---\n",
      "\n",
      "Processing ND2 file: Rep_10_006.nd2\n",
      "Detected Axes: ['x', 'y', 'c', 't', 'z']\n",
      "Detected Shape: (19, 900, 600)\n",
      "Channels in file: ['60x DSRED', '60x GFP']\n",
      "Using channel '60x DSRED' at index 0.\n",
      "Saved TIFF: A:\\_Ongoing\\20250128_ActRep_version2_24well\\Output\\60x_DSRED_TIFF\\Rep_10_006.tiff\n",
      "\n",
      "Processing ND2 file: Rep_10_006.nd2\n",
      "Detected Axes: ['x', 'y', 'c', 't', 'z']\n",
      "Detected Shape: (19, 900, 600)\n",
      "Channels in file: ['60x DSRED', '60x GFP']\n",
      "Using channel '60x GFP' at index 1.\n",
      "Saved TIFF: A:\\_Ongoing\\20250128_ActRep_version2_24well\\Output\\60x_GFP_TIFF\\Rep_10_006.tiff\n",
      "\n",
      "--- Processing: Rep_10_007.nd2 ---\n",
      "\n",
      "Processing ND2 file: Rep_10_007.nd2\n",
      "Detected Axes: ['x', 'y', 'c', 't', 'z']\n",
      "Detected Shape: (19, 900, 600)\n",
      "Channels in file: ['60x DSRED', '60x GFP']\n",
      "Using channel '60x DSRED' at index 0.\n",
      "Saved TIFF: A:\\_Ongoing\\20250128_ActRep_version2_24well\\Output\\60x_DSRED_TIFF\\Rep_10_007.tiff\n",
      "\n",
      "Processing ND2 file: Rep_10_007.nd2\n",
      "Detected Axes: ['x', 'y', 'c', 't', 'z']\n",
      "Detected Shape: (19, 900, 600)\n",
      "Channels in file: ['60x DSRED', '60x GFP']\n",
      "Using channel '60x GFP' at index 1.\n",
      "Saved TIFF: A:\\_Ongoing\\20250128_ActRep_version2_24well\\Output\\60x_GFP_TIFF\\Rep_10_007.tiff\n",
      "\n",
      "--- Processing: Rep_11_001.nd2 ---\n",
      "\n",
      "Processing ND2 file: Rep_11_001.nd2\n",
      "Detected Axes: ['x', 'y', 'c', 't', 'z']\n",
      "Detected Shape: (19, 900, 600)\n",
      "Channels in file: ['60x DSRED', '60x GFP']\n",
      "Using channel '60x DSRED' at index 0.\n",
      "Saved TIFF: A:\\_Ongoing\\20250128_ActRep_version2_24well\\Output\\60x_DSRED_TIFF\\Rep_11_001.tiff\n",
      "\n",
      "Processing ND2 file: Rep_11_001.nd2\n",
      "Detected Axes: ['x', 'y', 'c', 't', 'z']\n",
      "Detected Shape: (19, 900, 600)\n",
      "Channels in file: ['60x DSRED', '60x GFP']\n",
      "Using channel '60x GFP' at index 1.\n",
      "Saved TIFF: A:\\_Ongoing\\20250128_ActRep_version2_24well\\Output\\60x_GFP_TIFF\\Rep_11_001.tiff\n",
      "\n",
      "--- Processing: Rep_11_002.nd2 ---\n",
      "\n",
      "Processing ND2 file: Rep_11_002.nd2\n",
      "Detected Axes: ['x', 'y', 'c', 't', 'z']\n",
      "Detected Shape: (19, 900, 600)\n",
      "Channels in file: ['60x DSRED', '60x GFP']\n",
      "Using channel '60x DSRED' at index 0.\n",
      "Saved TIFF: A:\\_Ongoing\\20250128_ActRep_version2_24well\\Output\\60x_DSRED_TIFF\\Rep_11_002.tiff\n",
      "\n",
      "Processing ND2 file: Rep_11_002.nd2\n",
      "Detected Axes: ['x', 'y', 'c', 't', 'z']\n",
      "Detected Shape: (19, 900, 600)\n",
      "Channels in file: ['60x DSRED', '60x GFP']\n",
      "Using channel '60x GFP' at index 1.\n",
      "Saved TIFF: A:\\_Ongoing\\20250128_ActRep_version2_24well\\Output\\60x_GFP_TIFF\\Rep_11_002.tiff\n",
      "\n",
      "--- Processing: Rep_11_003.nd2 ---\n",
      "\n",
      "Processing ND2 file: Rep_11_003.nd2\n",
      "Detected Axes: ['x', 'y', 'c', 't', 'z']\n",
      "Detected Shape: (19, 900, 600)\n",
      "Channels in file: ['60x DSRED', '60x GFP']\n",
      "Using channel '60x DSRED' at index 0.\n",
      "Saved TIFF: A:\\_Ongoing\\20250128_ActRep_version2_24well\\Output\\60x_DSRED_TIFF\\Rep_11_003.tiff\n",
      "\n",
      "Processing ND2 file: Rep_11_003.nd2\n",
      "Detected Axes: ['x', 'y', 'c', 't', 'z']\n",
      "Detected Shape: (19, 900, 600)\n",
      "Channels in file: ['60x DSRED', '60x GFP']\n",
      "Using channel '60x GFP' at index 1.\n",
      "Saved TIFF: A:\\_Ongoing\\20250128_ActRep_version2_24well\\Output\\60x_GFP_TIFF\\Rep_11_003.tiff\n",
      "\n",
      "--- Processing: Rep_11_004.nd2 ---\n",
      "\n",
      "Processing ND2 file: Rep_11_004.nd2\n",
      "Detected Axes: ['x', 'y', 'c', 't', 'z']\n",
      "Detected Shape: (19, 900, 600)\n",
      "Channels in file: ['60x DSRED', '60x GFP']\n",
      "Using channel '60x DSRED' at index 0.\n",
      "Saved TIFF: A:\\_Ongoing\\20250128_ActRep_version2_24well\\Output\\60x_DSRED_TIFF\\Rep_11_004.tiff\n",
      "\n",
      "Processing ND2 file: Rep_11_004.nd2\n",
      "Detected Axes: ['x', 'y', 'c', 't', 'z']\n",
      "Detected Shape: (19, 900, 600)\n",
      "Channels in file: ['60x DSRED', '60x GFP']\n",
      "Using channel '60x GFP' at index 1.\n",
      "Saved TIFF: A:\\_Ongoing\\20250128_ActRep_version2_24well\\Output\\60x_GFP_TIFF\\Rep_11_004.tiff\n",
      "\n",
      "--- Processing: Rep_11_005.nd2 ---\n",
      "\n",
      "Processing ND2 file: Rep_11_005.nd2\n",
      "Detected Axes: ['x', 'y', 'c', 't', 'z']\n",
      "Detected Shape: (19, 900, 600)\n",
      "Channels in file: ['60x DSRED', '60x GFP']\n",
      "Using channel '60x DSRED' at index 0.\n",
      "Saved TIFF: A:\\_Ongoing\\20250128_ActRep_version2_24well\\Output\\60x_DSRED_TIFF\\Rep_11_005.tiff\n",
      "\n",
      "Processing ND2 file: Rep_11_005.nd2\n",
      "Detected Axes: ['x', 'y', 'c', 't', 'z']\n",
      "Detected Shape: (19, 900, 600)\n",
      "Channels in file: ['60x DSRED', '60x GFP']\n",
      "Using channel '60x GFP' at index 1.\n",
      "Saved TIFF: A:\\_Ongoing\\20250128_ActRep_version2_24well\\Output\\60x_GFP_TIFF\\Rep_11_005.tiff\n",
      "\n",
      "--- Processing: Rep_11_006.nd2 ---\n",
      "\n",
      "Processing ND2 file: Rep_11_006.nd2\n",
      "Detected Axes: ['x', 'y', 'c', 't', 'z']\n",
      "Detected Shape: (19, 900, 600)\n",
      "Channels in file: ['60x DSRED', '60x GFP']\n",
      "Using channel '60x DSRED' at index 0.\n",
      "Saved TIFF: A:\\_Ongoing\\20250128_ActRep_version2_24well\\Output\\60x_DSRED_TIFF\\Rep_11_006.tiff\n",
      "\n",
      "Processing ND2 file: Rep_11_006.nd2\n",
      "Detected Axes: ['x', 'y', 'c', 't', 'z']\n",
      "Detected Shape: (19, 900, 600)\n",
      "Channels in file: ['60x DSRED', '60x GFP']\n",
      "Using channel '60x GFP' at index 1.\n",
      "Saved TIFF: A:\\_Ongoing\\20250128_ActRep_version2_24well\\Output\\60x_GFP_TIFF\\Rep_11_006.tiff\n",
      "\n",
      "--- Processing: Rep_11_007.nd2 ---\n",
      "\n",
      "Processing ND2 file: Rep_11_007.nd2\n",
      "Detected Axes: ['x', 'y', 'c', 't', 'z']\n",
      "Detected Shape: (19, 900, 600)\n",
      "Channels in file: ['60x DSRED', '60x GFP']\n",
      "Using channel '60x DSRED' at index 0.\n",
      "Saved TIFF: A:\\_Ongoing\\20250128_ActRep_version2_24well\\Output\\60x_DSRED_TIFF\\Rep_11_007.tiff\n",
      "\n",
      "Processing ND2 file: Rep_11_007.nd2\n",
      "Detected Axes: ['x', 'y', 'c', 't', 'z']\n",
      "Detected Shape: (19, 900, 600)\n",
      "Channels in file: ['60x DSRED', '60x GFP']\n",
      "Using channel '60x GFP' at index 1.\n",
      "Saved TIFF: A:\\_Ongoing\\20250128_ActRep_version2_24well\\Output\\60x_GFP_TIFF\\Rep_11_007.tiff\n",
      "\n",
      "--- Processing: Rep_12_001.nd2 ---\n",
      "\n",
      "Processing ND2 file: Rep_12_001.nd2\n",
      "Detected Axes: ['x', 'y', 'c', 't', 'z']\n",
      "Detected Shape: (19, 900, 600)\n",
      "Channels in file: ['60x DSRED', '60x GFP']\n",
      "Using channel '60x DSRED' at index 0.\n",
      "Saved TIFF: A:\\_Ongoing\\20250128_ActRep_version2_24well\\Output\\60x_DSRED_TIFF\\Rep_12_001.tiff\n",
      "\n",
      "Processing ND2 file: Rep_12_001.nd2\n",
      "Detected Axes: ['x', 'y', 'c', 't', 'z']\n",
      "Detected Shape: (19, 900, 600)\n",
      "Channels in file: ['60x DSRED', '60x GFP']\n",
      "Using channel '60x GFP' at index 1.\n",
      "Saved TIFF: A:\\_Ongoing\\20250128_ActRep_version2_24well\\Output\\60x_GFP_TIFF\\Rep_12_001.tiff\n",
      "\n",
      "--- Processing: Rep_12_002.nd2 ---\n",
      "\n",
      "Processing ND2 file: Rep_12_002.nd2\n",
      "Detected Axes: ['x', 'y', 'c', 't', 'z']\n",
      "Detected Shape: (19, 900, 600)\n",
      "Channels in file: ['60x DSRED', '60x GFP']\n",
      "Using channel '60x DSRED' at index 0.\n",
      "Saved TIFF: A:\\_Ongoing\\20250128_ActRep_version2_24well\\Output\\60x_DSRED_TIFF\\Rep_12_002.tiff\n",
      "\n",
      "Processing ND2 file: Rep_12_002.nd2\n",
      "Detected Axes: ['x', 'y', 'c', 't', 'z']\n",
      "Detected Shape: (19, 900, 600)\n",
      "Channels in file: ['60x DSRED', '60x GFP']\n",
      "Using channel '60x GFP' at index 1.\n",
      "Saved TIFF: A:\\_Ongoing\\20250128_ActRep_version2_24well\\Output\\60x_GFP_TIFF\\Rep_12_002.tiff\n",
      "\n",
      "--- Processing: Rep_12_003.nd2 ---\n",
      "\n",
      "Processing ND2 file: Rep_12_003.nd2\n",
      "Detected Axes: ['x', 'y', 'c', 't', 'z']\n",
      "Detected Shape: (19, 900, 600)\n",
      "Channels in file: ['60x DSRED', '60x GFP']\n",
      "Using channel '60x DSRED' at index 0.\n",
      "Saved TIFF: A:\\_Ongoing\\20250128_ActRep_version2_24well\\Output\\60x_DSRED_TIFF\\Rep_12_003.tiff\n",
      "\n",
      "Processing ND2 file: Rep_12_003.nd2\n",
      "Detected Axes: ['x', 'y', 'c', 't', 'z']\n",
      "Detected Shape: (19, 900, 600)\n",
      "Channels in file: ['60x DSRED', '60x GFP']\n",
      "Using channel '60x GFP' at index 1.\n",
      "Saved TIFF: A:\\_Ongoing\\20250128_ActRep_version2_24well\\Output\\60x_GFP_TIFF\\Rep_12_003.tiff\n",
      "\n",
      "--- Processing: Rep_12_004.nd2 ---\n",
      "\n",
      "Processing ND2 file: Rep_12_004.nd2\n",
      "Detected Axes: ['x', 'y', 'c', 't', 'z']\n",
      "Detected Shape: (19, 900, 600)\n",
      "Channels in file: ['60x DSRED', '60x GFP']\n",
      "Using channel '60x DSRED' at index 0.\n",
      "Saved TIFF: A:\\_Ongoing\\20250128_ActRep_version2_24well\\Output\\60x_DSRED_TIFF\\Rep_12_004.tiff\n",
      "\n",
      "Processing ND2 file: Rep_12_004.nd2\n",
      "Detected Axes: ['x', 'y', 'c', 't', 'z']\n",
      "Detected Shape: (19, 900, 600)\n",
      "Channels in file: ['60x DSRED', '60x GFP']\n",
      "Using channel '60x GFP' at index 1.\n",
      "Saved TIFF: A:\\_Ongoing\\20250128_ActRep_version2_24well\\Output\\60x_GFP_TIFF\\Rep_12_004.tiff\n",
      "\n",
      "--- Processing: Rep_12_005.nd2 ---\n",
      "\n",
      "Processing ND2 file: Rep_12_005.nd2\n",
      "Detected Axes: ['x', 'y', 'c', 't', 'z']\n",
      "Detected Shape: (19, 900, 600)\n",
      "Channels in file: ['60x DSRED', '60x GFP']\n",
      "Using channel '60x DSRED' at index 0.\n",
      "Saved TIFF: A:\\_Ongoing\\20250128_ActRep_version2_24well\\Output\\60x_DSRED_TIFF\\Rep_12_005.tiff\n",
      "\n",
      "Processing ND2 file: Rep_12_005.nd2\n",
      "Detected Axes: ['x', 'y', 'c', 't', 'z']\n",
      "Detected Shape: (19, 900, 600)\n",
      "Channels in file: ['60x DSRED', '60x GFP']\n",
      "Using channel '60x GFP' at index 1.\n",
      "Saved TIFF: A:\\_Ongoing\\20250128_ActRep_version2_24well\\Output\\60x_GFP_TIFF\\Rep_12_005.tiff\n",
      "\n",
      "--- Processing: Rep_12_006.nd2 ---\n",
      "\n",
      "Processing ND2 file: Rep_12_006.nd2\n",
      "Detected Axes: ['x', 'y', 'c', 't', 'z']\n",
      "Detected Shape: (19, 900, 600)\n",
      "Channels in file: ['60x DSRED', '60x GFP']\n",
      "Using channel '60x DSRED' at index 0.\n",
      "Saved TIFF: A:\\_Ongoing\\20250128_ActRep_version2_24well\\Output\\60x_DSRED_TIFF\\Rep_12_006.tiff\n",
      "\n",
      "Processing ND2 file: Rep_12_006.nd2\n",
      "Detected Axes: ['x', 'y', 'c', 't', 'z']\n",
      "Detected Shape: (19, 900, 600)\n",
      "Channels in file: ['60x DSRED', '60x GFP']\n",
      "Using channel '60x GFP' at index 1.\n",
      "Saved TIFF: A:\\_Ongoing\\20250128_ActRep_version2_24well\\Output\\60x_GFP_TIFF\\Rep_12_006.tiff\n",
      "\n",
      "--- Processing: Rep_12_007.nd2 ---\n",
      "\n",
      "Processing ND2 file: Rep_12_007.nd2\n",
      "Detected Axes: ['x', 'y', 'c', 't', 'z']\n",
      "Detected Shape: (19, 900, 600)\n",
      "Channels in file: ['60x DSRED', '60x GFP']\n",
      "Using channel '60x DSRED' at index 0.\n",
      "Saved TIFF: A:\\_Ongoing\\20250128_ActRep_version2_24well\\Output\\60x_DSRED_TIFF\\Rep_12_007.tiff\n",
      "\n",
      "Processing ND2 file: Rep_12_007.nd2\n",
      "Detected Axes: ['x', 'y', 'c', 't', 'z']\n",
      "Detected Shape: (19, 900, 600)\n",
      "Channels in file: ['60x DSRED', '60x GFP']\n",
      "Using channel '60x GFP' at index 1.\n",
      "Saved TIFF: A:\\_Ongoing\\20250128_ActRep_version2_24well\\Output\\60x_GFP_TIFF\\Rep_12_007.tiff\n",
      "\n",
      "--- Processing: Rep_12_008.nd2 ---\n",
      "\n",
      "Processing ND2 file: Rep_12_008.nd2\n",
      "Detected Axes: ['x', 'y', 'c', 't', 'z']\n",
      "Detected Shape: (19, 900, 600)\n",
      "Channels in file: ['60x DSRED', '60x GFP']\n",
      "Using channel '60x DSRED' at index 0.\n",
      "Saved TIFF: A:\\_Ongoing\\20250128_ActRep_version2_24well\\Output\\60x_DSRED_TIFF\\Rep_12_008.tiff\n",
      "\n",
      "Processing ND2 file: Rep_12_008.nd2\n",
      "Detected Axes: ['x', 'y', 'c', 't', 'z']\n",
      "Detected Shape: (19, 900, 600)\n",
      "Channels in file: ['60x DSRED', '60x GFP']\n",
      "Using channel '60x GFP' at index 1.\n",
      "Saved TIFF: A:\\_Ongoing\\20250128_ActRep_version2_24well\\Output\\60x_GFP_TIFF\\Rep_12_008.tiff\n",
      "\n",
      "--- Processing: Rep_12_009.nd2 ---\n",
      "\n",
      "Processing ND2 file: Rep_12_009.nd2\n",
      "Detected Axes: ['x', 'y', 'c', 't', 'z']\n",
      "Detected Shape: (19, 900, 600)\n",
      "Channels in file: ['60x DSRED', '60x GFP']\n",
      "Using channel '60x DSRED' at index 0.\n",
      "Saved TIFF: A:\\_Ongoing\\20250128_ActRep_version2_24well\\Output\\60x_DSRED_TIFF\\Rep_12_009.tiff\n",
      "\n",
      "Processing ND2 file: Rep_12_009.nd2\n",
      "Detected Axes: ['x', 'y', 'c', 't', 'z']\n",
      "Detected Shape: (19, 900, 600)\n",
      "Channels in file: ['60x DSRED', '60x GFP']\n",
      "Using channel '60x GFP' at index 1.\n",
      "Saved TIFF: A:\\_Ongoing\\20250128_ActRep_version2_24well\\Output\\60x_GFP_TIFF\\Rep_12_009.tiff\n",
      "\n",
      "--- Processing: Rep_13_001.nd2 ---\n",
      "\n",
      "Processing ND2 file: Rep_13_001.nd2\n",
      "Detected Axes: ['x', 'y', 'c', 't', 'z']\n",
      "Detected Shape: (19, 900, 600)\n",
      "Channels in file: ['60x DSRED', '60x GFP']\n",
      "Using channel '60x DSRED' at index 0.\n",
      "Saved TIFF: A:\\_Ongoing\\20250128_ActRep_version2_24well\\Output\\60x_DSRED_TIFF\\Rep_13_001.tiff\n",
      "\n",
      "Processing ND2 file: Rep_13_001.nd2\n",
      "Detected Axes: ['x', 'y', 'c', 't', 'z']\n",
      "Detected Shape: (19, 900, 600)\n",
      "Channels in file: ['60x DSRED', '60x GFP']\n",
      "Using channel '60x GFP' at index 1.\n",
      "Saved TIFF: A:\\_Ongoing\\20250128_ActRep_version2_24well\\Output\\60x_GFP_TIFF\\Rep_13_001.tiff\n",
      "\n",
      "--- Processing: Rep_13_002.nd2 ---\n",
      "\n",
      "Processing ND2 file: Rep_13_002.nd2\n",
      "Detected Axes: ['x', 'y', 'c', 't', 'z']\n",
      "Detected Shape: (19, 900, 600)\n",
      "Channels in file: ['60x DSRED', '60x GFP']\n",
      "Using channel '60x DSRED' at index 0.\n",
      "Saved TIFF: A:\\_Ongoing\\20250128_ActRep_version2_24well\\Output\\60x_DSRED_TIFF\\Rep_13_002.tiff\n",
      "\n",
      "Processing ND2 file: Rep_13_002.nd2\n",
      "Detected Axes: ['x', 'y', 'c', 't', 'z']\n",
      "Detected Shape: (19, 900, 600)\n",
      "Channels in file: ['60x DSRED', '60x GFP']\n",
      "Using channel '60x GFP' at index 1.\n",
      "Saved TIFF: A:\\_Ongoing\\20250128_ActRep_version2_24well\\Output\\60x_GFP_TIFF\\Rep_13_002.tiff\n",
      "\n",
      "--- Processing: Rep_13_003.nd2 ---\n",
      "\n",
      "Processing ND2 file: Rep_13_003.nd2\n",
      "Detected Axes: ['x', 'y', 'c', 't', 'z']\n",
      "Detected Shape: (19, 900, 600)\n",
      "Channels in file: ['60x DSRED', '60x GFP']\n",
      "Using channel '60x DSRED' at index 0.\n",
      "Saved TIFF: A:\\_Ongoing\\20250128_ActRep_version2_24well\\Output\\60x_DSRED_TIFF\\Rep_13_003.tiff\n",
      "\n",
      "Processing ND2 file: Rep_13_003.nd2\n",
      "Detected Axes: ['x', 'y', 'c', 't', 'z']\n",
      "Detected Shape: (19, 900, 600)\n",
      "Channels in file: ['60x DSRED', '60x GFP']\n",
      "Using channel '60x GFP' at index 1.\n",
      "Saved TIFF: A:\\_Ongoing\\20250128_ActRep_version2_24well\\Output\\60x_GFP_TIFF\\Rep_13_003.tiff\n",
      "\n",
      "--- Processing: Rep_13_004.nd2 ---\n",
      "\n",
      "Processing ND2 file: Rep_13_004.nd2\n",
      "Detected Axes: ['x', 'y', 'c', 't', 'z']\n",
      "Detected Shape: (19, 900, 600)\n",
      "Channels in file: ['60x DSRED', '60x GFP']\n",
      "Using channel '60x DSRED' at index 0.\n",
      "Saved TIFF: A:\\_Ongoing\\20250128_ActRep_version2_24well\\Output\\60x_DSRED_TIFF\\Rep_13_004.tiff\n",
      "\n",
      "Processing ND2 file: Rep_13_004.nd2\n",
      "Detected Axes: ['x', 'y', 'c', 't', 'z']\n",
      "Detected Shape: (19, 900, 600)\n",
      "Channels in file: ['60x DSRED', '60x GFP']\n",
      "Using channel '60x GFP' at index 1.\n",
      "Saved TIFF: A:\\_Ongoing\\20250128_ActRep_version2_24well\\Output\\60x_GFP_TIFF\\Rep_13_004.tiff\n",
      "\n",
      "--- Processing: Rep_13_005.nd2 ---\n",
      "\n",
      "Processing ND2 file: Rep_13_005.nd2\n",
      "Detected Axes: ['x', 'y', 'c', 't', 'z']\n",
      "Detected Shape: (19, 900, 600)\n",
      "Channels in file: ['60x DSRED', '60x GFP']\n",
      "Using channel '60x DSRED' at index 0.\n",
      "Saved TIFF: A:\\_Ongoing\\20250128_ActRep_version2_24well\\Output\\60x_DSRED_TIFF\\Rep_13_005.tiff\n",
      "\n",
      "Processing ND2 file: Rep_13_005.nd2\n",
      "Detected Axes: ['x', 'y', 'c', 't', 'z']\n",
      "Detected Shape: (19, 900, 600)\n",
      "Channels in file: ['60x DSRED', '60x GFP']\n",
      "Using channel '60x GFP' at index 1.\n",
      "Saved TIFF: A:\\_Ongoing\\20250128_ActRep_version2_24well\\Output\\60x_GFP_TIFF\\Rep_13_005.tiff\n",
      "\n",
      "--- Processing: Rep_13_006.nd2 ---\n",
      "\n",
      "Processing ND2 file: Rep_13_006.nd2\n",
      "Detected Axes: ['x', 'y', 'c', 't', 'z']\n",
      "Detected Shape: (19, 900, 600)\n",
      "Channels in file: ['60x DSRED', '60x GFP']\n",
      "Using channel '60x DSRED' at index 0.\n",
      "Saved TIFF: A:\\_Ongoing\\20250128_ActRep_version2_24well\\Output\\60x_DSRED_TIFF\\Rep_13_006.tiff\n",
      "\n",
      "Processing ND2 file: Rep_13_006.nd2\n",
      "Detected Axes: ['x', 'y', 'c', 't', 'z']\n",
      "Detected Shape: (19, 900, 600)\n",
      "Channels in file: ['60x DSRED', '60x GFP']\n",
      "Using channel '60x GFP' at index 1.\n",
      "Saved TIFF: A:\\_Ongoing\\20250128_ActRep_version2_24well\\Output\\60x_GFP_TIFF\\Rep_13_006.tiff\n",
      "\n",
      "--- Processing: Rep_13_007.nd2 ---\n",
      "\n",
      "Processing ND2 file: Rep_13_007.nd2\n",
      "Detected Axes: ['x', 'y', 'c', 't', 'z']\n",
      "Detected Shape: (19, 900, 600)\n",
      "Channels in file: ['60x DSRED', '60x GFP']\n",
      "Using channel '60x DSRED' at index 0.\n",
      "Saved TIFF: A:\\_Ongoing\\20250128_ActRep_version2_24well\\Output\\60x_DSRED_TIFF\\Rep_13_007.tiff\n",
      "\n",
      "Processing ND2 file: Rep_13_007.nd2\n",
      "Detected Axes: ['x', 'y', 'c', 't', 'z']\n",
      "Detected Shape: (19, 900, 600)\n",
      "Channels in file: ['60x DSRED', '60x GFP']\n",
      "Using channel '60x GFP' at index 1.\n",
      "Saved TIFF: A:\\_Ongoing\\20250128_ActRep_version2_24well\\Output\\60x_GFP_TIFF\\Rep_13_007.tiff\n",
      "\n",
      "--- Processing: Rep_13_008.nd2 ---\n",
      "\n",
      "Processing ND2 file: Rep_13_008.nd2\n",
      "Detected Axes: ['x', 'y', 'c', 't', 'z']\n",
      "Detected Shape: (19, 900, 600)\n",
      "Channels in file: ['60x DSRED', '60x GFP']\n",
      "Using channel '60x DSRED' at index 0.\n",
      "Saved TIFF: A:\\_Ongoing\\20250128_ActRep_version2_24well\\Output\\60x_DSRED_TIFF\\Rep_13_008.tiff\n",
      "\n",
      "Processing ND2 file: Rep_13_008.nd2\n",
      "Detected Axes: ['x', 'y', 'c', 't', 'z']\n",
      "Detected Shape: (19, 900, 600)\n",
      "Channels in file: ['60x DSRED', '60x GFP']\n",
      "Using channel '60x GFP' at index 1.\n",
      "Saved TIFF: A:\\_Ongoing\\20250128_ActRep_version2_24well\\Output\\60x_GFP_TIFF\\Rep_13_008.tiff\n",
      "\n",
      "--- Processing: Rep_14_001.nd2 ---\n",
      "\n",
      "Processing ND2 file: Rep_14_001.nd2\n",
      "Detected Axes: ['x', 'y', 'c', 't', 'z']\n",
      "Detected Shape: (19, 900, 600)\n",
      "Channels in file: ['60x DSRED', '60x GFP']\n",
      "Using channel '60x DSRED' at index 0.\n",
      "Saved TIFF: A:\\_Ongoing\\20250128_ActRep_version2_24well\\Output\\60x_DSRED_TIFF\\Rep_14_001.tiff\n",
      "\n",
      "Processing ND2 file: Rep_14_001.nd2\n",
      "Detected Axes: ['x', 'y', 'c', 't', 'z']\n",
      "Detected Shape: (19, 900, 600)\n",
      "Channels in file: ['60x DSRED', '60x GFP']\n",
      "Using channel '60x GFP' at index 1.\n",
      "Saved TIFF: A:\\_Ongoing\\20250128_ActRep_version2_24well\\Output\\60x_GFP_TIFF\\Rep_14_001.tiff\n",
      "\n",
      "--- Processing: Rep_14_002.nd2 ---\n",
      "\n",
      "Processing ND2 file: Rep_14_002.nd2\n",
      "Detected Axes: ['x', 'y', 'c', 't', 'z']\n",
      "Detected Shape: (19, 900, 600)\n",
      "Channels in file: ['60x DSRED', '60x GFP']\n",
      "Using channel '60x DSRED' at index 0.\n",
      "Saved TIFF: A:\\_Ongoing\\20250128_ActRep_version2_24well\\Output\\60x_DSRED_TIFF\\Rep_14_002.tiff\n",
      "\n",
      "Processing ND2 file: Rep_14_002.nd2\n",
      "Detected Axes: ['x', 'y', 'c', 't', 'z']\n",
      "Detected Shape: (19, 900, 600)\n",
      "Channels in file: ['60x DSRED', '60x GFP']\n",
      "Using channel '60x GFP' at index 1.\n",
      "Saved TIFF: A:\\_Ongoing\\20250128_ActRep_version2_24well\\Output\\60x_GFP_TIFF\\Rep_14_002.tiff\n",
      "\n",
      "--- Processing: Rep_14_003.nd2 ---\n",
      "\n",
      "Processing ND2 file: Rep_14_003.nd2\n",
      "Detected Axes: ['x', 'y', 'c', 't', 'z']\n",
      "Detected Shape: (19, 900, 600)\n",
      "Channels in file: ['60x DSRED', '60x GFP']\n",
      "Using channel '60x DSRED' at index 0.\n",
      "Saved TIFF: A:\\_Ongoing\\20250128_ActRep_version2_24well\\Output\\60x_DSRED_TIFF\\Rep_14_003.tiff\n",
      "\n",
      "Processing ND2 file: Rep_14_003.nd2\n",
      "Detected Axes: ['x', 'y', 'c', 't', 'z']\n",
      "Detected Shape: (19, 900, 600)\n",
      "Channels in file: ['60x DSRED', '60x GFP']\n",
      "Using channel '60x GFP' at index 1.\n",
      "Saved TIFF: A:\\_Ongoing\\20250128_ActRep_version2_24well\\Output\\60x_GFP_TIFF\\Rep_14_003.tiff\n",
      "\n",
      "--- Processing: Rep_14_004.nd2 ---\n",
      "\n",
      "Processing ND2 file: Rep_14_004.nd2\n",
      "Detected Axes: ['x', 'y', 'c', 't', 'z']\n",
      "Detected Shape: (19, 900, 600)\n",
      "Channels in file: ['60x DSRED', '60x GFP']\n",
      "Using channel '60x DSRED' at index 0.\n",
      "Saved TIFF: A:\\_Ongoing\\20250128_ActRep_version2_24well\\Output\\60x_DSRED_TIFF\\Rep_14_004.tiff\n",
      "\n",
      "Processing ND2 file: Rep_14_004.nd2\n",
      "Detected Axes: ['x', 'y', 'c', 't', 'z']\n",
      "Detected Shape: (19, 900, 600)\n",
      "Channels in file: ['60x DSRED', '60x GFP']\n",
      "Using channel '60x GFP' at index 1.\n",
      "Saved TIFF: A:\\_Ongoing\\20250128_ActRep_version2_24well\\Output\\60x_GFP_TIFF\\Rep_14_004.tiff\n",
      "\n",
      "--- Processing: Rep_14_005.nd2 ---\n",
      "\n",
      "Processing ND2 file: Rep_14_005.nd2\n",
      "Detected Axes: ['x', 'y', 'c', 't', 'z']\n",
      "Detected Shape: (19, 900, 600)\n",
      "Channels in file: ['60x DSRED', '60x GFP']\n",
      "Using channel '60x DSRED' at index 0.\n",
      "Saved TIFF: A:\\_Ongoing\\20250128_ActRep_version2_24well\\Output\\60x_DSRED_TIFF\\Rep_14_005.tiff\n",
      "\n",
      "Processing ND2 file: Rep_14_005.nd2\n",
      "Detected Axes: ['x', 'y', 'c', 't', 'z']\n",
      "Detected Shape: (19, 900, 600)\n",
      "Channels in file: ['60x DSRED', '60x GFP']\n",
      "Using channel '60x GFP' at index 1.\n",
      "Saved TIFF: A:\\_Ongoing\\20250128_ActRep_version2_24well\\Output\\60x_GFP_TIFF\\Rep_14_005.tiff\n",
      "\n",
      "--- Processing: Rep_14_006.nd2 ---\n",
      "\n",
      "Processing ND2 file: Rep_14_006.nd2\n",
      "Detected Axes: ['x', 'y', 'c', 't', 'z']\n",
      "Detected Shape: (19, 900, 600)\n",
      "Channels in file: ['60x DSRED', '60x GFP']\n",
      "Using channel '60x DSRED' at index 0.\n",
      "Saved TIFF: A:\\_Ongoing\\20250128_ActRep_version2_24well\\Output\\60x_DSRED_TIFF\\Rep_14_006.tiff\n",
      "\n",
      "Processing ND2 file: Rep_14_006.nd2\n",
      "Detected Axes: ['x', 'y', 'c', 't', 'z']\n",
      "Detected Shape: (19, 900, 600)\n",
      "Channels in file: ['60x DSRED', '60x GFP']\n",
      "Using channel '60x GFP' at index 1.\n",
      "Saved TIFF: A:\\_Ongoing\\20250128_ActRep_version2_24well\\Output\\60x_GFP_TIFF\\Rep_14_006.tiff\n",
      "\n",
      "--- Processing: Rep_14_007.nd2 ---\n",
      "\n",
      "Processing ND2 file: Rep_14_007.nd2\n",
      "Detected Axes: ['x', 'y', 'c', 't', 'z']\n",
      "Detected Shape: (19, 900, 600)\n",
      "Channels in file: ['60x DSRED', '60x GFP']\n",
      "Using channel '60x DSRED' at index 0.\n",
      "Saved TIFF: A:\\_Ongoing\\20250128_ActRep_version2_24well\\Output\\60x_DSRED_TIFF\\Rep_14_007.tiff\n",
      "\n",
      "Processing ND2 file: Rep_14_007.nd2\n",
      "Detected Axes: ['x', 'y', 'c', 't', 'z']\n",
      "Detected Shape: (19, 900, 600)\n",
      "Channels in file: ['60x DSRED', '60x GFP']\n",
      "Using channel '60x GFP' at index 1.\n",
      "Saved TIFF: A:\\_Ongoing\\20250128_ActRep_version2_24well\\Output\\60x_GFP_TIFF\\Rep_14_007.tiff\n",
      "\n",
      "--- Processing: Rep_14_008.nd2 ---\n",
      "\n",
      "Processing ND2 file: Rep_14_008.nd2\n",
      "Detected Axes: ['x', 'y', 'c', 't', 'z']\n",
      "Detected Shape: (19, 900, 600)\n",
      "Channels in file: ['60x DSRED', '60x GFP']\n",
      "Using channel '60x DSRED' at index 0.\n",
      "Saved TIFF: A:\\_Ongoing\\20250128_ActRep_version2_24well\\Output\\60x_DSRED_TIFF\\Rep_14_008.tiff\n",
      "\n",
      "Processing ND2 file: Rep_14_008.nd2\n",
      "Detected Axes: ['x', 'y', 'c', 't', 'z']\n",
      "Detected Shape: (19, 900, 600)\n",
      "Channels in file: ['60x DSRED', '60x GFP']\n",
      "Using channel '60x GFP' at index 1.\n",
      "Saved TIFF: A:\\_Ongoing\\20250128_ActRep_version2_24well\\Output\\60x_GFP_TIFF\\Rep_14_008.tiff\n",
      "\n",
      "--- Processing: Rep_14_009.nd2 ---\n",
      "\n",
      "Processing ND2 file: Rep_14_009.nd2\n",
      "Detected Axes: ['x', 'y', 'c', 't', 'z']\n",
      "Detected Shape: (19, 900, 600)\n",
      "Channels in file: ['60x DSRED', '60x GFP']\n",
      "Using channel '60x DSRED' at index 0.\n",
      "Saved TIFF: A:\\_Ongoing\\20250128_ActRep_version2_24well\\Output\\60x_DSRED_TIFF\\Rep_14_009.tiff\n",
      "\n",
      "Processing ND2 file: Rep_14_009.nd2\n",
      "Detected Axes: ['x', 'y', 'c', 't', 'z']\n",
      "Detected Shape: (19, 900, 600)\n",
      "Channels in file: ['60x DSRED', '60x GFP']\n",
      "Using channel '60x GFP' at index 1.\n",
      "Saved TIFF: A:\\_Ongoing\\20250128_ActRep_version2_24well\\Output\\60x_GFP_TIFF\\Rep_14_009.tiff\n",
      "\n",
      "--- Processing: Rep_15_001.nd2 ---\n",
      "\n",
      "Processing ND2 file: Rep_15_001.nd2\n",
      "Detected Axes: ['x', 'y', 'c', 't', 'z']\n",
      "Detected Shape: (19, 900, 600)\n",
      "Channels in file: ['60x DSRED', '60x GFP']\n",
      "Using channel '60x DSRED' at index 0.\n",
      "Saved TIFF: A:\\_Ongoing\\20250128_ActRep_version2_24well\\Output\\60x_DSRED_TIFF\\Rep_15_001.tiff\n",
      "\n",
      "Processing ND2 file: Rep_15_001.nd2\n",
      "Detected Axes: ['x', 'y', 'c', 't', 'z']\n",
      "Detected Shape: (19, 900, 600)\n",
      "Channels in file: ['60x DSRED', '60x GFP']\n",
      "Using channel '60x GFP' at index 1.\n",
      "Saved TIFF: A:\\_Ongoing\\20250128_ActRep_version2_24well\\Output\\60x_GFP_TIFF\\Rep_15_001.tiff\n",
      "\n",
      "--- Processing: Rep_15_002.nd2 ---\n",
      "\n",
      "Processing ND2 file: Rep_15_002.nd2\n",
      "Detected Axes: ['x', 'y', 'c', 't', 'z']\n",
      "Detected Shape: (19, 900, 600)\n",
      "Channels in file: ['60x DSRED', '60x GFP']\n",
      "Using channel '60x DSRED' at index 0.\n",
      "Saved TIFF: A:\\_Ongoing\\20250128_ActRep_version2_24well\\Output\\60x_DSRED_TIFF\\Rep_15_002.tiff\n",
      "\n",
      "Processing ND2 file: Rep_15_002.nd2\n",
      "Detected Axes: ['x', 'y', 'c', 't', 'z']\n",
      "Detected Shape: (19, 900, 600)\n",
      "Channels in file: ['60x DSRED', '60x GFP']\n",
      "Using channel '60x GFP' at index 1.\n",
      "Saved TIFF: A:\\_Ongoing\\20250128_ActRep_version2_24well\\Output\\60x_GFP_TIFF\\Rep_15_002.tiff\n",
      "\n",
      "--- Processing: Rep_15_003.nd2 ---\n",
      "\n",
      "Processing ND2 file: Rep_15_003.nd2\n",
      "Detected Axes: ['x', 'y', 'c', 't', 'z']\n",
      "Detected Shape: (19, 900, 600)\n",
      "Channels in file: ['60x DSRED', '60x GFP']\n",
      "Using channel '60x DSRED' at index 0.\n",
      "Saved TIFF: A:\\_Ongoing\\20250128_ActRep_version2_24well\\Output\\60x_DSRED_TIFF\\Rep_15_003.tiff\n",
      "\n",
      "Processing ND2 file: Rep_15_003.nd2\n",
      "Detected Axes: ['x', 'y', 'c', 't', 'z']\n",
      "Detected Shape: (19, 900, 600)\n",
      "Channels in file: ['60x DSRED', '60x GFP']\n",
      "Using channel '60x GFP' at index 1.\n",
      "Saved TIFF: A:\\_Ongoing\\20250128_ActRep_version2_24well\\Output\\60x_GFP_TIFF\\Rep_15_003.tiff\n",
      "\n",
      "--- Processing: Rep_15_004.nd2 ---\n",
      "\n",
      "Processing ND2 file: Rep_15_004.nd2\n",
      "Detected Axes: ['x', 'y', 'c', 't', 'z']\n",
      "Detected Shape: (19, 900, 600)\n",
      "Channels in file: ['60x DSRED', '60x GFP']\n",
      "Using channel '60x DSRED' at index 0.\n",
      "Saved TIFF: A:\\_Ongoing\\20250128_ActRep_version2_24well\\Output\\60x_DSRED_TIFF\\Rep_15_004.tiff\n",
      "\n",
      "Processing ND2 file: Rep_15_004.nd2\n",
      "Detected Axes: ['x', 'y', 'c', 't', 'z']\n",
      "Detected Shape: (19, 900, 600)\n",
      "Channels in file: ['60x DSRED', '60x GFP']\n",
      "Using channel '60x GFP' at index 1.\n",
      "Saved TIFF: A:\\_Ongoing\\20250128_ActRep_version2_24well\\Output\\60x_GFP_TIFF\\Rep_15_004.tiff\n",
      "\n",
      "--- Processing: Rep_15_005.nd2 ---\n",
      "\n",
      "Processing ND2 file: Rep_15_005.nd2\n",
      "Detected Axes: ['x', 'y', 'c', 't', 'z']\n",
      "Detected Shape: (19, 900, 600)\n",
      "Channels in file: ['60x DSRED', '60x GFP']\n",
      "Using channel '60x DSRED' at index 0.\n",
      "Saved TIFF: A:\\_Ongoing\\20250128_ActRep_version2_24well\\Output\\60x_DSRED_TIFF\\Rep_15_005.tiff\n",
      "\n",
      "Processing ND2 file: Rep_15_005.nd2\n",
      "Detected Axes: ['x', 'y', 'c', 't', 'z']\n",
      "Detected Shape: (19, 900, 600)\n",
      "Channels in file: ['60x DSRED', '60x GFP']\n",
      "Using channel '60x GFP' at index 1.\n",
      "Saved TIFF: A:\\_Ongoing\\20250128_ActRep_version2_24well\\Output\\60x_GFP_TIFF\\Rep_15_005.tiff\n",
      "\n",
      "--- Processing: Rep_15_006.nd2 ---\n",
      "\n",
      "Processing ND2 file: Rep_15_006.nd2\n",
      "Detected Axes: ['x', 'y', 'c', 't', 'z']\n",
      "Detected Shape: (19, 900, 600)\n",
      "Channels in file: ['60x DSRED', '60x GFP']\n",
      "Using channel '60x DSRED' at index 0.\n",
      "Saved TIFF: A:\\_Ongoing\\20250128_ActRep_version2_24well\\Output\\60x_DSRED_TIFF\\Rep_15_006.tiff\n",
      "\n",
      "Processing ND2 file: Rep_15_006.nd2\n",
      "Detected Axes: ['x', 'y', 'c', 't', 'z']\n",
      "Detected Shape: (19, 900, 600)\n",
      "Channels in file: ['60x DSRED', '60x GFP']\n",
      "Using channel '60x GFP' at index 1.\n",
      "Saved TIFF: A:\\_Ongoing\\20250128_ActRep_version2_24well\\Output\\60x_GFP_TIFF\\Rep_15_006.tiff\n",
      "\n",
      "--- Processing: Rep_15_007.nd2 ---\n",
      "\n",
      "Processing ND2 file: Rep_15_007.nd2\n",
      "Detected Axes: ['x', 'y', 'c', 't', 'z']\n",
      "Detected Shape: (19, 900, 600)\n",
      "Channels in file: ['60x DSRED', '60x GFP']\n",
      "Using channel '60x DSRED' at index 0.\n",
      "Saved TIFF: A:\\_Ongoing\\20250128_ActRep_version2_24well\\Output\\60x_DSRED_TIFF\\Rep_15_007.tiff\n",
      "\n",
      "Processing ND2 file: Rep_15_007.nd2\n",
      "Detected Axes: ['x', 'y', 'c', 't', 'z']\n",
      "Detected Shape: (19, 900, 600)\n",
      "Channels in file: ['60x DSRED', '60x GFP']\n",
      "Using channel '60x GFP' at index 1.\n",
      "Saved TIFF: A:\\_Ongoing\\20250128_ActRep_version2_24well\\Output\\60x_GFP_TIFF\\Rep_15_007.tiff\n",
      "\n",
      "--- Processing: Rep_15_008.nd2 ---\n",
      "\n",
      "Processing ND2 file: Rep_15_008.nd2\n",
      "Detected Axes: ['x', 'y', 'c', 't', 'z']\n",
      "Detected Shape: (19, 900, 600)\n",
      "Channels in file: ['60x DSRED', '60x GFP']\n",
      "Using channel '60x DSRED' at index 0.\n",
      "Saved TIFF: A:\\_Ongoing\\20250128_ActRep_version2_24well\\Output\\60x_DSRED_TIFF\\Rep_15_008.tiff\n",
      "\n",
      "Processing ND2 file: Rep_15_008.nd2\n",
      "Detected Axes: ['x', 'y', 'c', 't', 'z']\n",
      "Detected Shape: (19, 900, 600)\n",
      "Channels in file: ['60x DSRED', '60x GFP']\n",
      "Using channel '60x GFP' at index 1.\n",
      "Saved TIFF: A:\\_Ongoing\\20250128_ActRep_version2_24well\\Output\\60x_GFP_TIFF\\Rep_15_008.tiff\n",
      "\n",
      "--- Processing: Rep_16_001.nd2 ---\n",
      "\n",
      "Processing ND2 file: Rep_16_001.nd2\n",
      "Detected Axes: ['x', 'y', 'c', 't', 'z']\n",
      "Detected Shape: (19, 900, 600)\n",
      "Channels in file: ['60x DSRED', '60x GFP']\n",
      "Using channel '60x DSRED' at index 0.\n",
      "Saved TIFF: A:\\_Ongoing\\20250128_ActRep_version2_24well\\Output\\60x_DSRED_TIFF\\Rep_16_001.tiff\n",
      "\n",
      "Processing ND2 file: Rep_16_001.nd2\n",
      "Detected Axes: ['x', 'y', 'c', 't', 'z']\n",
      "Detected Shape: (19, 900, 600)\n",
      "Channels in file: ['60x DSRED', '60x GFP']\n",
      "Using channel '60x GFP' at index 1.\n",
      "Saved TIFF: A:\\_Ongoing\\20250128_ActRep_version2_24well\\Output\\60x_GFP_TIFF\\Rep_16_001.tiff\n",
      "\n",
      "--- Processing: Rep_16_002.nd2 ---\n",
      "\n",
      "Processing ND2 file: Rep_16_002.nd2\n",
      "Detected Axes: ['x', 'y', 'c', 't', 'z']\n",
      "Detected Shape: (19, 900, 600)\n",
      "Channels in file: ['60x DSRED', '60x GFP']\n",
      "Using channel '60x DSRED' at index 0.\n",
      "Saved TIFF: A:\\_Ongoing\\20250128_ActRep_version2_24well\\Output\\60x_DSRED_TIFF\\Rep_16_002.tiff\n",
      "\n",
      "Processing ND2 file: Rep_16_002.nd2\n",
      "Detected Axes: ['x', 'y', 'c', 't', 'z']\n",
      "Detected Shape: (19, 900, 600)\n",
      "Channels in file: ['60x DSRED', '60x GFP']\n",
      "Using channel '60x GFP' at index 1.\n",
      "Saved TIFF: A:\\_Ongoing\\20250128_ActRep_version2_24well\\Output\\60x_GFP_TIFF\\Rep_16_002.tiff\n",
      "\n",
      "--- Processing: Rep_16_003.nd2 ---\n",
      "\n",
      "Processing ND2 file: Rep_16_003.nd2\n",
      "Detected Axes: ['x', 'y', 'c', 't', 'z']\n",
      "Detected Shape: (19, 900, 600)\n",
      "Channels in file: ['60x DSRED', '60x GFP']\n",
      "Using channel '60x DSRED' at index 0.\n",
      "Saved TIFF: A:\\_Ongoing\\20250128_ActRep_version2_24well\\Output\\60x_DSRED_TIFF\\Rep_16_003.tiff\n",
      "\n",
      "Processing ND2 file: Rep_16_003.nd2\n",
      "Detected Axes: ['x', 'y', 'c', 't', 'z']\n",
      "Detected Shape: (19, 900, 600)\n",
      "Channels in file: ['60x DSRED', '60x GFP']\n",
      "Using channel '60x GFP' at index 1.\n",
      "Saved TIFF: A:\\_Ongoing\\20250128_ActRep_version2_24well\\Output\\60x_GFP_TIFF\\Rep_16_003.tiff\n",
      "\n",
      "--- Processing: Rep_16_004.nd2 ---\n",
      "\n",
      "Processing ND2 file: Rep_16_004.nd2\n",
      "Detected Axes: ['x', 'y', 'c', 't', 'z']\n",
      "Detected Shape: (19, 900, 600)\n",
      "Channels in file: ['60x DSRED', '60x GFP']\n",
      "Using channel '60x DSRED' at index 0.\n",
      "Saved TIFF: A:\\_Ongoing\\20250128_ActRep_version2_24well\\Output\\60x_DSRED_TIFF\\Rep_16_004.tiff\n",
      "\n",
      "Processing ND2 file: Rep_16_004.nd2\n",
      "Detected Axes: ['x', 'y', 'c', 't', 'z']\n",
      "Detected Shape: (19, 900, 600)\n",
      "Channels in file: ['60x DSRED', '60x GFP']\n",
      "Using channel '60x GFP' at index 1.\n",
      "Saved TIFF: A:\\_Ongoing\\20250128_ActRep_version2_24well\\Output\\60x_GFP_TIFF\\Rep_16_004.tiff\n",
      "\n",
      "--- Processing: Rep_16_005.nd2 ---\n",
      "\n",
      "Processing ND2 file: Rep_16_005.nd2\n",
      "Detected Axes: ['x', 'y', 'c', 't', 'z']\n",
      "Detected Shape: (19, 900, 600)\n",
      "Channels in file: ['60x DSRED', '60x GFP']\n",
      "Using channel '60x DSRED' at index 0.\n",
      "Saved TIFF: A:\\_Ongoing\\20250128_ActRep_version2_24well\\Output\\60x_DSRED_TIFF\\Rep_16_005.tiff\n",
      "\n",
      "Processing ND2 file: Rep_16_005.nd2\n",
      "Detected Axes: ['x', 'y', 'c', 't', 'z']\n",
      "Detected Shape: (19, 900, 600)\n",
      "Channels in file: ['60x DSRED', '60x GFP']\n",
      "Using channel '60x GFP' at index 1.\n",
      "Saved TIFF: A:\\_Ongoing\\20250128_ActRep_version2_24well\\Output\\60x_GFP_TIFF\\Rep_16_005.tiff\n",
      "\n",
      "--- Processing: Rep_16_006.nd2 ---\n",
      "\n",
      "Processing ND2 file: Rep_16_006.nd2\n",
      "Detected Axes: ['x', 'y', 'c', 't', 'z']\n",
      "Detected Shape: (19, 900, 600)\n",
      "Channels in file: ['60x DSRED', '60x GFP']\n",
      "Using channel '60x DSRED' at index 0.\n",
      "Saved TIFF: A:\\_Ongoing\\20250128_ActRep_version2_24well\\Output\\60x_DSRED_TIFF\\Rep_16_006.tiff\n",
      "\n",
      "Processing ND2 file: Rep_16_006.nd2\n",
      "Detected Axes: ['x', 'y', 'c', 't', 'z']\n",
      "Detected Shape: (19, 900, 600)\n",
      "Channels in file: ['60x DSRED', '60x GFP']\n",
      "Using channel '60x GFP' at index 1.\n",
      "Saved TIFF: A:\\_Ongoing\\20250128_ActRep_version2_24well\\Output\\60x_GFP_TIFF\\Rep_16_006.tiff\n",
      "\n",
      "--- Processing: Rep_16_007.nd2 ---\n",
      "\n",
      "Processing ND2 file: Rep_16_007.nd2\n",
      "Detected Axes: ['x', 'y', 'c', 't', 'z']\n",
      "Detected Shape: (19, 900, 600)\n",
      "Channels in file: ['60x DSRED', '60x GFP']\n",
      "Using channel '60x DSRED' at index 0.\n",
      "Saved TIFF: A:\\_Ongoing\\20250128_ActRep_version2_24well\\Output\\60x_DSRED_TIFF\\Rep_16_007.tiff\n",
      "\n",
      "Processing ND2 file: Rep_16_007.nd2\n",
      "Detected Axes: ['x', 'y', 'c', 't', 'z']\n",
      "Detected Shape: (19, 900, 600)\n",
      "Channels in file: ['60x DSRED', '60x GFP']\n",
      "Using channel '60x GFP' at index 1.\n",
      "Saved TIFF: A:\\_Ongoing\\20250128_ActRep_version2_24well\\Output\\60x_GFP_TIFF\\Rep_16_007.tiff\n",
      "\n",
      "--- Processing: Rep_16_008.nd2 ---\n",
      "\n",
      "Processing ND2 file: Rep_16_008.nd2\n",
      "Detected Axes: ['x', 'y', 'c', 't', 'z']\n",
      "Detected Shape: (19, 900, 600)\n",
      "Channels in file: ['60x DSRED', '60x GFP']\n",
      "Using channel '60x DSRED' at index 0.\n",
      "Saved TIFF: A:\\_Ongoing\\20250128_ActRep_version2_24well\\Output\\60x_DSRED_TIFF\\Rep_16_008.tiff\n",
      "\n",
      "Processing ND2 file: Rep_16_008.nd2\n",
      "Detected Axes: ['x', 'y', 'c', 't', 'z']\n",
      "Detected Shape: (19, 900, 600)\n",
      "Channels in file: ['60x DSRED', '60x GFP']\n",
      "Using channel '60x GFP' at index 1.\n",
      "Saved TIFF: A:\\_Ongoing\\20250128_ActRep_version2_24well\\Output\\60x_GFP_TIFF\\Rep_16_008.tiff\n",
      "\n",
      "--- Processing: Rep_17_001.nd2 ---\n",
      "\n",
      "Processing ND2 file: Rep_17_001.nd2\n",
      "Detected Axes: ['x', 'y', 'c', 't', 'z']\n",
      "Detected Shape: (19, 900, 600)\n",
      "Channels in file: ['60x DSRED', '60x GFP']\n",
      "Using channel '60x DSRED' at index 0.\n",
      "Saved TIFF: A:\\_Ongoing\\20250128_ActRep_version2_24well\\Output\\60x_DSRED_TIFF\\Rep_17_001.tiff\n",
      "\n",
      "Processing ND2 file: Rep_17_001.nd2\n",
      "Detected Axes: ['x', 'y', 'c', 't', 'z']\n",
      "Detected Shape: (19, 900, 600)\n",
      "Channels in file: ['60x DSRED', '60x GFP']\n",
      "Using channel '60x GFP' at index 1.\n",
      "Saved TIFF: A:\\_Ongoing\\20250128_ActRep_version2_24well\\Output\\60x_GFP_TIFF\\Rep_17_001.tiff\n",
      "\n",
      "--- Processing: Rep_17_002.nd2 ---\n",
      "\n",
      "Processing ND2 file: Rep_17_002.nd2\n",
      "Detected Axes: ['x', 'y', 'c', 't', 'z']\n",
      "Detected Shape: (19, 900, 600)\n",
      "Channels in file: ['60x DSRED', '60x GFP']\n",
      "Using channel '60x DSRED' at index 0.\n",
      "Saved TIFF: A:\\_Ongoing\\20250128_ActRep_version2_24well\\Output\\60x_DSRED_TIFF\\Rep_17_002.tiff\n",
      "\n",
      "Processing ND2 file: Rep_17_002.nd2\n",
      "Detected Axes: ['x', 'y', 'c', 't', 'z']\n",
      "Detected Shape: (19, 900, 600)\n",
      "Channels in file: ['60x DSRED', '60x GFP']\n",
      "Using channel '60x GFP' at index 1.\n",
      "Saved TIFF: A:\\_Ongoing\\20250128_ActRep_version2_24well\\Output\\60x_GFP_TIFF\\Rep_17_002.tiff\n",
      "\n",
      "--- Processing: Rep_17_003.nd2 ---\n",
      "\n",
      "Processing ND2 file: Rep_17_003.nd2\n",
      "Detected Axes: ['x', 'y', 'c', 't', 'z']\n",
      "Detected Shape: (19, 900, 600)\n",
      "Channels in file: ['60x DSRED', '60x GFP']\n",
      "Using channel '60x DSRED' at index 0.\n",
      "Saved TIFF: A:\\_Ongoing\\20250128_ActRep_version2_24well\\Output\\60x_DSRED_TIFF\\Rep_17_003.tiff\n",
      "\n",
      "Processing ND2 file: Rep_17_003.nd2\n",
      "Detected Axes: ['x', 'y', 'c', 't', 'z']\n",
      "Detected Shape: (19, 900, 600)\n",
      "Channels in file: ['60x DSRED', '60x GFP']\n",
      "Using channel '60x GFP' at index 1.\n",
      "Saved TIFF: A:\\_Ongoing\\20250128_ActRep_version2_24well\\Output\\60x_GFP_TIFF\\Rep_17_003.tiff\n",
      "\n",
      "--- Processing: Rep_17_004.nd2 ---\n",
      "\n",
      "Processing ND2 file: Rep_17_004.nd2\n",
      "Detected Axes: ['x', 'y', 'c', 't', 'z']\n",
      "Detected Shape: (19, 900, 600)\n",
      "Channels in file: ['60x DSRED', '60x GFP']\n",
      "Using channel '60x DSRED' at index 0.\n",
      "Saved TIFF: A:\\_Ongoing\\20250128_ActRep_version2_24well\\Output\\60x_DSRED_TIFF\\Rep_17_004.tiff\n",
      "\n",
      "Processing ND2 file: Rep_17_004.nd2\n",
      "Detected Axes: ['x', 'y', 'c', 't', 'z']\n",
      "Detected Shape: (19, 900, 600)\n",
      "Channels in file: ['60x DSRED', '60x GFP']\n",
      "Using channel '60x GFP' at index 1.\n",
      "Saved TIFF: A:\\_Ongoing\\20250128_ActRep_version2_24well\\Output\\60x_GFP_TIFF\\Rep_17_004.tiff\n",
      "\n",
      "--- Processing: Rep_17_005.nd2 ---\n",
      "\n",
      "Processing ND2 file: Rep_17_005.nd2\n",
      "Detected Axes: ['x', 'y', 'c', 't', 'z']\n",
      "Detected Shape: (19, 900, 600)\n",
      "Channels in file: ['60x DSRED', '60x GFP']\n",
      "Using channel '60x DSRED' at index 0.\n",
      "Saved TIFF: A:\\_Ongoing\\20250128_ActRep_version2_24well\\Output\\60x_DSRED_TIFF\\Rep_17_005.tiff\n",
      "\n",
      "Processing ND2 file: Rep_17_005.nd2\n",
      "Detected Axes: ['x', 'y', 'c', 't', 'z']\n",
      "Detected Shape: (19, 900, 600)\n",
      "Channels in file: ['60x DSRED', '60x GFP']\n",
      "Using channel '60x GFP' at index 1.\n",
      "Saved TIFF: A:\\_Ongoing\\20250128_ActRep_version2_24well\\Output\\60x_GFP_TIFF\\Rep_17_005.tiff\n",
      "\n",
      "--- Processing: Rep_17_006.nd2 ---\n",
      "\n",
      "Processing ND2 file: Rep_17_006.nd2\n",
      "Detected Axes: ['x', 'y', 'c', 't', 'z']\n",
      "Detected Shape: (19, 900, 600)\n",
      "Channels in file: ['60x DSRED', '60x GFP']\n",
      "Using channel '60x DSRED' at index 0.\n",
      "Saved TIFF: A:\\_Ongoing\\20250128_ActRep_version2_24well\\Output\\60x_DSRED_TIFF\\Rep_17_006.tiff\n",
      "\n",
      "Processing ND2 file: Rep_17_006.nd2\n",
      "Detected Axes: ['x', 'y', 'c', 't', 'z']\n",
      "Detected Shape: (19, 900, 600)\n",
      "Channels in file: ['60x DSRED', '60x GFP']\n",
      "Using channel '60x GFP' at index 1.\n",
      "Saved TIFF: A:\\_Ongoing\\20250128_ActRep_version2_24well\\Output\\60x_GFP_TIFF\\Rep_17_006.tiff\n",
      "\n",
      "--- Processing: Rep_17_007.nd2 ---\n",
      "\n",
      "Processing ND2 file: Rep_17_007.nd2\n",
      "Detected Axes: ['x', 'y', 'c', 't', 'z']\n",
      "Detected Shape: (19, 900, 600)\n",
      "Channels in file: ['60x DSRED', '60x GFP']\n",
      "Using channel '60x DSRED' at index 0.\n",
      "Saved TIFF: A:\\_Ongoing\\20250128_ActRep_version2_24well\\Output\\60x_DSRED_TIFF\\Rep_17_007.tiff\n",
      "\n",
      "Processing ND2 file: Rep_17_007.nd2\n",
      "Detected Axes: ['x', 'y', 'c', 't', 'z']\n",
      "Detected Shape: (19, 900, 600)\n",
      "Channels in file: ['60x DSRED', '60x GFP']\n",
      "Using channel '60x GFP' at index 1.\n",
      "Saved TIFF: A:\\_Ongoing\\20250128_ActRep_version2_24well\\Output\\60x_GFP_TIFF\\Rep_17_007.tiff\n",
      "\n",
      "--- Processing: Rep_17_008.nd2 ---\n",
      "\n",
      "Processing ND2 file: Rep_17_008.nd2\n",
      "Detected Axes: ['x', 'y', 'c', 't', 'z']\n",
      "Detected Shape: (19, 900, 600)\n",
      "Channels in file: ['60x DSRED', '60x GFP']\n",
      "Using channel '60x DSRED' at index 0.\n",
      "Saved TIFF: A:\\_Ongoing\\20250128_ActRep_version2_24well\\Output\\60x_DSRED_TIFF\\Rep_17_008.tiff\n",
      "\n",
      "Processing ND2 file: Rep_17_008.nd2\n",
      "Detected Axes: ['x', 'y', 'c', 't', 'z']\n",
      "Detected Shape: (19, 900, 600)\n",
      "Channels in file: ['60x DSRED', '60x GFP']\n",
      "Using channel '60x GFP' at index 1.\n",
      "Saved TIFF: A:\\_Ongoing\\20250128_ActRep_version2_24well\\Output\\60x_GFP_TIFF\\Rep_17_008.tiff\n",
      "\n",
      "--- Processing: Rep_17_009.nd2 ---\n",
      "\n",
      "Processing ND2 file: Rep_17_009.nd2\n",
      "Detected Axes: ['x', 'y', 'c', 't', 'z']\n",
      "Detected Shape: (19, 900, 600)\n",
      "Channels in file: ['60x DSRED', '60x GFP']\n",
      "Using channel '60x DSRED' at index 0.\n",
      "Saved TIFF: A:\\_Ongoing\\20250128_ActRep_version2_24well\\Output\\60x_DSRED_TIFF\\Rep_17_009.tiff\n",
      "\n",
      "Processing ND2 file: Rep_17_009.nd2\n",
      "Detected Axes: ['x', 'y', 'c', 't', 'z']\n",
      "Detected Shape: (19, 900, 600)\n",
      "Channels in file: ['60x DSRED', '60x GFP']\n",
      "Using channel '60x GFP' at index 1.\n",
      "Saved TIFF: A:\\_Ongoing\\20250128_ActRep_version2_24well\\Output\\60x_GFP_TIFF\\Rep_17_009.tiff\n",
      "\n",
      "--- Processing: Rep_18_001.nd2 ---\n",
      "\n",
      "Processing ND2 file: Rep_18_001.nd2\n",
      "Detected Axes: ['x', 'y', 'c', 't', 'z']\n",
      "Detected Shape: (19, 900, 600)\n",
      "Channels in file: ['60x DSRED', '60x GFP']\n",
      "Using channel '60x DSRED' at index 0.\n",
      "Saved TIFF: A:\\_Ongoing\\20250128_ActRep_version2_24well\\Output\\60x_DSRED_TIFF\\Rep_18_001.tiff\n",
      "\n",
      "Processing ND2 file: Rep_18_001.nd2\n",
      "Detected Axes: ['x', 'y', 'c', 't', 'z']\n",
      "Detected Shape: (19, 900, 600)\n",
      "Channels in file: ['60x DSRED', '60x GFP']\n",
      "Using channel '60x GFP' at index 1.\n",
      "Saved TIFF: A:\\_Ongoing\\20250128_ActRep_version2_24well\\Output\\60x_GFP_TIFF\\Rep_18_001.tiff\n",
      "\n",
      "--- Processing: Rep_18_002.nd2 ---\n",
      "\n",
      "Processing ND2 file: Rep_18_002.nd2\n",
      "Detected Axes: ['x', 'y', 'c', 't', 'z']\n",
      "Detected Shape: (19, 900, 600)\n",
      "Channels in file: ['60x DSRED', '60x GFP']\n",
      "Using channel '60x DSRED' at index 0.\n",
      "Saved TIFF: A:\\_Ongoing\\20250128_ActRep_version2_24well\\Output\\60x_DSRED_TIFF\\Rep_18_002.tiff\n",
      "\n",
      "Processing ND2 file: Rep_18_002.nd2\n",
      "Detected Axes: ['x', 'y', 'c', 't', 'z']\n",
      "Detected Shape: (19, 900, 600)\n",
      "Channels in file: ['60x DSRED', '60x GFP']\n",
      "Using channel '60x GFP' at index 1.\n",
      "Saved TIFF: A:\\_Ongoing\\20250128_ActRep_version2_24well\\Output\\60x_GFP_TIFF\\Rep_18_002.tiff\n",
      "\n",
      "--- Processing: Rep_18_003.nd2 ---\n",
      "\n",
      "Processing ND2 file: Rep_18_003.nd2\n",
      "Detected Axes: ['x', 'y', 'c', 't', 'z']\n",
      "Detected Shape: (19, 900, 600)\n",
      "Channels in file: ['60x DSRED', '60x GFP']\n",
      "Using channel '60x DSRED' at index 0.\n",
      "Saved TIFF: A:\\_Ongoing\\20250128_ActRep_version2_24well\\Output\\60x_DSRED_TIFF\\Rep_18_003.tiff\n",
      "\n",
      "Processing ND2 file: Rep_18_003.nd2\n",
      "Detected Axes: ['x', 'y', 'c', 't', 'z']\n",
      "Detected Shape: (19, 900, 600)\n",
      "Channels in file: ['60x DSRED', '60x GFP']\n",
      "Using channel '60x GFP' at index 1.\n",
      "Saved TIFF: A:\\_Ongoing\\20250128_ActRep_version2_24well\\Output\\60x_GFP_TIFF\\Rep_18_003.tiff\n",
      "\n",
      "--- Processing: Rep_18_004.nd2 ---\n",
      "\n",
      "Processing ND2 file: Rep_18_004.nd2\n",
      "Detected Axes: ['x', 'y', 'c', 't', 'z']\n",
      "Detected Shape: (19, 900, 600)\n",
      "Channels in file: ['60x DSRED', '60x GFP']\n",
      "Using channel '60x DSRED' at index 0.\n",
      "Saved TIFF: A:\\_Ongoing\\20250128_ActRep_version2_24well\\Output\\60x_DSRED_TIFF\\Rep_18_004.tiff\n",
      "\n",
      "Processing ND2 file: Rep_18_004.nd2\n",
      "Detected Axes: ['x', 'y', 'c', 't', 'z']\n",
      "Detected Shape: (19, 900, 600)\n",
      "Channels in file: ['60x DSRED', '60x GFP']\n",
      "Using channel '60x GFP' at index 1.\n",
      "Saved TIFF: A:\\_Ongoing\\20250128_ActRep_version2_24well\\Output\\60x_GFP_TIFF\\Rep_18_004.tiff\n",
      "\n",
      "--- Processing: Rep_18_005.nd2 ---\n",
      "\n",
      "Processing ND2 file: Rep_18_005.nd2\n",
      "Detected Axes: ['x', 'y', 'c', 't', 'z']\n",
      "Detected Shape: (19, 900, 600)\n",
      "Channels in file: ['60x DSRED', '60x GFP']\n",
      "Using channel '60x DSRED' at index 0.\n",
      "Saved TIFF: A:\\_Ongoing\\20250128_ActRep_version2_24well\\Output\\60x_DSRED_TIFF\\Rep_18_005.tiff\n",
      "\n",
      "Processing ND2 file: Rep_18_005.nd2\n",
      "Detected Axes: ['x', 'y', 'c', 't', 'z']\n",
      "Detected Shape: (19, 900, 600)\n",
      "Channels in file: ['60x DSRED', '60x GFP']\n",
      "Using channel '60x GFP' at index 1.\n",
      "Saved TIFF: A:\\_Ongoing\\20250128_ActRep_version2_24well\\Output\\60x_GFP_TIFF\\Rep_18_005.tiff\n",
      "\n",
      "--- Processing: Rep_18_006.nd2 ---\n",
      "\n",
      "Processing ND2 file: Rep_18_006.nd2\n",
      "Detected Axes: ['x', 'y', 'c', 't', 'z']\n",
      "Detected Shape: (19, 900, 600)\n",
      "Channels in file: ['60x DSRED', '60x GFP']\n",
      "Using channel '60x DSRED' at index 0.\n",
      "Saved TIFF: A:\\_Ongoing\\20250128_ActRep_version2_24well\\Output\\60x_DSRED_TIFF\\Rep_18_006.tiff\n",
      "\n",
      "Processing ND2 file: Rep_18_006.nd2\n",
      "Detected Axes: ['x', 'y', 'c', 't', 'z']\n",
      "Detected Shape: (19, 900, 600)\n",
      "Channels in file: ['60x DSRED', '60x GFP']\n",
      "Using channel '60x GFP' at index 1.\n",
      "Saved TIFF: A:\\_Ongoing\\20250128_ActRep_version2_24well\\Output\\60x_GFP_TIFF\\Rep_18_006.tiff\n",
      "\n",
      "--- Processing: Rep_18_007.nd2 ---\n",
      "\n",
      "Processing ND2 file: Rep_18_007.nd2\n",
      "Detected Axes: ['x', 'y', 'c', 't', 'z']\n",
      "Detected Shape: (19, 900, 600)\n",
      "Channels in file: ['60x DSRED', '60x GFP']\n",
      "Using channel '60x DSRED' at index 0.\n",
      "Saved TIFF: A:\\_Ongoing\\20250128_ActRep_version2_24well\\Output\\60x_DSRED_TIFF\\Rep_18_007.tiff\n",
      "\n",
      "Processing ND2 file: Rep_18_007.nd2\n",
      "Detected Axes: ['x', 'y', 'c', 't', 'z']\n",
      "Detected Shape: (19, 900, 600)\n",
      "Channels in file: ['60x DSRED', '60x GFP']\n",
      "Using channel '60x GFP' at index 1.\n",
      "Saved TIFF: A:\\_Ongoing\\20250128_ActRep_version2_24well\\Output\\60x_GFP_TIFF\\Rep_18_007.tiff\n",
      "\n",
      "--- Processing: Rep_18_008.nd2 ---\n",
      "\n",
      "Processing ND2 file: Rep_18_008.nd2\n",
      "Detected Axes: ['x', 'y', 'c', 't', 'z']\n",
      "Detected Shape: (19, 900, 600)\n",
      "Channels in file: ['60x DSRED', '60x GFP']\n",
      "Using channel '60x DSRED' at index 0.\n",
      "Saved TIFF: A:\\_Ongoing\\20250128_ActRep_version2_24well\\Output\\60x_DSRED_TIFF\\Rep_18_008.tiff\n",
      "\n",
      "Processing ND2 file: Rep_18_008.nd2\n",
      "Detected Axes: ['x', 'y', 'c', 't', 'z']\n",
      "Detected Shape: (19, 900, 600)\n",
      "Channels in file: ['60x DSRED', '60x GFP']\n",
      "Using channel '60x GFP' at index 1.\n",
      "Saved TIFF: A:\\_Ongoing\\20250128_ActRep_version2_24well\\Output\\60x_GFP_TIFF\\Rep_18_008.tiff\n",
      "\n",
      "--- Processing: Rep_18_009.nd2 ---\n",
      "\n",
      "Processing ND2 file: Rep_18_009.nd2\n",
      "Detected Axes: ['x', 'y', 'c', 't', 'z']\n",
      "Detected Shape: (19, 900, 600)\n",
      "Channels in file: ['60x DSRED', '60x GFP']\n",
      "Using channel '60x DSRED' at index 0.\n",
      "Saved TIFF: A:\\_Ongoing\\20250128_ActRep_version2_24well\\Output\\60x_DSRED_TIFF\\Rep_18_009.tiff\n",
      "\n",
      "Processing ND2 file: Rep_18_009.nd2\n",
      "Detected Axes: ['x', 'y', 'c', 't', 'z']\n",
      "Detected Shape: (19, 900, 600)\n",
      "Channels in file: ['60x DSRED', '60x GFP']\n",
      "Using channel '60x GFP' at index 1.\n",
      "Saved TIFF: A:\\_Ongoing\\20250128_ActRep_version2_24well\\Output\\60x_GFP_TIFF\\Rep_18_009.tiff\n",
      "\n",
      "--- Processing: Rep_18_010.nd2 ---\n",
      "\n",
      "Processing ND2 file: Rep_18_010.nd2\n",
      "Detected Axes: ['x', 'y', 'c', 't', 'z']\n",
      "Detected Shape: (19, 900, 600)\n",
      "Channels in file: ['60x DSRED', '60x GFP']\n",
      "Using channel '60x DSRED' at index 0.\n",
      "Saved TIFF: A:\\_Ongoing\\20250128_ActRep_version2_24well\\Output\\60x_DSRED_TIFF\\Rep_18_010.tiff\n",
      "\n",
      "Processing ND2 file: Rep_18_010.nd2\n",
      "Detected Axes: ['x', 'y', 'c', 't', 'z']\n",
      "Detected Shape: (19, 900, 600)\n",
      "Channels in file: ['60x DSRED', '60x GFP']\n",
      "Using channel '60x GFP' at index 1.\n",
      "Saved TIFF: A:\\_Ongoing\\20250128_ActRep_version2_24well\\Output\\60x_GFP_TIFF\\Rep_18_010.tiff\n",
      "\n",
      "--- Processing: Rep_18_011.nd2 ---\n",
      "\n",
      "Processing ND2 file: Rep_18_011.nd2\n",
      "Detected Axes: ['x', 'y', 'c', 't', 'z']\n",
      "Detected Shape: (19, 900, 600)\n",
      "Channels in file: ['60x DSRED', '60x GFP']\n",
      "Using channel '60x DSRED' at index 0.\n",
      "Saved TIFF: A:\\_Ongoing\\20250128_ActRep_version2_24well\\Output\\60x_DSRED_TIFF\\Rep_18_011.tiff\n",
      "\n",
      "Processing ND2 file: Rep_18_011.nd2\n",
      "Detected Axes: ['x', 'y', 'c', 't', 'z']\n",
      "Detected Shape: (19, 900, 600)\n",
      "Channels in file: ['60x DSRED', '60x GFP']\n",
      "Using channel '60x GFP' at index 1.\n",
      "Saved TIFF: A:\\_Ongoing\\20250128_ActRep_version2_24well\\Output\\60x_GFP_TIFF\\Rep_18_011.tiff\n",
      "\n",
      "--- Processing: Rep_19_001.nd2 ---\n",
      "\n",
      "Processing ND2 file: Rep_19_001.nd2\n",
      "Detected Axes: ['x', 'y', 'c', 't', 'z']\n",
      "Detected Shape: (19, 900, 600)\n",
      "Channels in file: ['60x DSRED', '60x GFP']\n",
      "Using channel '60x DSRED' at index 0.\n",
      "Saved TIFF: A:\\_Ongoing\\20250128_ActRep_version2_24well\\Output\\60x_DSRED_TIFF\\Rep_19_001.tiff\n",
      "\n",
      "Processing ND2 file: Rep_19_001.nd2\n",
      "Detected Axes: ['x', 'y', 'c', 't', 'z']\n",
      "Detected Shape: (19, 900, 600)\n",
      "Channels in file: ['60x DSRED', '60x GFP']\n",
      "Using channel '60x GFP' at index 1.\n",
      "Saved TIFF: A:\\_Ongoing\\20250128_ActRep_version2_24well\\Output\\60x_GFP_TIFF\\Rep_19_001.tiff\n",
      "\n",
      "--- Processing: Rep_19_002.nd2 ---\n",
      "\n",
      "Processing ND2 file: Rep_19_002.nd2\n",
      "Detected Axes: ['x', 'y', 'c', 't', 'z']\n",
      "Detected Shape: (19, 900, 600)\n",
      "Channels in file: ['60x DSRED', '60x GFP']\n",
      "Using channel '60x DSRED' at index 0.\n",
      "Saved TIFF: A:\\_Ongoing\\20250128_ActRep_version2_24well\\Output\\60x_DSRED_TIFF\\Rep_19_002.tiff\n",
      "\n",
      "Processing ND2 file: Rep_19_002.nd2\n",
      "Detected Axes: ['x', 'y', 'c', 't', 'z']\n",
      "Detected Shape: (19, 900, 600)\n",
      "Channels in file: ['60x DSRED', '60x GFP']\n",
      "Using channel '60x GFP' at index 1.\n",
      "Saved TIFF: A:\\_Ongoing\\20250128_ActRep_version2_24well\\Output\\60x_GFP_TIFF\\Rep_19_002.tiff\n",
      "\n",
      "--- Processing: Rep_19_003.nd2 ---\n",
      "\n",
      "Processing ND2 file: Rep_19_003.nd2\n",
      "Detected Axes: ['x', 'y', 'c', 't', 'z']\n",
      "Detected Shape: (19, 900, 600)\n",
      "Channels in file: ['60x DSRED', '60x GFP']\n",
      "Using channel '60x DSRED' at index 0.\n",
      "Saved TIFF: A:\\_Ongoing\\20250128_ActRep_version2_24well\\Output\\60x_DSRED_TIFF\\Rep_19_003.tiff\n",
      "\n",
      "Processing ND2 file: Rep_19_003.nd2\n",
      "Detected Axes: ['x', 'y', 'c', 't', 'z']\n",
      "Detected Shape: (19, 900, 600)\n",
      "Channels in file: ['60x DSRED', '60x GFP']\n",
      "Using channel '60x GFP' at index 1.\n",
      "Saved TIFF: A:\\_Ongoing\\20250128_ActRep_version2_24well\\Output\\60x_GFP_TIFF\\Rep_19_003.tiff\n",
      "\n",
      "--- Processing: Rep_19_004.nd2 ---\n",
      "\n",
      "Processing ND2 file: Rep_19_004.nd2\n",
      "Detected Axes: ['x', 'y', 'c', 't', 'z']\n",
      "Detected Shape: (19, 900, 600)\n",
      "Channels in file: ['60x DSRED', '60x GFP']\n",
      "Using channel '60x DSRED' at index 0.\n",
      "Saved TIFF: A:\\_Ongoing\\20250128_ActRep_version2_24well\\Output\\60x_DSRED_TIFF\\Rep_19_004.tiff\n",
      "\n",
      "Processing ND2 file: Rep_19_004.nd2\n",
      "Detected Axes: ['x', 'y', 'c', 't', 'z']\n",
      "Detected Shape: (19, 900, 600)\n",
      "Channels in file: ['60x DSRED', '60x GFP']\n",
      "Using channel '60x GFP' at index 1.\n",
      "Saved TIFF: A:\\_Ongoing\\20250128_ActRep_version2_24well\\Output\\60x_GFP_TIFF\\Rep_19_004.tiff\n",
      "\n",
      "--- Processing: Rep_19_005.nd2 ---\n",
      "\n",
      "Processing ND2 file: Rep_19_005.nd2\n",
      "Detected Axes: ['x', 'y', 'c', 't', 'z']\n",
      "Detected Shape: (19, 900, 600)\n",
      "Channels in file: ['60x DSRED', '60x GFP']\n",
      "Using channel '60x DSRED' at index 0.\n",
      "Saved TIFF: A:\\_Ongoing\\20250128_ActRep_version2_24well\\Output\\60x_DSRED_TIFF\\Rep_19_005.tiff\n",
      "\n",
      "Processing ND2 file: Rep_19_005.nd2\n",
      "Detected Axes: ['x', 'y', 'c', 't', 'z']\n",
      "Detected Shape: (19, 900, 600)\n",
      "Channels in file: ['60x DSRED', '60x GFP']\n",
      "Using channel '60x GFP' at index 1.\n",
      "Saved TIFF: A:\\_Ongoing\\20250128_ActRep_version2_24well\\Output\\60x_GFP_TIFF\\Rep_19_005.tiff\n",
      "\n",
      "--- Processing: Rep_19_006.nd2 ---\n",
      "\n",
      "Processing ND2 file: Rep_19_006.nd2\n",
      "Detected Axes: ['x', 'y', 'c', 't', 'z']\n",
      "Detected Shape: (19, 900, 600)\n",
      "Channels in file: ['60x DSRED', '60x GFP']\n",
      "Using channel '60x DSRED' at index 0.\n",
      "Saved TIFF: A:\\_Ongoing\\20250128_ActRep_version2_24well\\Output\\60x_DSRED_TIFF\\Rep_19_006.tiff\n",
      "\n",
      "Processing ND2 file: Rep_19_006.nd2\n",
      "Detected Axes: ['x', 'y', 'c', 't', 'z']\n",
      "Detected Shape: (19, 900, 600)\n",
      "Channels in file: ['60x DSRED', '60x GFP']\n",
      "Using channel '60x GFP' at index 1.\n",
      "Saved TIFF: A:\\_Ongoing\\20250128_ActRep_version2_24well\\Output\\60x_GFP_TIFF\\Rep_19_006.tiff\n",
      "\n",
      "--- Processing: Rep_19_007.nd2 ---\n",
      "\n",
      "Processing ND2 file: Rep_19_007.nd2\n",
      "Detected Axes: ['x', 'y', 'c', 't', 'z']\n",
      "Detected Shape: (19, 900, 600)\n",
      "Channels in file: ['60x DSRED', '60x GFP']\n",
      "Using channel '60x DSRED' at index 0.\n",
      "Saved TIFF: A:\\_Ongoing\\20250128_ActRep_version2_24well\\Output\\60x_DSRED_TIFF\\Rep_19_007.tiff\n",
      "\n",
      "Processing ND2 file: Rep_19_007.nd2\n",
      "Detected Axes: ['x', 'y', 'c', 't', 'z']\n",
      "Detected Shape: (19, 900, 600)\n",
      "Channels in file: ['60x DSRED', '60x GFP']\n",
      "Using channel '60x GFP' at index 1.\n",
      "Saved TIFF: A:\\_Ongoing\\20250128_ActRep_version2_24well\\Output\\60x_GFP_TIFF\\Rep_19_007.tiff\n",
      "\n",
      "--- Processing: Rep_19_008.nd2 ---\n",
      "\n",
      "Processing ND2 file: Rep_19_008.nd2\n",
      "Detected Axes: ['x', 'y', 'c', 't', 'z']\n",
      "Detected Shape: (19, 900, 600)\n",
      "Channels in file: ['60x DSRED', '60x GFP']\n",
      "Using channel '60x DSRED' at index 0.\n",
      "Saved TIFF: A:\\_Ongoing\\20250128_ActRep_version2_24well\\Output\\60x_DSRED_TIFF\\Rep_19_008.tiff\n",
      "\n",
      "Processing ND2 file: Rep_19_008.nd2\n",
      "Detected Axes: ['x', 'y', 'c', 't', 'z']\n",
      "Detected Shape: (19, 900, 600)\n",
      "Channels in file: ['60x DSRED', '60x GFP']\n",
      "Using channel '60x GFP' at index 1.\n",
      "Saved TIFF: A:\\_Ongoing\\20250128_ActRep_version2_24well\\Output\\60x_GFP_TIFF\\Rep_19_008.tiff\n",
      "\n",
      "--- Processing: Rep_19_009.nd2 ---\n",
      "\n",
      "Processing ND2 file: Rep_19_009.nd2\n",
      "Detected Axes: ['x', 'y', 'c', 't', 'z']\n",
      "Detected Shape: (19, 900, 600)\n",
      "Channels in file: ['60x DSRED', '60x GFP']\n",
      "Using channel '60x DSRED' at index 0.\n",
      "Saved TIFF: A:\\_Ongoing\\20250128_ActRep_version2_24well\\Output\\60x_DSRED_TIFF\\Rep_19_009.tiff\n",
      "\n",
      "Processing ND2 file: Rep_19_009.nd2\n",
      "Detected Axes: ['x', 'y', 'c', 't', 'z']\n",
      "Detected Shape: (19, 900, 600)\n",
      "Channels in file: ['60x DSRED', '60x GFP']\n",
      "Using channel '60x GFP' at index 1.\n",
      "Saved TIFF: A:\\_Ongoing\\20250128_ActRep_version2_24well\\Output\\60x_GFP_TIFF\\Rep_19_009.tiff\n",
      "\n",
      "--- Processing: Rep_19_010.nd2 ---\n",
      "\n",
      "Processing ND2 file: Rep_19_010.nd2\n",
      "Detected Axes: ['x', 'y', 'c', 't', 'z']\n",
      "Detected Shape: (19, 900, 600)\n",
      "Channels in file: ['60x DSRED', '60x GFP']\n",
      "Using channel '60x DSRED' at index 0.\n",
      "Saved TIFF: A:\\_Ongoing\\20250128_ActRep_version2_24well\\Output\\60x_DSRED_TIFF\\Rep_19_010.tiff\n",
      "\n",
      "Processing ND2 file: Rep_19_010.nd2\n",
      "Detected Axes: ['x', 'y', 'c', 't', 'z']\n",
      "Detected Shape: (19, 900, 600)\n",
      "Channels in file: ['60x DSRED', '60x GFP']\n",
      "Using channel '60x GFP' at index 1.\n",
      "Saved TIFF: A:\\_Ongoing\\20250128_ActRep_version2_24well\\Output\\60x_GFP_TIFF\\Rep_19_010.tiff\n",
      "\n",
      "--- Processing: Rep_20_001.nd2 ---\n",
      "\n",
      "Processing ND2 file: Rep_20_001.nd2\n",
      "Detected Axes: ['x', 'y', 'c', 't', 'z']\n",
      "Detected Shape: (19, 900, 600)\n",
      "Channels in file: ['60x DSRED', '60x GFP']\n",
      "Using channel '60x DSRED' at index 0.\n",
      "Saved TIFF: A:\\_Ongoing\\20250128_ActRep_version2_24well\\Output\\60x_DSRED_TIFF\\Rep_20_001.tiff\n",
      "\n",
      "Processing ND2 file: Rep_20_001.nd2\n",
      "Detected Axes: ['x', 'y', 'c', 't', 'z']\n",
      "Detected Shape: (19, 900, 600)\n",
      "Channels in file: ['60x DSRED', '60x GFP']\n",
      "Using channel '60x GFP' at index 1.\n",
      "Saved TIFF: A:\\_Ongoing\\20250128_ActRep_version2_24well\\Output\\60x_GFP_TIFF\\Rep_20_001.tiff\n",
      "\n",
      "--- Processing: Rep_20_002.nd2 ---\n",
      "\n",
      "Processing ND2 file: Rep_20_002.nd2\n",
      "Detected Axes: ['x', 'y', 'c', 't', 'z']\n",
      "Detected Shape: (19, 900, 600)\n",
      "Channels in file: ['60x DSRED', '60x GFP']\n",
      "Using channel '60x DSRED' at index 0.\n",
      "Saved TIFF: A:\\_Ongoing\\20250128_ActRep_version2_24well\\Output\\60x_DSRED_TIFF\\Rep_20_002.tiff\n",
      "\n",
      "Processing ND2 file: Rep_20_002.nd2\n",
      "Detected Axes: ['x', 'y', 'c', 't', 'z']\n",
      "Detected Shape: (19, 900, 600)\n",
      "Channels in file: ['60x DSRED', '60x GFP']\n",
      "Using channel '60x GFP' at index 1.\n",
      "Saved TIFF: A:\\_Ongoing\\20250128_ActRep_version2_24well\\Output\\60x_GFP_TIFF\\Rep_20_002.tiff\n",
      "\n",
      "--- Processing: Rep_20_003.nd2 ---\n",
      "\n",
      "Processing ND2 file: Rep_20_003.nd2\n",
      "Detected Axes: ['x', 'y', 'c', 't', 'z']\n",
      "Detected Shape: (19, 900, 600)\n",
      "Channels in file: ['60x DSRED', '60x GFP']\n",
      "Using channel '60x DSRED' at index 0.\n",
      "Saved TIFF: A:\\_Ongoing\\20250128_ActRep_version2_24well\\Output\\60x_DSRED_TIFF\\Rep_20_003.tiff\n",
      "\n",
      "Processing ND2 file: Rep_20_003.nd2\n",
      "Detected Axes: ['x', 'y', 'c', 't', 'z']\n",
      "Detected Shape: (19, 900, 600)\n",
      "Channels in file: ['60x DSRED', '60x GFP']\n",
      "Using channel '60x GFP' at index 1.\n",
      "Saved TIFF: A:\\_Ongoing\\20250128_ActRep_version2_24well\\Output\\60x_GFP_TIFF\\Rep_20_003.tiff\n",
      "\n",
      "--- Processing: Rep_20_004.nd2 ---\n",
      "\n",
      "Processing ND2 file: Rep_20_004.nd2\n",
      "Detected Axes: ['x', 'y', 'c', 't', 'z']\n",
      "Detected Shape: (19, 900, 600)\n",
      "Channels in file: ['60x DSRED', '60x GFP']\n",
      "Using channel '60x DSRED' at index 0.\n",
      "Saved TIFF: A:\\_Ongoing\\20250128_ActRep_version2_24well\\Output\\60x_DSRED_TIFF\\Rep_20_004.tiff\n",
      "\n",
      "Processing ND2 file: Rep_20_004.nd2\n",
      "Detected Axes: ['x', 'y', 'c', 't', 'z']\n",
      "Detected Shape: (19, 900, 600)\n",
      "Channels in file: ['60x DSRED', '60x GFP']\n",
      "Using channel '60x GFP' at index 1.\n",
      "Saved TIFF: A:\\_Ongoing\\20250128_ActRep_version2_24well\\Output\\60x_GFP_TIFF\\Rep_20_004.tiff\n",
      "\n",
      "--- Processing: Rep_20_005.nd2 ---\n",
      "\n",
      "Processing ND2 file: Rep_20_005.nd2\n",
      "Detected Axes: ['x', 'y', 'c', 't', 'z']\n",
      "Detected Shape: (19, 900, 600)\n",
      "Channels in file: ['60x DSRED', '60x GFP']\n",
      "Using channel '60x DSRED' at index 0.\n",
      "Saved TIFF: A:\\_Ongoing\\20250128_ActRep_version2_24well\\Output\\60x_DSRED_TIFF\\Rep_20_005.tiff\n",
      "\n",
      "Processing ND2 file: Rep_20_005.nd2\n",
      "Detected Axes: ['x', 'y', 'c', 't', 'z']\n",
      "Detected Shape: (19, 900, 600)\n",
      "Channels in file: ['60x DSRED', '60x GFP']\n",
      "Using channel '60x GFP' at index 1.\n",
      "Saved TIFF: A:\\_Ongoing\\20250128_ActRep_version2_24well\\Output\\60x_GFP_TIFF\\Rep_20_005.tiff\n",
      "\n",
      "--- Processing: Rep_20_006.nd2 ---\n",
      "\n",
      "Processing ND2 file: Rep_20_006.nd2\n",
      "Detected Axes: ['x', 'y', 'c', 't', 'z']\n",
      "Detected Shape: (19, 900, 600)\n",
      "Channels in file: ['60x DSRED', '60x GFP']\n",
      "Using channel '60x DSRED' at index 0.\n",
      "Saved TIFF: A:\\_Ongoing\\20250128_ActRep_version2_24well\\Output\\60x_DSRED_TIFF\\Rep_20_006.tiff\n",
      "\n",
      "Processing ND2 file: Rep_20_006.nd2\n",
      "Detected Axes: ['x', 'y', 'c', 't', 'z']\n",
      "Detected Shape: (19, 900, 600)\n",
      "Channels in file: ['60x DSRED', '60x GFP']\n",
      "Using channel '60x GFP' at index 1.\n",
      "Saved TIFF: A:\\_Ongoing\\20250128_ActRep_version2_24well\\Output\\60x_GFP_TIFF\\Rep_20_006.tiff\n",
      "\n",
      "--- Processing: Rep_20_007.nd2 ---\n",
      "\n",
      "Processing ND2 file: Rep_20_007.nd2\n",
      "Detected Axes: ['x', 'y', 'c', 't', 'z']\n",
      "Detected Shape: (19, 900, 600)\n",
      "Channels in file: ['60x DSRED', '60x GFP']\n",
      "Using channel '60x DSRED' at index 0.\n",
      "Saved TIFF: A:\\_Ongoing\\20250128_ActRep_version2_24well\\Output\\60x_DSRED_TIFF\\Rep_20_007.tiff\n",
      "\n",
      "Processing ND2 file: Rep_20_007.nd2\n",
      "Detected Axes: ['x', 'y', 'c', 't', 'z']\n",
      "Detected Shape: (19, 900, 600)\n",
      "Channels in file: ['60x DSRED', '60x GFP']\n",
      "Using channel '60x GFP' at index 1.\n",
      "Saved TIFF: A:\\_Ongoing\\20250128_ActRep_version2_24well\\Output\\60x_GFP_TIFF\\Rep_20_007.tiff\n",
      "\n",
      "--- Processing: Rep_20_008.nd2 ---\n",
      "\n",
      "Processing ND2 file: Rep_20_008.nd2\n",
      "Detected Axes: ['x', 'y', 'c', 't', 'z']\n",
      "Detected Shape: (19, 900, 600)\n",
      "Channels in file: ['60x DSRED', '60x GFP']\n",
      "Using channel '60x DSRED' at index 0.\n",
      "Saved TIFF: A:\\_Ongoing\\20250128_ActRep_version2_24well\\Output\\60x_DSRED_TIFF\\Rep_20_008.tiff\n",
      "\n",
      "Processing ND2 file: Rep_20_008.nd2\n",
      "Detected Axes: ['x', 'y', 'c', 't', 'z']\n",
      "Detected Shape: (19, 900, 600)\n",
      "Channels in file: ['60x DSRED', '60x GFP']\n",
      "Using channel '60x GFP' at index 1.\n",
      "Saved TIFF: A:\\_Ongoing\\20250128_ActRep_version2_24well\\Output\\60x_GFP_TIFF\\Rep_20_008.tiff\n",
      "\n",
      "--- Processing: Rep_20_009.nd2 ---\n",
      "\n",
      "Processing ND2 file: Rep_20_009.nd2\n",
      "Detected Axes: ['x', 'y', 'c', 't', 'z']\n",
      "Detected Shape: (19, 900, 600)\n",
      "Channels in file: ['60x DSRED', '60x GFP']\n",
      "Using channel '60x DSRED' at index 0.\n",
      "Saved TIFF: A:\\_Ongoing\\20250128_ActRep_version2_24well\\Output\\60x_DSRED_TIFF\\Rep_20_009.tiff\n",
      "\n",
      "Processing ND2 file: Rep_20_009.nd2\n",
      "Detected Axes: ['x', 'y', 'c', 't', 'z']\n",
      "Detected Shape: (19, 900, 600)\n",
      "Channels in file: ['60x DSRED', '60x GFP']\n",
      "Using channel '60x GFP' at index 1.\n",
      "Saved TIFF: A:\\_Ongoing\\20250128_ActRep_version2_24well\\Output\\60x_GFP_TIFF\\Rep_20_009.tiff\n",
      "\n",
      "--- Processing: Rep_20_010.nd2 ---\n",
      "\n",
      "Processing ND2 file: Rep_20_010.nd2\n",
      "Detected Axes: ['x', 'y', 'c', 't', 'z']\n",
      "Detected Shape: (19, 900, 600)\n",
      "Channels in file: ['60x DSRED', '60x GFP']\n",
      "Using channel '60x DSRED' at index 0.\n",
      "Saved TIFF: A:\\_Ongoing\\20250128_ActRep_version2_24well\\Output\\60x_DSRED_TIFF\\Rep_20_010.tiff\n",
      "\n",
      "Processing ND2 file: Rep_20_010.nd2\n",
      "Detected Axes: ['x', 'y', 'c', 't', 'z']\n",
      "Detected Shape: (19, 900, 600)\n",
      "Channels in file: ['60x DSRED', '60x GFP']\n",
      "Using channel '60x GFP' at index 1.\n",
      "Saved TIFF: A:\\_Ongoing\\20250128_ActRep_version2_24well\\Output\\60x_GFP_TIFF\\Rep_20_010.tiff\n",
      "\n",
      "--- Processing: Rep_22_001.nd2 ---\n",
      "\n",
      "Processing ND2 file: Rep_22_001.nd2\n",
      "Detected Axes: ['x', 'y', 'c', 't', 'z']\n",
      "Detected Shape: (19, 900, 600)\n",
      "Channels in file: ['60x DSRED', '60x GFP']\n",
      "Using channel '60x DSRED' at index 0.\n",
      "Saved TIFF: A:\\_Ongoing\\20250128_ActRep_version2_24well\\Output\\60x_DSRED_TIFF\\Rep_22_001.tiff\n",
      "\n",
      "Processing ND2 file: Rep_22_001.nd2\n",
      "Detected Axes: ['x', 'y', 'c', 't', 'z']\n",
      "Detected Shape: (19, 900, 600)\n",
      "Channels in file: ['60x DSRED', '60x GFP']\n",
      "Using channel '60x GFP' at index 1.\n",
      "Saved TIFF: A:\\_Ongoing\\20250128_ActRep_version2_24well\\Output\\60x_GFP_TIFF\\Rep_22_001.tiff\n",
      "\n",
      "--- Processing: Rep_22_002.nd2 ---\n",
      "\n",
      "Processing ND2 file: Rep_22_002.nd2\n",
      "Detected Axes: ['x', 'y', 'c', 't', 'z']\n",
      "Detected Shape: (19, 900, 600)\n",
      "Channels in file: ['60x DSRED', '60x GFP']\n",
      "Using channel '60x DSRED' at index 0.\n",
      "Saved TIFF: A:\\_Ongoing\\20250128_ActRep_version2_24well\\Output\\60x_DSRED_TIFF\\Rep_22_002.tiff\n",
      "\n",
      "Processing ND2 file: Rep_22_002.nd2\n",
      "Detected Axes: ['x', 'y', 'c', 't', 'z']\n",
      "Detected Shape: (19, 900, 600)\n",
      "Channels in file: ['60x DSRED', '60x GFP']\n",
      "Using channel '60x GFP' at index 1.\n",
      "Saved TIFF: A:\\_Ongoing\\20250128_ActRep_version2_24well\\Output\\60x_GFP_TIFF\\Rep_22_002.tiff\n",
      "\n",
      "--- Processing: Rep_22_003.nd2 ---\n",
      "\n",
      "Processing ND2 file: Rep_22_003.nd2\n",
      "Detected Axes: ['x', 'y', 'c', 't', 'z']\n",
      "Detected Shape: (19, 900, 600)\n",
      "Channels in file: ['60x DSRED', '60x GFP']\n",
      "Using channel '60x DSRED' at index 0.\n",
      "Saved TIFF: A:\\_Ongoing\\20250128_ActRep_version2_24well\\Output\\60x_DSRED_TIFF\\Rep_22_003.tiff\n",
      "\n",
      "Processing ND2 file: Rep_22_003.nd2\n",
      "Detected Axes: ['x', 'y', 'c', 't', 'z']\n",
      "Detected Shape: (19, 900, 600)\n",
      "Channels in file: ['60x DSRED', '60x GFP']\n",
      "Using channel '60x GFP' at index 1.\n",
      "Saved TIFF: A:\\_Ongoing\\20250128_ActRep_version2_24well\\Output\\60x_GFP_TIFF\\Rep_22_003.tiff\n",
      "\n",
      "--- Processing: Rep_22_004.nd2 ---\n",
      "\n",
      "Processing ND2 file: Rep_22_004.nd2\n",
      "Detected Axes: ['x', 'y', 'c', 't', 'z']\n",
      "Detected Shape: (19, 900, 600)\n",
      "Channels in file: ['60x DSRED', '60x GFP']\n",
      "Using channel '60x DSRED' at index 0.\n",
      "Saved TIFF: A:\\_Ongoing\\20250128_ActRep_version2_24well\\Output\\60x_DSRED_TIFF\\Rep_22_004.tiff\n",
      "\n",
      "Processing ND2 file: Rep_22_004.nd2\n",
      "Detected Axes: ['x', 'y', 'c', 't', 'z']\n",
      "Detected Shape: (19, 900, 600)\n",
      "Channels in file: ['60x DSRED', '60x GFP']\n",
      "Using channel '60x GFP' at index 1.\n",
      "Saved TIFF: A:\\_Ongoing\\20250128_ActRep_version2_24well\\Output\\60x_GFP_TIFF\\Rep_22_004.tiff\n",
      "\n",
      "--- Processing: Rep_22_005.nd2 ---\n",
      "\n",
      "Processing ND2 file: Rep_22_005.nd2\n",
      "Detected Axes: ['x', 'y', 'c', 't', 'z']\n",
      "Detected Shape: (19, 900, 600)\n",
      "Channels in file: ['60x DSRED', '60x GFP']\n",
      "Using channel '60x DSRED' at index 0.\n",
      "Saved TIFF: A:\\_Ongoing\\20250128_ActRep_version2_24well\\Output\\60x_DSRED_TIFF\\Rep_22_005.tiff\n",
      "\n",
      "Processing ND2 file: Rep_22_005.nd2\n",
      "Detected Axes: ['x', 'y', 'c', 't', 'z']\n",
      "Detected Shape: (19, 900, 600)\n",
      "Channels in file: ['60x DSRED', '60x GFP']\n",
      "Using channel '60x GFP' at index 1.\n",
      "Saved TIFF: A:\\_Ongoing\\20250128_ActRep_version2_24well\\Output\\60x_GFP_TIFF\\Rep_22_005.tiff\n",
      "\n",
      "--- Processing: Rep_22_006.nd2 ---\n",
      "\n",
      "Processing ND2 file: Rep_22_006.nd2\n",
      "Detected Axes: ['x', 'y', 'c', 't', 'z']\n",
      "Detected Shape: (19, 900, 600)\n",
      "Channels in file: ['60x DSRED', '60x GFP']\n",
      "Using channel '60x DSRED' at index 0.\n",
      "Saved TIFF: A:\\_Ongoing\\20250128_ActRep_version2_24well\\Output\\60x_DSRED_TIFF\\Rep_22_006.tiff\n",
      "\n",
      "Processing ND2 file: Rep_22_006.nd2\n",
      "Detected Axes: ['x', 'y', 'c', 't', 'z']\n",
      "Detected Shape: (19, 900, 600)\n",
      "Channels in file: ['60x DSRED', '60x GFP']\n",
      "Using channel '60x GFP' at index 1.\n",
      "Saved TIFF: A:\\_Ongoing\\20250128_ActRep_version2_24well\\Output\\60x_GFP_TIFF\\Rep_22_006.tiff\n",
      "\n",
      "--- Processing: Rep_22_007.nd2 ---\n",
      "\n",
      "Processing ND2 file: Rep_22_007.nd2\n",
      "Detected Axes: ['x', 'y', 'c', 't', 'z']\n",
      "Detected Shape: (19, 900, 600)\n",
      "Channels in file: ['60x DSRED', '60x GFP']\n",
      "Using channel '60x DSRED' at index 0.\n",
      "Saved TIFF: A:\\_Ongoing\\20250128_ActRep_version2_24well\\Output\\60x_DSRED_TIFF\\Rep_22_007.tiff\n",
      "\n",
      "Processing ND2 file: Rep_22_007.nd2\n",
      "Detected Axes: ['x', 'y', 'c', 't', 'z']\n",
      "Detected Shape: (19, 900, 600)\n",
      "Channels in file: ['60x DSRED', '60x GFP']\n",
      "Using channel '60x GFP' at index 1.\n",
      "Saved TIFF: A:\\_Ongoing\\20250128_ActRep_version2_24well\\Output\\60x_GFP_TIFF\\Rep_22_007.tiff\n",
      "\n",
      "--- Processing: Rep_23_001.nd2 ---\n",
      "\n",
      "Processing ND2 file: Rep_23_001.nd2\n",
      "Detected Axes: ['x', 'y', 'c', 't', 'z']\n",
      "Detected Shape: (19, 900, 600)\n",
      "Channels in file: ['60x DSRED', '60x GFP']\n",
      "Using channel '60x DSRED' at index 0.\n",
      "Saved TIFF: A:\\_Ongoing\\20250128_ActRep_version2_24well\\Output\\60x_DSRED_TIFF\\Rep_23_001.tiff\n",
      "\n",
      "Processing ND2 file: Rep_23_001.nd2\n",
      "Detected Axes: ['x', 'y', 'c', 't', 'z']\n",
      "Detected Shape: (19, 900, 600)\n",
      "Channels in file: ['60x DSRED', '60x GFP']\n",
      "Using channel '60x GFP' at index 1.\n",
      "Saved TIFF: A:\\_Ongoing\\20250128_ActRep_version2_24well\\Output\\60x_GFP_TIFF\\Rep_23_001.tiff\n",
      "\n",
      "--- Processing: Rep_23_002.nd2 ---\n",
      "\n",
      "Processing ND2 file: Rep_23_002.nd2\n",
      "Detected Axes: ['x', 'y', 'c', 't', 'z']\n",
      "Detected Shape: (19, 900, 600)\n",
      "Channels in file: ['60x DSRED', '60x GFP']\n",
      "Using channel '60x DSRED' at index 0.\n",
      "Saved TIFF: A:\\_Ongoing\\20250128_ActRep_version2_24well\\Output\\60x_DSRED_TIFF\\Rep_23_002.tiff\n",
      "\n",
      "Processing ND2 file: Rep_23_002.nd2\n",
      "Detected Axes: ['x', 'y', 'c', 't', 'z']\n",
      "Detected Shape: (19, 900, 600)\n",
      "Channels in file: ['60x DSRED', '60x GFP']\n",
      "Using channel '60x GFP' at index 1.\n",
      "Saved TIFF: A:\\_Ongoing\\20250128_ActRep_version2_24well\\Output\\60x_GFP_TIFF\\Rep_23_002.tiff\n",
      "\n",
      "--- Processing: Rep_23_003.nd2 ---\n",
      "\n",
      "Processing ND2 file: Rep_23_003.nd2\n",
      "Detected Axes: ['x', 'y', 'c', 't', 'z']\n",
      "Detected Shape: (19, 900, 600)\n",
      "Channels in file: ['60x DSRED', '60x GFP']\n",
      "Using channel '60x DSRED' at index 0.\n",
      "Saved TIFF: A:\\_Ongoing\\20250128_ActRep_version2_24well\\Output\\60x_DSRED_TIFF\\Rep_23_003.tiff\n",
      "\n",
      "Processing ND2 file: Rep_23_003.nd2\n",
      "Detected Axes: ['x', 'y', 'c', 't', 'z']\n",
      "Detected Shape: (19, 900, 600)\n",
      "Channels in file: ['60x DSRED', '60x GFP']\n",
      "Using channel '60x GFP' at index 1.\n",
      "Saved TIFF: A:\\_Ongoing\\20250128_ActRep_version2_24well\\Output\\60x_GFP_TIFF\\Rep_23_003.tiff\n",
      "\n",
      "--- Processing: Rep_23_004.nd2 ---\n",
      "\n",
      "Processing ND2 file: Rep_23_004.nd2\n",
      "Detected Axes: ['x', 'y', 'c', 't', 'z']\n",
      "Detected Shape: (19, 900, 600)\n",
      "Channels in file: ['60x DSRED', '60x GFP']\n",
      "Using channel '60x DSRED' at index 0.\n",
      "Saved TIFF: A:\\_Ongoing\\20250128_ActRep_version2_24well\\Output\\60x_DSRED_TIFF\\Rep_23_004.tiff\n",
      "\n",
      "Processing ND2 file: Rep_23_004.nd2\n",
      "Detected Axes: ['x', 'y', 'c', 't', 'z']\n",
      "Detected Shape: (19, 900, 600)\n",
      "Channels in file: ['60x DSRED', '60x GFP']\n",
      "Using channel '60x GFP' at index 1.\n",
      "Saved TIFF: A:\\_Ongoing\\20250128_ActRep_version2_24well\\Output\\60x_GFP_TIFF\\Rep_23_004.tiff\n",
      "\n",
      "--- Processing: Rep_23_005.nd2 ---\n",
      "\n",
      "Processing ND2 file: Rep_23_005.nd2\n",
      "Detected Axes: ['x', 'y', 'c', 't', 'z']\n",
      "Detected Shape: (19, 900, 600)\n",
      "Channels in file: ['60x DSRED', '60x GFP']\n",
      "Using channel '60x DSRED' at index 0.\n",
      "Saved TIFF: A:\\_Ongoing\\20250128_ActRep_version2_24well\\Output\\60x_DSRED_TIFF\\Rep_23_005.tiff\n",
      "\n",
      "Processing ND2 file: Rep_23_005.nd2\n",
      "Detected Axes: ['x', 'y', 'c', 't', 'z']\n",
      "Detected Shape: (19, 900, 600)\n",
      "Channels in file: ['60x DSRED', '60x GFP']\n",
      "Using channel '60x GFP' at index 1.\n",
      "Saved TIFF: A:\\_Ongoing\\20250128_ActRep_version2_24well\\Output\\60x_GFP_TIFF\\Rep_23_005.tiff\n",
      "\n",
      "--- Processing: Rep_23_006.nd2 ---\n",
      "\n",
      "Processing ND2 file: Rep_23_006.nd2\n",
      "Detected Axes: ['x', 'y', 'c', 't', 'z']\n",
      "Detected Shape: (19, 900, 600)\n",
      "Channels in file: ['60x DSRED', '60x GFP']\n",
      "Using channel '60x DSRED' at index 0.\n",
      "Saved TIFF: A:\\_Ongoing\\20250128_ActRep_version2_24well\\Output\\60x_DSRED_TIFF\\Rep_23_006.tiff\n",
      "\n",
      "Processing ND2 file: Rep_23_006.nd2\n",
      "Detected Axes: ['x', 'y', 'c', 't', 'z']\n",
      "Detected Shape: (19, 900, 600)\n",
      "Channels in file: ['60x DSRED', '60x GFP']\n",
      "Using channel '60x GFP' at index 1.\n",
      "Saved TIFF: A:\\_Ongoing\\20250128_ActRep_version2_24well\\Output\\60x_GFP_TIFF\\Rep_23_006.tiff\n",
      "\n",
      "--- Processing: Rep_24_001.nd2 ---\n",
      "\n",
      "Processing ND2 file: Rep_24_001.nd2\n",
      "Detected Axes: ['x', 'y', 'c', 't', 'z']\n",
      "Detected Shape: (19, 900, 600)\n",
      "Channels in file: ['60x DSRED', '60x GFP']\n",
      "Using channel '60x DSRED' at index 0.\n",
      "Saved TIFF: A:\\_Ongoing\\20250128_ActRep_version2_24well\\Output\\60x_DSRED_TIFF\\Rep_24_001.tiff\n",
      "\n",
      "Processing ND2 file: Rep_24_001.nd2\n",
      "Detected Axes: ['x', 'y', 'c', 't', 'z']\n",
      "Detected Shape: (19, 900, 600)\n",
      "Channels in file: ['60x DSRED', '60x GFP']\n",
      "Using channel '60x GFP' at index 1.\n",
      "Saved TIFF: A:\\_Ongoing\\20250128_ActRep_version2_24well\\Output\\60x_GFP_TIFF\\Rep_24_001.tiff\n",
      "\n",
      "--- Processing: Rep_24_002.nd2 ---\n",
      "\n",
      "Processing ND2 file: Rep_24_002.nd2\n",
      "Detected Axes: ['x', 'y', 'c', 't', 'z']\n",
      "Detected Shape: (19, 900, 600)\n",
      "Channels in file: ['60x DSRED', '60x GFP']\n",
      "Using channel '60x DSRED' at index 0.\n",
      "Saved TIFF: A:\\_Ongoing\\20250128_ActRep_version2_24well\\Output\\60x_DSRED_TIFF\\Rep_24_002.tiff\n",
      "\n",
      "Processing ND2 file: Rep_24_002.nd2\n",
      "Detected Axes: ['x', 'y', 'c', 't', 'z']\n",
      "Detected Shape: (19, 900, 600)\n",
      "Channels in file: ['60x DSRED', '60x GFP']\n",
      "Using channel '60x GFP' at index 1.\n",
      "Saved TIFF: A:\\_Ongoing\\20250128_ActRep_version2_24well\\Output\\60x_GFP_TIFF\\Rep_24_002.tiff\n",
      "\n",
      "--- Processing: Rep_24_003.nd2 ---\n",
      "\n",
      "Processing ND2 file: Rep_24_003.nd2\n",
      "Detected Axes: ['x', 'y', 'c', 't', 'z']\n",
      "Detected Shape: (19, 900, 600)\n",
      "Channels in file: ['60x DSRED', '60x GFP']\n",
      "Using channel '60x DSRED' at index 0.\n",
      "Saved TIFF: A:\\_Ongoing\\20250128_ActRep_version2_24well\\Output\\60x_DSRED_TIFF\\Rep_24_003.tiff\n",
      "\n",
      "Processing ND2 file: Rep_24_003.nd2\n",
      "Detected Axes: ['x', 'y', 'c', 't', 'z']\n",
      "Detected Shape: (19, 900, 600)\n",
      "Channels in file: ['60x DSRED', '60x GFP']\n",
      "Using channel '60x GFP' at index 1.\n",
      "Saved TIFF: A:\\_Ongoing\\20250128_ActRep_version2_24well\\Output\\60x_GFP_TIFF\\Rep_24_003.tiff\n",
      "\n",
      "--- Processing: Rep_24_004.nd2 ---\n",
      "\n",
      "Processing ND2 file: Rep_24_004.nd2\n",
      "Detected Axes: ['x', 'y', 'c', 't', 'z']\n",
      "Detected Shape: (19, 900, 600)\n",
      "Channels in file: ['60x DSRED', '60x GFP']\n",
      "Using channel '60x DSRED' at index 0.\n",
      "Saved TIFF: A:\\_Ongoing\\20250128_ActRep_version2_24well\\Output\\60x_DSRED_TIFF\\Rep_24_004.tiff\n",
      "\n",
      "Processing ND2 file: Rep_24_004.nd2\n",
      "Detected Axes: ['x', 'y', 'c', 't', 'z']\n",
      "Detected Shape: (19, 900, 600)\n",
      "Channels in file: ['60x DSRED', '60x GFP']\n",
      "Using channel '60x GFP' at index 1.\n",
      "Saved TIFF: A:\\_Ongoing\\20250128_ActRep_version2_24well\\Output\\60x_GFP_TIFF\\Rep_24_004.tiff\n",
      "\n",
      "--- Processing: Rep_24_005.nd2 ---\n",
      "\n",
      "Processing ND2 file: Rep_24_005.nd2\n",
      "Detected Axes: ['x', 'y', 'c', 't', 'z']\n",
      "Detected Shape: (19, 900, 600)\n",
      "Channels in file: ['60x DSRED', '60x GFP']\n",
      "Using channel '60x DSRED' at index 0.\n",
      "Saved TIFF: A:\\_Ongoing\\20250128_ActRep_version2_24well\\Output\\60x_DSRED_TIFF\\Rep_24_005.tiff\n",
      "\n",
      "Processing ND2 file: Rep_24_005.nd2\n",
      "Detected Axes: ['x', 'y', 'c', 't', 'z']\n",
      "Detected Shape: (19, 900, 600)\n",
      "Channels in file: ['60x DSRED', '60x GFP']\n",
      "Using channel '60x GFP' at index 1.\n",
      "Saved TIFF: A:\\_Ongoing\\20250128_ActRep_version2_24well\\Output\\60x_GFP_TIFF\\Rep_24_005.tiff\n",
      "\n",
      "--- Processing: Rep_24_006.nd2 ---\n",
      "\n",
      "Processing ND2 file: Rep_24_006.nd2\n",
      "Detected Axes: ['x', 'y', 'c', 't', 'z']\n",
      "Detected Shape: (19, 900, 600)\n",
      "Channels in file: ['60x DSRED', '60x GFP']\n",
      "Using channel '60x DSRED' at index 0.\n",
      "Saved TIFF: A:\\_Ongoing\\20250128_ActRep_version2_24well\\Output\\60x_DSRED_TIFF\\Rep_24_006.tiff\n",
      "\n",
      "Processing ND2 file: Rep_24_006.nd2\n",
      "Detected Axes: ['x', 'y', 'c', 't', 'z']\n",
      "Detected Shape: (19, 900, 600)\n",
      "Channels in file: ['60x DSRED', '60x GFP']\n",
      "Using channel '60x GFP' at index 1.\n",
      "Saved TIFF: A:\\_Ongoing\\20250128_ActRep_version2_24well\\Output\\60x_GFP_TIFF\\Rep_24_006.tiff\n",
      "\n",
      "--- Processing: Rep_24_007.nd2 ---\n",
      "\n",
      "Processing ND2 file: Rep_24_007.nd2\n",
      "Detected Axes: ['x', 'y', 'c', 't', 'z']\n",
      "Detected Shape: (19, 900, 600)\n",
      "Channels in file: ['60x DSRED', '60x GFP']\n",
      "Using channel '60x DSRED' at index 0.\n",
      "Saved TIFF: A:\\_Ongoing\\20250128_ActRep_version2_24well\\Output\\60x_DSRED_TIFF\\Rep_24_007.tiff\n",
      "\n",
      "Processing ND2 file: Rep_24_007.nd2\n",
      "Detected Axes: ['x', 'y', 'c', 't', 'z']\n",
      "Detected Shape: (19, 900, 600)\n",
      "Channels in file: ['60x DSRED', '60x GFP']\n",
      "Using channel '60x GFP' at index 1.\n",
      "Saved TIFF: A:\\_Ongoing\\20250128_ActRep_version2_24well\\Output\\60x_GFP_TIFF\\Rep_24_007.tiff\n",
      "\n",
      "--- Processing: Rep_24_008.nd2 ---\n",
      "\n",
      "Processing ND2 file: Rep_24_008.nd2\n",
      "Detected Axes: ['x', 'y', 'c', 't', 'z']\n",
      "Detected Shape: (19, 900, 600)\n",
      "Channels in file: ['60x DSRED', '60x GFP']\n",
      "Using channel '60x DSRED' at index 0.\n",
      "Saved TIFF: A:\\_Ongoing\\20250128_ActRep_version2_24well\\Output\\60x_DSRED_TIFF\\Rep_24_008.tiff\n",
      "\n",
      "Processing ND2 file: Rep_24_008.nd2\n",
      "Detected Axes: ['x', 'y', 'c', 't', 'z']\n",
      "Detected Shape: (19, 900, 600)\n",
      "Channels in file: ['60x DSRED', '60x GFP']\n",
      "Using channel '60x GFP' at index 1.\n",
      "Saved TIFF: A:\\_Ongoing\\20250128_ActRep_version2_24well\\Output\\60x_GFP_TIFF\\Rep_24_008.tiff\n",
      "\n",
      "--- Processing: Rep_24_009.nd2 ---\n",
      "\n",
      "Processing ND2 file: Rep_24_009.nd2\n",
      "Detected Axes: ['x', 'y', 'c', 't', 'z']\n",
      "Detected Shape: (19, 900, 600)\n",
      "Channels in file: ['60x DSRED', '60x GFP']\n",
      "Using channel '60x DSRED' at index 0.\n",
      "Saved TIFF: A:\\_Ongoing\\20250128_ActRep_version2_24well\\Output\\60x_DSRED_TIFF\\Rep_24_009.tiff\n",
      "\n",
      "Processing ND2 file: Rep_24_009.nd2\n",
      "Detected Axes: ['x', 'y', 'c', 't', 'z']\n",
      "Detected Shape: (19, 900, 600)\n",
      "Channels in file: ['60x DSRED', '60x GFP']\n",
      "Using channel '60x GFP' at index 1.\n"
     ]
    },
    {
     "name": "stderr",
     "output_type": "stream",
     "text": [
      "c:\\Users\\NongyunWang\\miniforge3\\envs\\cellpose-env\\lib\\site-packages\\cellpose\\resnet_torch.py:271: FutureWarning: You are using `torch.load` with `weights_only=False` (the current default value), which uses the default pickle module implicitly. It is possible to construct malicious pickle data which will execute arbitrary code during unpickling (See https://github.com/pytorch/pytorch/blob/main/SECURITY.md#untrusted-models for more details). In a future release, the default value for `weights_only` will be flipped to `True`. This limits the functions that could be executed during unpickling. Arbitrary objects will no longer be allowed to be loaded via this mode unless they are explicitly allowlisted by the user via `torch.serialization.add_safe_globals`. We recommend you start setting `weights_only=True` for any use case where you don't have full control of the loaded file. Please open an issue on GitHub for any issues related to this experimental feature.\n",
      "  state_dict = torch.load(filename, map_location=device)\n"
     ]
    },
    {
     "name": "stdout",
     "output_type": "stream",
     "text": [
      "Saved TIFF: A:\\_Ongoing\\20250128_ActRep_version2_24well\\Output\\60x_GFP_TIFF\\Rep_24_009.tiff\n",
      "\n",
      "=== Cell Mask Generation ===\n",
      "Cellpose model initialized.\n",
      "Generating cell masks for 252 DSred TIFF file(s)...\n"
     ]
    },
    {
     "name": "stderr",
     "output_type": "stream",
     "text": [
      "Generating Masks:   0%|          | 1/252 [00:01<05:32,  1.33s/it]"
     ]
    },
    {
     "name": "stdout",
     "output_type": "stream",
     "text": [
      "Saved cell mask: A:\\_Ongoing\\20250128_ActRep_version2_24well\\Output\\mask\\Act_01_001_mask.tiff\n",
      "Saved cell mask: A:\\_Ongoing\\20250128_ActRep_version2_24well\\Output\\mask\\Act_01_002_mask.tiff\n"
     ]
    },
    {
     "name": "stderr",
     "output_type": "stream",
     "text": [
      "Generating Masks:   1%|          | 3/252 [00:01<02:06,  1.96it/s]"
     ]
    },
    {
     "name": "stdout",
     "output_type": "stream",
     "text": [
      "Saved cell mask: A:\\_Ongoing\\20250128_ActRep_version2_24well\\Output\\mask\\Act_01_003_mask.tiff\n",
      "Saved cell mask: A:\\_Ongoing\\20250128_ActRep_version2_24well\\Output\\mask\\Act_02_001_mask.tiff\n"
     ]
    },
    {
     "name": "stderr",
     "output_type": "stream",
     "text": [
      "Generating Masks:   2%|▏         | 5/252 [00:02<01:27,  2.81it/s]"
     ]
    },
    {
     "name": "stdout",
     "output_type": "stream",
     "text": [
      "Saved cell mask: A:\\_Ongoing\\20250128_ActRep_version2_24well\\Output\\mask\\Act_02_002_mask.tiff\n",
      "Saved cell mask: A:\\_Ongoing\\20250128_ActRep_version2_24well\\Output\\mask\\Act_02_003_mask.tiff\n"
     ]
    },
    {
     "name": "stderr",
     "output_type": "stream",
     "text": [
      "Generating Masks:   3%|▎         | 7/252 [00:02<01:16,  3.21it/s]"
     ]
    },
    {
     "name": "stdout",
     "output_type": "stream",
     "text": [
      "Saved cell mask: A:\\_Ongoing\\20250128_ActRep_version2_24well\\Output\\mask\\Act_03_001_mask.tiff\n"
     ]
    },
    {
     "name": "stderr",
     "output_type": "stream",
     "text": [
      "Generating Masks:   3%|▎         | 8/252 [00:03<01:14,  3.28it/s]"
     ]
    },
    {
     "name": "stdout",
     "output_type": "stream",
     "text": [
      "Saved cell mask: A:\\_Ongoing\\20250128_ActRep_version2_24well\\Output\\mask\\Act_03_002_mask.tiff\n",
      "Saved cell mask: A:\\_Ongoing\\20250128_ActRep_version2_24well\\Output\\mask\\Act_03_003_mask.tiff\n"
     ]
    },
    {
     "name": "stderr",
     "output_type": "stream",
     "text": [
      "Generating Masks:   4%|▍         | 10/252 [00:03<01:08,  3.55it/s]"
     ]
    },
    {
     "name": "stdout",
     "output_type": "stream",
     "text": [
      "Saved cell mask: A:\\_Ongoing\\20250128_ActRep_version2_24well\\Output\\mask\\Act_04_001_mask.tiff\n"
     ]
    },
    {
     "name": "stderr",
     "output_type": "stream",
     "text": [
      "Generating Masks:   4%|▍         | 11/252 [00:04<01:07,  3.56it/s]"
     ]
    },
    {
     "name": "stdout",
     "output_type": "stream",
     "text": [
      "Saved cell mask: A:\\_Ongoing\\20250128_ActRep_version2_24well\\Output\\mask\\Act_04_002_mask.tiff\n",
      "Saved cell mask: A:\\_Ongoing\\20250128_ActRep_version2_24well\\Output\\mask\\Act_04_003_mask.tiff\n"
     ]
    },
    {
     "name": "stderr",
     "output_type": "stream",
     "text": [
      "Generating Masks:   5%|▌         | 13/252 [00:04<01:04,  3.68it/s]"
     ]
    },
    {
     "name": "stdout",
     "output_type": "stream",
     "text": [
      "Saved cell mask: A:\\_Ongoing\\20250128_ActRep_version2_24well\\Output\\mask\\Act_05_001_mask.tiff\n",
      "Saved cell mask: A:\\_Ongoing\\20250128_ActRep_version2_24well\\Output\\mask\\Act_05_002_mask.tiff\n"
     ]
    },
    {
     "name": "stderr",
     "output_type": "stream",
     "text": [
      "Generating Masks:   6%|▌         | 15/252 [00:05<01:03,  3.73it/s]"
     ]
    },
    {
     "name": "stdout",
     "output_type": "stream",
     "text": [
      "Saved cell mask: A:\\_Ongoing\\20250128_ActRep_version2_24well\\Output\\mask\\Act_05_003_mask.tiff\n",
      "Saved cell mask: A:\\_Ongoing\\20250128_ActRep_version2_24well\\Output\\mask\\Act_06_001_mask.tiff\n"
     ]
    },
    {
     "name": "stderr",
     "output_type": "stream",
     "text": [
      "Generating Masks:   7%|▋         | 17/252 [00:05<01:05,  3.61it/s]"
     ]
    },
    {
     "name": "stdout",
     "output_type": "stream",
     "text": [
      "Saved cell mask: A:\\_Ongoing\\20250128_ActRep_version2_24well\\Output\\mask\\Act_06_002_mask.tiff\n"
     ]
    },
    {
     "name": "stderr",
     "output_type": "stream",
     "text": [
      "Generating Masks:   7%|▋         | 18/252 [00:05<01:04,  3.62it/s]"
     ]
    },
    {
     "name": "stdout",
     "output_type": "stream",
     "text": [
      "Saved cell mask: A:\\_Ongoing\\20250128_ActRep_version2_24well\\Output\\mask\\Act_06_003_mask.tiff\n",
      "Saved cell mask: A:\\_Ongoing\\20250128_ActRep_version2_24well\\Output\\mask\\Act_07_001_mask.tiff\n"
     ]
    },
    {
     "name": "stderr",
     "output_type": "stream",
     "text": [
      "Generating Masks:   8%|▊         | 20/252 [00:06<01:03,  3.66it/s]"
     ]
    },
    {
     "name": "stdout",
     "output_type": "stream",
     "text": [
      "Saved cell mask: A:\\_Ongoing\\20250128_ActRep_version2_24well\\Output\\mask\\Act_07_002_mask.tiff\n"
     ]
    },
    {
     "name": "stderr",
     "output_type": "stream",
     "text": [
      "Generating Masks:   8%|▊         | 21/252 [00:06<01:04,  3.59it/s]"
     ]
    },
    {
     "name": "stdout",
     "output_type": "stream",
     "text": [
      "Saved cell mask: A:\\_Ongoing\\20250128_ActRep_version2_24well\\Output\\mask\\Act_07_003_mask.tiff\n",
      "Saved cell mask: A:\\_Ongoing\\20250128_ActRep_version2_24well\\Output\\mask\\Act_08_001_mask.tiff\n"
     ]
    },
    {
     "name": "stderr",
     "output_type": "stream",
     "text": [
      "Generating Masks:   9%|▉         | 23/252 [00:07<01:04,  3.56it/s]"
     ]
    },
    {
     "name": "stdout",
     "output_type": "stream",
     "text": [
      "Saved cell mask: A:\\_Ongoing\\20250128_ActRep_version2_24well\\Output\\mask\\Act_08_002_mask.tiff\n"
     ]
    },
    {
     "name": "stderr",
     "output_type": "stream",
     "text": [
      "Generating Masks:  10%|▉         | 24/252 [00:07<01:06,  3.41it/s]"
     ]
    },
    {
     "name": "stdout",
     "output_type": "stream",
     "text": [
      "Saved cell mask: A:\\_Ongoing\\20250128_ActRep_version2_24well\\Output\\mask\\Act_08_003_mask.tiff\n",
      "Saved cell mask: A:\\_Ongoing\\20250128_ActRep_version2_24well\\Output\\mask\\Act_09_001_mask.tiff\n"
     ]
    },
    {
     "name": "stderr",
     "output_type": "stream",
     "text": [
      "Generating Masks:  10%|█         | 26/252 [00:08<01:03,  3.57it/s]"
     ]
    },
    {
     "name": "stdout",
     "output_type": "stream",
     "text": [
      "Saved cell mask: A:\\_Ongoing\\20250128_ActRep_version2_24well\\Output\\mask\\Act_09_002_mask.tiff\n",
      "Saved cell mask: A:\\_Ongoing\\20250128_ActRep_version2_24well\\Output\\mask\\Act_09_003_mask.tiff\n"
     ]
    },
    {
     "name": "stderr",
     "output_type": "stream",
     "text": [
      "Generating Masks:  11%|█         | 28/252 [00:08<01:01,  3.65it/s]"
     ]
    },
    {
     "name": "stdout",
     "output_type": "stream",
     "text": [
      "Saved cell mask: A:\\_Ongoing\\20250128_ActRep_version2_24well\\Output\\mask\\Act_10_001_mask.tiff\n"
     ]
    },
    {
     "name": "stderr",
     "output_type": "stream",
     "text": [
      "Generating Masks:  12%|█▏        | 29/252 [00:08<01:00,  3.66it/s]"
     ]
    },
    {
     "name": "stdout",
     "output_type": "stream",
     "text": [
      "Saved cell mask: A:\\_Ongoing\\20250128_ActRep_version2_24well\\Output\\mask\\Act_10_002_mask.tiff\n",
      "Saved cell mask: A:\\_Ongoing\\20250128_ActRep_version2_24well\\Output\\mask\\Act_10_003_mask.tiff\n"
     ]
    },
    {
     "name": "stderr",
     "output_type": "stream",
     "text": [
      "Generating Masks:  12%|█▏        | 31/252 [00:09<01:00,  3.65it/s]"
     ]
    },
    {
     "name": "stdout",
     "output_type": "stream",
     "text": [
      "Saved cell mask: A:\\_Ongoing\\20250128_ActRep_version2_24well\\Output\\mask\\Act_11_001_mask.tiff\n"
     ]
    },
    {
     "name": "stderr",
     "output_type": "stream",
     "text": [
      "Generating Masks:  13%|█▎        | 32/252 [00:09<01:01,  3.57it/s]"
     ]
    },
    {
     "name": "stdout",
     "output_type": "stream",
     "text": [
      "Saved cell mask: A:\\_Ongoing\\20250128_ActRep_version2_24well\\Output\\mask\\Act_11_002_mask.tiff\n"
     ]
    },
    {
     "name": "stderr",
     "output_type": "stream",
     "text": [
      "Generating Masks:  13%|█▎        | 33/252 [00:10<01:02,  3.52it/s]"
     ]
    },
    {
     "name": "stdout",
     "output_type": "stream",
     "text": [
      "Saved cell mask: A:\\_Ongoing\\20250128_ActRep_version2_24well\\Output\\mask\\Act_11_003_mask.tiff\n",
      "Saved cell mask: A:\\_Ongoing\\20250128_ActRep_version2_24well\\Output\\mask\\Act_12_001_mask.tiff\n"
     ]
    },
    {
     "name": "stderr",
     "output_type": "stream",
     "text": [
      "Generating Masks:  14%|█▍        | 35/252 [00:10<01:00,  3.61it/s]"
     ]
    },
    {
     "name": "stdout",
     "output_type": "stream",
     "text": [
      "Saved cell mask: A:\\_Ongoing\\20250128_ActRep_version2_24well\\Output\\mask\\Act_12_002_mask.tiff\n"
     ]
    },
    {
     "name": "stderr",
     "output_type": "stream",
     "text": [
      "Generating Masks:  14%|█▍        | 36/252 [00:10<01:00,  3.55it/s]"
     ]
    },
    {
     "name": "stdout",
     "output_type": "stream",
     "text": [
      "Saved cell mask: A:\\_Ongoing\\20250128_ActRep_version2_24well\\Output\\mask\\Act_12_003_mask.tiff\n"
     ]
    },
    {
     "name": "stderr",
     "output_type": "stream",
     "text": [
      "Generating Masks:  15%|█▍        | 37/252 [00:11<01:01,  3.52it/s]"
     ]
    },
    {
     "name": "stdout",
     "output_type": "stream",
     "text": [
      "Saved cell mask: A:\\_Ongoing\\20250128_ActRep_version2_24well\\Output\\mask\\Act_13_001_mask.tiff\n",
      "Saved cell mask: A:\\_Ongoing\\20250128_ActRep_version2_24well\\Output\\mask\\Act_13_002_mask.tiff\n"
     ]
    },
    {
     "name": "stderr",
     "output_type": "stream",
     "text": [
      "Generating Masks:  15%|█▌        | 39/252 [00:11<00:59,  3.58it/s]"
     ]
    },
    {
     "name": "stdout",
     "output_type": "stream",
     "text": [
      "Saved cell mask: A:\\_Ongoing\\20250128_ActRep_version2_24well\\Output\\mask\\Act_13_003_mask.tiff\n"
     ]
    },
    {
     "name": "stderr",
     "output_type": "stream",
     "text": [
      "Generating Masks:  16%|█▌        | 40/252 [00:12<00:59,  3.56it/s]"
     ]
    },
    {
     "name": "stdout",
     "output_type": "stream",
     "text": [
      "Saved cell mask: A:\\_Ongoing\\20250128_ActRep_version2_24well\\Output\\mask\\Act_14_001_mask.tiff\n"
     ]
    },
    {
     "name": "stderr",
     "output_type": "stream",
     "text": [
      "Generating Masks:  16%|█▋        | 41/252 [00:12<00:58,  3.60it/s]"
     ]
    },
    {
     "name": "stdout",
     "output_type": "stream",
     "text": [
      "Saved cell mask: A:\\_Ongoing\\20250128_ActRep_version2_24well\\Output\\mask\\Act_14_002_mask.tiff\n"
     ]
    },
    {
     "name": "stderr",
     "output_type": "stream",
     "text": [
      "Generating Masks:  17%|█▋        | 42/252 [00:12<00:58,  3.61it/s]"
     ]
    },
    {
     "name": "stdout",
     "output_type": "stream",
     "text": [
      "Saved cell mask: A:\\_Ongoing\\20250128_ActRep_version2_24well\\Output\\mask\\Act_14_003_mask.tiff\n",
      "Saved cell mask: A:\\_Ongoing\\20250128_ActRep_version2_24well\\Output\\mask\\Act_15_001_mask.tiff\n"
     ]
    },
    {
     "name": "stderr",
     "output_type": "stream",
     "text": [
      "Generating Masks:  17%|█▋        | 44/252 [00:13<00:57,  3.64it/s]"
     ]
    },
    {
     "name": "stdout",
     "output_type": "stream",
     "text": [
      "Saved cell mask: A:\\_Ongoing\\20250128_ActRep_version2_24well\\Output\\mask\\Act_15_002_mask.tiff\n"
     ]
    },
    {
     "name": "stderr",
     "output_type": "stream",
     "text": [
      "Generating Masks:  18%|█▊        | 45/252 [00:13<00:58,  3.56it/s]"
     ]
    },
    {
     "name": "stdout",
     "output_type": "stream",
     "text": [
      "Saved cell mask: A:\\_Ongoing\\20250128_ActRep_version2_24well\\Output\\mask\\Act_15_003_mask.tiff\n"
     ]
    },
    {
     "name": "stderr",
     "output_type": "stream",
     "text": [
      "Generating Masks:  18%|█▊        | 46/252 [00:13<00:59,  3.48it/s]"
     ]
    },
    {
     "name": "stdout",
     "output_type": "stream",
     "text": [
      "Saved cell mask: A:\\_Ongoing\\20250128_ActRep_version2_24well\\Output\\mask\\Act_16_001_mask.tiff\n"
     ]
    },
    {
     "name": "stderr",
     "output_type": "stream",
     "text": [
      "Generating Masks:  19%|█▊        | 47/252 [00:14<00:57,  3.57it/s]"
     ]
    },
    {
     "name": "stdout",
     "output_type": "stream",
     "text": [
      "Saved cell mask: A:\\_Ongoing\\20250128_ActRep_version2_24well\\Output\\mask\\Act_16_002_mask.tiff\n",
      "Saved cell mask: A:\\_Ongoing\\20250128_ActRep_version2_24well\\Output\\mask\\Act_16_003_mask.tiff\n"
     ]
    },
    {
     "name": "stderr",
     "output_type": "stream",
     "text": [
      "Generating Masks:  19%|█▉        | 49/252 [00:14<00:54,  3.72it/s]"
     ]
    },
    {
     "name": "stdout",
     "output_type": "stream",
     "text": [
      "Saved cell mask: A:\\_Ongoing\\20250128_ActRep_version2_24well\\Output\\mask\\Act_17_001_mask.tiff\n"
     ]
    },
    {
     "name": "stderr",
     "output_type": "stream",
     "text": [
      "Generating Masks:  20%|█▉        | 50/252 [00:14<00:55,  3.65it/s]"
     ]
    },
    {
     "name": "stdout",
     "output_type": "stream",
     "text": [
      "Saved cell mask: A:\\_Ongoing\\20250128_ActRep_version2_24well\\Output\\mask\\Act_17_002_mask.tiff\n"
     ]
    },
    {
     "name": "stderr",
     "output_type": "stream",
     "text": [
      "Generating Masks:  20%|██        | 51/252 [00:15<00:55,  3.60it/s]"
     ]
    },
    {
     "name": "stdout",
     "output_type": "stream",
     "text": [
      "Saved cell mask: A:\\_Ongoing\\20250128_ActRep_version2_24well\\Output\\mask\\Act_17_003_mask.tiff\n",
      "Saved cell mask: A:\\_Ongoing\\20250128_ActRep_version2_24well\\Output\\mask\\Act_18_001_mask.tiff\n"
     ]
    },
    {
     "name": "stderr",
     "output_type": "stream",
     "text": [
      "Generating Masks:  21%|██        | 53/252 [00:15<00:54,  3.64it/s]"
     ]
    },
    {
     "name": "stdout",
     "output_type": "stream",
     "text": [
      "Saved cell mask: A:\\_Ongoing\\20250128_ActRep_version2_24well\\Output\\mask\\Act_18_002_mask.tiff\n",
      "Saved cell mask: A:\\_Ongoing\\20250128_ActRep_version2_24well\\Output\\mask\\Act_18_003_mask.tiff\n"
     ]
    },
    {
     "name": "stderr",
     "output_type": "stream",
     "text": [
      "Generating Masks:  22%|██▏       | 55/252 [00:16<00:53,  3.66it/s]"
     ]
    },
    {
     "name": "stdout",
     "output_type": "stream",
     "text": [
      "Saved cell mask: A:\\_Ongoing\\20250128_ActRep_version2_24well\\Output\\mask\\Act_19_001_mask.tiff\n"
     ]
    },
    {
     "name": "stderr",
     "output_type": "stream",
     "text": [
      "Generating Masks:  22%|██▏       | 56/252 [00:16<00:55,  3.55it/s]"
     ]
    },
    {
     "name": "stdout",
     "output_type": "stream",
     "text": [
      "Saved cell mask: A:\\_Ongoing\\20250128_ActRep_version2_24well\\Output\\mask\\Act_19_002_mask.tiff\n",
      "Saved cell mask: A:\\_Ongoing\\20250128_ActRep_version2_24well\\Output\\mask\\Act_19_003_mask.tiff\n"
     ]
    },
    {
     "name": "stderr",
     "output_type": "stream",
     "text": [
      "Generating Masks:  23%|██▎       | 58/252 [00:17<00:53,  3.60it/s]"
     ]
    },
    {
     "name": "stdout",
     "output_type": "stream",
     "text": [
      "Saved cell mask: A:\\_Ongoing\\20250128_ActRep_version2_24well\\Output\\mask\\Act_20_001_mask.tiff\n"
     ]
    },
    {
     "name": "stderr",
     "output_type": "stream",
     "text": [
      "Generating Masks:  23%|██▎       | 59/252 [00:17<00:54,  3.57it/s]"
     ]
    },
    {
     "name": "stdout",
     "output_type": "stream",
     "text": [
      "Saved cell mask: A:\\_Ongoing\\20250128_ActRep_version2_24well\\Output\\mask\\Act_20_002_mask.tiff\n",
      "Saved cell mask: A:\\_Ongoing\\20250128_ActRep_version2_24well\\Output\\mask\\Act_20_003_mask.tiff\n"
     ]
    },
    {
     "name": "stderr",
     "output_type": "stream",
     "text": [
      "Generating Masks:  24%|██▍       | 61/252 [00:17<00:55,  3.42it/s]"
     ]
    },
    {
     "name": "stdout",
     "output_type": "stream",
     "text": [
      "Saved cell mask: A:\\_Ongoing\\20250128_ActRep_version2_24well\\Output\\mask\\Act_22_001_mask.tiff\n"
     ]
    },
    {
     "name": "stderr",
     "output_type": "stream",
     "text": [
      "Generating Masks:  25%|██▍       | 62/252 [00:18<00:59,  3.17it/s]"
     ]
    },
    {
     "name": "stdout",
     "output_type": "stream",
     "text": [
      "Saved cell mask: A:\\_Ongoing\\20250128_ActRep_version2_24well\\Output\\mask\\Act_22_002_mask.tiff\n"
     ]
    },
    {
     "name": "stderr",
     "output_type": "stream",
     "text": [
      "Generating Masks:  25%|██▌       | 63/252 [00:18<01:02,  3.05it/s]"
     ]
    },
    {
     "name": "stdout",
     "output_type": "stream",
     "text": [
      "Saved cell mask: A:\\_Ongoing\\20250128_ActRep_version2_24well\\Output\\mask\\Act_22_003_mask.tiff\n"
     ]
    },
    {
     "name": "stderr",
     "output_type": "stream",
     "text": [
      "Generating Masks:  25%|██▌       | 64/252 [00:19<01:03,  2.94it/s]"
     ]
    },
    {
     "name": "stdout",
     "output_type": "stream",
     "text": [
      "Saved cell mask: A:\\_Ongoing\\20250128_ActRep_version2_24well\\Output\\mask\\Act_23_001_mask.tiff\n"
     ]
    },
    {
     "name": "stderr",
     "output_type": "stream",
     "text": [
      "Generating Masks:  26%|██▌       | 65/252 [00:19<01:01,  3.02it/s]"
     ]
    },
    {
     "name": "stdout",
     "output_type": "stream",
     "text": [
      "Saved cell mask: A:\\_Ongoing\\20250128_ActRep_version2_24well\\Output\\mask\\Act_23_002_mask.tiff\n"
     ]
    },
    {
     "name": "stderr",
     "output_type": "stream",
     "text": [
      "Generating Masks:  26%|██▌       | 66/252 [00:19<01:01,  3.00it/s]"
     ]
    },
    {
     "name": "stdout",
     "output_type": "stream",
     "text": [
      "Saved cell mask: A:\\_Ongoing\\20250128_ActRep_version2_24well\\Output\\mask\\Act_23_003_mask.tiff\n"
     ]
    },
    {
     "name": "stderr",
     "output_type": "stream",
     "text": [
      "Generating Masks:  27%|██▋       | 67/252 [00:20<01:02,  2.94it/s]"
     ]
    },
    {
     "name": "stdout",
     "output_type": "stream",
     "text": [
      "Saved cell mask: A:\\_Ongoing\\20250128_ActRep_version2_24well\\Output\\mask\\Act_24_001_mask.tiff\n"
     ]
    },
    {
     "name": "stderr",
     "output_type": "stream",
     "text": [
      "Generating Masks:  27%|██▋       | 68/252 [00:20<01:01,  2.97it/s]"
     ]
    },
    {
     "name": "stdout",
     "output_type": "stream",
     "text": [
      "Saved cell mask: A:\\_Ongoing\\20250128_ActRep_version2_24well\\Output\\mask\\Act_24_002_mask.tiff\n"
     ]
    },
    {
     "name": "stderr",
     "output_type": "stream",
     "text": [
      "Generating Masks:  27%|██▋       | 69/252 [00:20<01:01,  2.97it/s]"
     ]
    },
    {
     "name": "stdout",
     "output_type": "stream",
     "text": [
      "Saved cell mask: A:\\_Ongoing\\20250128_ActRep_version2_24well\\Output\\mask\\Act_24_003_mask.tiff\n",
      "Saved cell mask: A:\\_Ongoing\\20250128_ActRep_version2_24well\\Output\\mask\\Rep_01_001_mask.tiff\n"
     ]
    },
    {
     "name": "stderr",
     "output_type": "stream",
     "text": [
      "Generating Masks:  28%|██▊       | 71/252 [00:21<00:54,  3.33it/s]"
     ]
    },
    {
     "name": "stdout",
     "output_type": "stream",
     "text": [
      "Saved cell mask: A:\\_Ongoing\\20250128_ActRep_version2_24well\\Output\\mask\\Rep_01_002_mask.tiff\n"
     ]
    },
    {
     "name": "stderr",
     "output_type": "stream",
     "text": [
      "Generating Masks:  29%|██▊       | 72/252 [00:21<00:52,  3.40it/s]"
     ]
    },
    {
     "name": "stdout",
     "output_type": "stream",
     "text": [
      "Saved cell mask: A:\\_Ongoing\\20250128_ActRep_version2_24well\\Output\\mask\\Rep_01_003_mask.tiff\n",
      "Saved cell mask: A:\\_Ongoing\\20250128_ActRep_version2_24well\\Output\\mask\\Rep_01_004_mask.tiff\n"
     ]
    },
    {
     "name": "stderr",
     "output_type": "stream",
     "text": [
      "Generating Masks:  29%|██▉       | 74/252 [00:22<00:49,  3.58it/s]"
     ]
    },
    {
     "name": "stdout",
     "output_type": "stream",
     "text": [
      "Saved cell mask: A:\\_Ongoing\\20250128_ActRep_version2_24well\\Output\\mask\\Rep_01_005_mask.tiff\n",
      "Saved cell mask: A:\\_Ongoing\\20250128_ActRep_version2_24well\\Output\\mask\\Rep_01_006_mask.tiff\n"
     ]
    },
    {
     "name": "stderr",
     "output_type": "stream",
     "text": [
      "Generating Masks:  30%|███       | 76/252 [00:22<00:48,  3.64it/s]"
     ]
    },
    {
     "name": "stdout",
     "output_type": "stream",
     "text": [
      "Saved cell mask: A:\\_Ongoing\\20250128_ActRep_version2_24well\\Output\\mask\\Rep_01_007_mask.tiff\n"
     ]
    },
    {
     "name": "stderr",
     "output_type": "stream",
     "text": [
      "Generating Masks:  31%|███       | 77/252 [00:22<00:50,  3.49it/s]"
     ]
    },
    {
     "name": "stdout",
     "output_type": "stream",
     "text": [
      "Saved cell mask: A:\\_Ongoing\\20250128_ActRep_version2_24well\\Output\\mask\\Rep_01_008_mask.tiff\n",
      "Saved cell mask: A:\\_Ongoing\\20250128_ActRep_version2_24well\\Output\\mask\\Rep_02_001_mask.tiff\n"
     ]
    },
    {
     "name": "stderr",
     "output_type": "stream",
     "text": [
      "Generating Masks:  31%|███▏      | 79/252 [00:23<00:48,  3.60it/s]"
     ]
    },
    {
     "name": "stdout",
     "output_type": "stream",
     "text": [
      "Saved cell mask: A:\\_Ongoing\\20250128_ActRep_version2_24well\\Output\\mask\\Rep_02_002_mask.tiff\n"
     ]
    },
    {
     "name": "stderr",
     "output_type": "stream",
     "text": [
      "Generating Masks:  32%|███▏      | 80/252 [00:23<00:48,  3.56it/s]"
     ]
    },
    {
     "name": "stdout",
     "output_type": "stream",
     "text": [
      "Saved cell mask: A:\\_Ongoing\\20250128_ActRep_version2_24well\\Output\\mask\\Rep_02_003_mask.tiff\n"
     ]
    },
    {
     "name": "stderr",
     "output_type": "stream",
     "text": [
      "Generating Masks:  32%|███▏      | 81/252 [00:23<00:48,  3.56it/s]"
     ]
    },
    {
     "name": "stdout",
     "output_type": "stream",
     "text": [
      "Saved cell mask: A:\\_Ongoing\\20250128_ActRep_version2_24well\\Output\\mask\\Rep_02_004_mask.tiff\n"
     ]
    },
    {
     "name": "stderr",
     "output_type": "stream",
     "text": [
      "Generating Masks:  33%|███▎      | 82/252 [00:24<00:47,  3.59it/s]"
     ]
    },
    {
     "name": "stdout",
     "output_type": "stream",
     "text": [
      "Saved cell mask: A:\\_Ongoing\\20250128_ActRep_version2_24well\\Output\\mask\\Rep_02_005_mask.tiff\n"
     ]
    },
    {
     "name": "stderr",
     "output_type": "stream",
     "text": [
      "Generating Masks:  33%|███▎      | 83/252 [00:24<00:48,  3.49it/s]"
     ]
    },
    {
     "name": "stdout",
     "output_type": "stream",
     "text": [
      "Saved cell mask: A:\\_Ongoing\\20250128_ActRep_version2_24well\\Output\\mask\\Rep_02_006_mask.tiff\n"
     ]
    },
    {
     "name": "stderr",
     "output_type": "stream",
     "text": [
      "Generating Masks:  33%|███▎      | 84/252 [00:24<00:49,  3.36it/s]"
     ]
    },
    {
     "name": "stdout",
     "output_type": "stream",
     "text": [
      "Saved cell mask: A:\\_Ongoing\\20250128_ActRep_version2_24well\\Output\\mask\\Rep_03_001_mask.tiff\n",
      "Saved cell mask: A:\\_Ongoing\\20250128_ActRep_version2_24well\\Output\\mask\\Rep_03_002_mask.tiff\n"
     ]
    },
    {
     "name": "stderr",
     "output_type": "stream",
     "text": [
      "Generating Masks:  34%|███▍      | 86/252 [00:25<00:47,  3.52it/s]"
     ]
    },
    {
     "name": "stdout",
     "output_type": "stream",
     "text": [
      "Saved cell mask: A:\\_Ongoing\\20250128_ActRep_version2_24well\\Output\\mask\\Rep_03_003_mask.tiff\n",
      "Saved cell mask: A:\\_Ongoing\\20250128_ActRep_version2_24well\\Output\\mask\\Rep_03_004_mask.tiff\n"
     ]
    },
    {
     "name": "stderr",
     "output_type": "stream",
     "text": [
      "Generating Masks:  35%|███▍      | 88/252 [00:25<00:45,  3.58it/s]"
     ]
    },
    {
     "name": "stdout",
     "output_type": "stream",
     "text": [
      "Saved cell mask: A:\\_Ongoing\\20250128_ActRep_version2_24well\\Output\\mask\\Rep_03_005_mask.tiff\n",
      "Saved cell mask: A:\\_Ongoing\\20250128_ActRep_version2_24well\\Output\\mask\\Rep_03_006_mask.tiff\n"
     ]
    },
    {
     "name": "stderr",
     "output_type": "stream",
     "text": [
      "Generating Masks:  36%|███▌      | 90/252 [00:26<00:44,  3.68it/s]"
     ]
    },
    {
     "name": "stdout",
     "output_type": "stream",
     "text": [
      "Saved cell mask: A:\\_Ongoing\\20250128_ActRep_version2_24well\\Output\\mask\\Rep_04_001_mask.tiff\n",
      "Saved cell mask: A:\\_Ongoing\\20250128_ActRep_version2_24well\\Output\\mask\\Rep_04_002_mask.tiff\n"
     ]
    },
    {
     "name": "stderr",
     "output_type": "stream",
     "text": [
      "Generating Masks:  37%|███▋      | 92/252 [00:27<00:43,  3.70it/s]"
     ]
    },
    {
     "name": "stdout",
     "output_type": "stream",
     "text": [
      "Saved cell mask: A:\\_Ongoing\\20250128_ActRep_version2_24well\\Output\\mask\\Rep_04_003_mask.tiff\n",
      "Saved cell mask: A:\\_Ongoing\\20250128_ActRep_version2_24well\\Output\\mask\\Rep_04_004_mask.tiff\n"
     ]
    },
    {
     "name": "stderr",
     "output_type": "stream",
     "text": [
      "Generating Masks:  37%|███▋      | 94/252 [00:27<00:42,  3.70it/s]"
     ]
    },
    {
     "name": "stdout",
     "output_type": "stream",
     "text": [
      "Saved cell mask: A:\\_Ongoing\\20250128_ActRep_version2_24well\\Output\\mask\\Rep_04_005_mask.tiff\n",
      "Saved cell mask: A:\\_Ongoing\\20250128_ActRep_version2_24well\\Output\\mask\\Rep_04_006_mask.tiff\n"
     ]
    },
    {
     "name": "stderr",
     "output_type": "stream",
     "text": [
      "Generating Masks:  38%|███▊      | 96/252 [00:28<00:42,  3.64it/s]"
     ]
    },
    {
     "name": "stdout",
     "output_type": "stream",
     "text": [
      "Saved cell mask: A:\\_Ongoing\\20250128_ActRep_version2_24well\\Output\\mask\\Rep_05_001_mask.tiff\n",
      "Saved cell mask: A:\\_Ongoing\\20250128_ActRep_version2_24well\\Output\\mask\\Rep_05_002_mask.tiff\n"
     ]
    },
    {
     "name": "stderr",
     "output_type": "stream",
     "text": [
      "Generating Masks:  39%|███▉      | 98/252 [00:28<00:41,  3.69it/s]"
     ]
    },
    {
     "name": "stdout",
     "output_type": "stream",
     "text": [
      "Saved cell mask: A:\\_Ongoing\\20250128_ActRep_version2_24well\\Output\\mask\\Rep_05_003_mask.tiff\n",
      "Saved cell mask: A:\\_Ongoing\\20250128_ActRep_version2_24well\\Output\\mask\\Rep_05_004_mask.tiff\n"
     ]
    },
    {
     "name": "stderr",
     "output_type": "stream",
     "text": [
      "Generating Masks:  40%|███▉      | 100/252 [00:29<00:41,  3.68it/s]"
     ]
    },
    {
     "name": "stdout",
     "output_type": "stream",
     "text": [
      "Saved cell mask: A:\\_Ongoing\\20250128_ActRep_version2_24well\\Output\\mask\\Rep_05_005_mask.tiff\n"
     ]
    },
    {
     "name": "stderr",
     "output_type": "stream",
     "text": [
      "Generating Masks:  40%|████      | 101/252 [00:29<00:41,  3.65it/s]"
     ]
    },
    {
     "name": "stdout",
     "output_type": "stream",
     "text": [
      "Saved cell mask: A:\\_Ongoing\\20250128_ActRep_version2_24well\\Output\\mask\\Rep_05_006_mask.tiff\n"
     ]
    },
    {
     "name": "stderr",
     "output_type": "stream",
     "text": [
      "Generating Masks:  40%|████      | 102/252 [00:29<00:41,  3.61it/s]"
     ]
    },
    {
     "name": "stdout",
     "output_type": "stream",
     "text": [
      "Saved cell mask: A:\\_Ongoing\\20250128_ActRep_version2_24well\\Output\\mask\\Rep_05_007_mask.tiff\n"
     ]
    },
    {
     "name": "stderr",
     "output_type": "stream",
     "text": [
      "Generating Masks:  41%|████      | 103/252 [00:30<00:41,  3.56it/s]"
     ]
    },
    {
     "name": "stdout",
     "output_type": "stream",
     "text": [
      "Saved cell mask: A:\\_Ongoing\\20250128_ActRep_version2_24well\\Output\\mask\\Rep_06_001_mask.tiff\n",
      "Saved cell mask: A:\\_Ongoing\\20250128_ActRep_version2_24well\\Output\\mask\\Rep_06_002_mask.tiff\n"
     ]
    },
    {
     "name": "stderr",
     "output_type": "stream",
     "text": [
      "Generating Masks:  42%|████▏     | 105/252 [00:30<00:40,  3.61it/s]"
     ]
    },
    {
     "name": "stdout",
     "output_type": "stream",
     "text": [
      "Saved cell mask: A:\\_Ongoing\\20250128_ActRep_version2_24well\\Output\\mask\\Rep_06_003_mask.tiff\n",
      "Saved cell mask: A:\\_Ongoing\\20250128_ActRep_version2_24well\\Output\\mask\\Rep_06_004_mask.tiff\n"
     ]
    },
    {
     "name": "stderr",
     "output_type": "stream",
     "text": [
      "Generating Masks:  42%|████▏     | 107/252 [00:31<00:40,  3.57it/s]"
     ]
    },
    {
     "name": "stdout",
     "output_type": "stream",
     "text": [
      "Saved cell mask: A:\\_Ongoing\\20250128_ActRep_version2_24well\\Output\\mask\\Rep_06_005_mask.tiff\n"
     ]
    },
    {
     "name": "stderr",
     "output_type": "stream",
     "text": [
      "Generating Masks:  43%|████▎     | 108/252 [00:31<00:40,  3.55it/s]"
     ]
    },
    {
     "name": "stdout",
     "output_type": "stream",
     "text": [
      "Saved cell mask: A:\\_Ongoing\\20250128_ActRep_version2_24well\\Output\\mask\\Rep_06_006_mask.tiff\n"
     ]
    },
    {
     "name": "stderr",
     "output_type": "stream",
     "text": [
      "Generating Masks:  43%|████▎     | 109/252 [00:31<00:41,  3.43it/s]"
     ]
    },
    {
     "name": "stdout",
     "output_type": "stream",
     "text": [
      "Saved cell mask: A:\\_Ongoing\\20250128_ActRep_version2_24well\\Output\\mask\\Rep_06_007_mask.tiff\n",
      "Saved cell mask: A:\\_Ongoing\\20250128_ActRep_version2_24well\\Output\\mask\\Rep_07_001_mask.tiff\n"
     ]
    },
    {
     "name": "stderr",
     "output_type": "stream",
     "text": [
      "Generating Masks:  44%|████▍     | 111/252 [00:32<00:41,  3.44it/s]"
     ]
    },
    {
     "name": "stdout",
     "output_type": "stream",
     "text": [
      "Saved cell mask: A:\\_Ongoing\\20250128_ActRep_version2_24well\\Output\\mask\\Rep_07_002_mask.tiff\n",
      "Saved cell mask: A:\\_Ongoing\\20250128_ActRep_version2_24well\\Output\\mask\\Rep_07_003_mask.tiff\n"
     ]
    },
    {
     "name": "stderr",
     "output_type": "stream",
     "text": [
      "Generating Masks:  45%|████▍     | 113/252 [00:32<00:39,  3.54it/s]"
     ]
    },
    {
     "name": "stdout",
     "output_type": "stream",
     "text": [
      "Saved cell mask: A:\\_Ongoing\\20250128_ActRep_version2_24well\\Output\\mask\\Rep_07_004_mask.tiff\n"
     ]
    },
    {
     "name": "stderr",
     "output_type": "stream",
     "text": [
      "Generating Masks:  45%|████▌     | 114/252 [00:33<00:39,  3.52it/s]"
     ]
    },
    {
     "name": "stdout",
     "output_type": "stream",
     "text": [
      "Saved cell mask: A:\\_Ongoing\\20250128_ActRep_version2_24well\\Output\\mask\\Rep_07_005_mask.tiff\n",
      "Saved cell mask: A:\\_Ongoing\\20250128_ActRep_version2_24well\\Output\\mask\\Rep_07_006_mask.tiff\n"
     ]
    },
    {
     "name": "stderr",
     "output_type": "stream",
     "text": [
      "Generating Masks:  46%|████▌     | 116/252 [00:33<00:38,  3.54it/s]"
     ]
    },
    {
     "name": "stdout",
     "output_type": "stream",
     "text": [
      "Saved cell mask: A:\\_Ongoing\\20250128_ActRep_version2_24well\\Output\\mask\\Rep_08_001_mask.tiff\n",
      "Saved cell mask: A:\\_Ongoing\\20250128_ActRep_version2_24well\\Output\\mask\\Rep_08_002_mask.tiff\n"
     ]
    },
    {
     "name": "stderr",
     "output_type": "stream",
     "text": [
      "Generating Masks:  47%|████▋     | 118/252 [00:34<00:36,  3.63it/s]"
     ]
    },
    {
     "name": "stdout",
     "output_type": "stream",
     "text": [
      "Saved cell mask: A:\\_Ongoing\\20250128_ActRep_version2_24well\\Output\\mask\\Rep_08_003_mask.tiff\n",
      "Saved cell mask: A:\\_Ongoing\\20250128_ActRep_version2_24well\\Output\\mask\\Rep_08_004_mask.tiff\n"
     ]
    },
    {
     "name": "stderr",
     "output_type": "stream",
     "text": [
      "Generating Masks:  48%|████▊     | 120/252 [00:34<00:36,  3.66it/s]"
     ]
    },
    {
     "name": "stdout",
     "output_type": "stream",
     "text": [
      "Saved cell mask: A:\\_Ongoing\\20250128_ActRep_version2_24well\\Output\\mask\\Rep_08_005_mask.tiff\n"
     ]
    },
    {
     "name": "stderr",
     "output_type": "stream",
     "text": [
      "Generating Masks:  48%|████▊     | 121/252 [00:35<00:36,  3.61it/s]"
     ]
    },
    {
     "name": "stdout",
     "output_type": "stream",
     "text": [
      "Saved cell mask: A:\\_Ongoing\\20250128_ActRep_version2_24well\\Output\\mask\\Rep_08_006_mask.tiff\n"
     ]
    },
    {
     "name": "stderr",
     "output_type": "stream",
     "text": [
      "Generating Masks:  48%|████▊     | 122/252 [00:35<00:36,  3.56it/s]"
     ]
    },
    {
     "name": "stdout",
     "output_type": "stream",
     "text": [
      "Saved cell mask: A:\\_Ongoing\\20250128_ActRep_version2_24well\\Output\\mask\\Rep_08_007_mask.tiff\n"
     ]
    },
    {
     "name": "stderr",
     "output_type": "stream",
     "text": [
      "Generating Masks:  49%|████▉     | 123/252 [00:35<00:36,  3.55it/s]"
     ]
    },
    {
     "name": "stdout",
     "output_type": "stream",
     "text": [
      "Saved cell mask: A:\\_Ongoing\\20250128_ActRep_version2_24well\\Output\\mask\\Rep_08_008_mask.tiff\n",
      "Saved cell mask: A:\\_Ongoing\\20250128_ActRep_version2_24well\\Output\\mask\\Rep_08_009_mask.tiff\n"
     ]
    },
    {
     "name": "stderr",
     "output_type": "stream",
     "text": [
      "Generating Masks:  50%|████▉     | 125/252 [00:36<00:38,  3.34it/s]"
     ]
    },
    {
     "name": "stdout",
     "output_type": "stream",
     "text": [
      "Saved cell mask: A:\\_Ongoing\\20250128_ActRep_version2_24well\\Output\\mask\\Rep_08_010_mask.tiff\n"
     ]
    },
    {
     "name": "stderr",
     "output_type": "stream",
     "text": [
      "Generating Masks:  50%|█████     | 126/252 [00:36<00:37,  3.41it/s]"
     ]
    },
    {
     "name": "stdout",
     "output_type": "stream",
     "text": [
      "Saved cell mask: A:\\_Ongoing\\20250128_ActRep_version2_24well\\Output\\mask\\Rep_09_001_mask.tiff\n",
      "Saved cell mask: A:\\_Ongoing\\20250128_ActRep_version2_24well\\Output\\mask\\Rep_09_002_mask.tiff\n"
     ]
    },
    {
     "name": "stderr",
     "output_type": "stream",
     "text": [
      "Generating Masks:  51%|█████     | 128/252 [00:37<00:35,  3.51it/s]"
     ]
    },
    {
     "name": "stdout",
     "output_type": "stream",
     "text": [
      "Saved cell mask: A:\\_Ongoing\\20250128_ActRep_version2_24well\\Output\\mask\\Rep_09_003_mask.tiff\n",
      "Saved cell mask: A:\\_Ongoing\\20250128_ActRep_version2_24well\\Output\\mask\\Rep_09_004_mask.tiff\n"
     ]
    },
    {
     "name": "stderr",
     "output_type": "stream",
     "text": [
      "Generating Masks:  52%|█████▏    | 130/252 [00:37<00:33,  3.65it/s]"
     ]
    },
    {
     "name": "stdout",
     "output_type": "stream",
     "text": [
      "Saved cell mask: A:\\_Ongoing\\20250128_ActRep_version2_24well\\Output\\mask\\Rep_09_005_mask.tiff\n"
     ]
    },
    {
     "name": "stderr",
     "output_type": "stream",
     "text": [
      "Generating Masks:  52%|█████▏    | 131/252 [00:37<00:33,  3.61it/s]"
     ]
    },
    {
     "name": "stdout",
     "output_type": "stream",
     "text": [
      "Saved cell mask: A:\\_Ongoing\\20250128_ActRep_version2_24well\\Output\\mask\\Rep_09_006_mask.tiff\n",
      "Saved cell mask: A:\\_Ongoing\\20250128_ActRep_version2_24well\\Output\\mask\\Rep_09_007_mask.tiff\n"
     ]
    },
    {
     "name": "stderr",
     "output_type": "stream",
     "text": [
      "Generating Masks:  53%|█████▎    | 133/252 [00:38<00:32,  3.61it/s]"
     ]
    },
    {
     "name": "stdout",
     "output_type": "stream",
     "text": [
      "Saved cell mask: A:\\_Ongoing\\20250128_ActRep_version2_24well\\Output\\mask\\Rep_09_008_mask.tiff\n",
      "Saved cell mask: A:\\_Ongoing\\20250128_ActRep_version2_24well\\Output\\mask\\Rep_09_009_mask.tiff\n"
     ]
    },
    {
     "name": "stderr",
     "output_type": "stream",
     "text": [
      "Generating Masks:  54%|█████▎    | 135/252 [00:39<00:31,  3.67it/s]"
     ]
    },
    {
     "name": "stdout",
     "output_type": "stream",
     "text": [
      "Saved cell mask: A:\\_Ongoing\\20250128_ActRep_version2_24well\\Output\\mask\\Rep_10_001_mask.tiff\n",
      "Saved cell mask: A:\\_Ongoing\\20250128_ActRep_version2_24well\\Output\\mask\\Rep_10_002_mask.tiff\n"
     ]
    },
    {
     "name": "stderr",
     "output_type": "stream",
     "text": [
      "Generating Masks:  54%|█████▍    | 137/252 [00:39<00:30,  3.72it/s]"
     ]
    },
    {
     "name": "stdout",
     "output_type": "stream",
     "text": [
      "Saved cell mask: A:\\_Ongoing\\20250128_ActRep_version2_24well\\Output\\mask\\Rep_10_003_mask.tiff\n"
     ]
    },
    {
     "name": "stderr",
     "output_type": "stream",
     "text": [
      "Generating Masks:  55%|█████▍    | 138/252 [00:39<00:30,  3.69it/s]"
     ]
    },
    {
     "name": "stdout",
     "output_type": "stream",
     "text": [
      "Saved cell mask: A:\\_Ongoing\\20250128_ActRep_version2_24well\\Output\\mask\\Rep_10_004_mask.tiff\n"
     ]
    },
    {
     "name": "stderr",
     "output_type": "stream",
     "text": [
      "Generating Masks:  55%|█████▌    | 139/252 [00:40<00:31,  3.63it/s]"
     ]
    },
    {
     "name": "stdout",
     "output_type": "stream",
     "text": [
      "Saved cell mask: A:\\_Ongoing\\20250128_ActRep_version2_24well\\Output\\mask\\Rep_10_005_mask.tiff\n"
     ]
    },
    {
     "name": "stderr",
     "output_type": "stream",
     "text": [
      "Generating Masks:  56%|█████▌    | 140/252 [00:40<00:31,  3.56it/s]"
     ]
    },
    {
     "name": "stdout",
     "output_type": "stream",
     "text": [
      "Saved cell mask: A:\\_Ongoing\\20250128_ActRep_version2_24well\\Output\\mask\\Rep_10_006_mask.tiff\n"
     ]
    },
    {
     "name": "stderr",
     "output_type": "stream",
     "text": [
      "Generating Masks:  56%|█████▌    | 141/252 [00:40<00:33,  3.31it/s]"
     ]
    },
    {
     "name": "stdout",
     "output_type": "stream",
     "text": [
      "Saved cell mask: A:\\_Ongoing\\20250128_ActRep_version2_24well\\Output\\mask\\Rep_10_007_mask.tiff\n"
     ]
    },
    {
     "name": "stderr",
     "output_type": "stream",
     "text": [
      "Generating Masks:  56%|█████▋    | 142/252 [00:41<00:33,  3.28it/s]"
     ]
    },
    {
     "name": "stdout",
     "output_type": "stream",
     "text": [
      "Saved cell mask: A:\\_Ongoing\\20250128_ActRep_version2_24well\\Output\\mask\\Rep_11_001_mask.tiff\n"
     ]
    },
    {
     "name": "stderr",
     "output_type": "stream",
     "text": [
      "Generating Masks:  57%|█████▋    | 143/252 [00:41<00:32,  3.37it/s]"
     ]
    },
    {
     "name": "stdout",
     "output_type": "stream",
     "text": [
      "Saved cell mask: A:\\_Ongoing\\20250128_ActRep_version2_24well\\Output\\mask\\Rep_11_002_mask.tiff\n"
     ]
    },
    {
     "name": "stderr",
     "output_type": "stream",
     "text": [
      "Generating Masks:  57%|█████▋    | 144/252 [00:41<00:31,  3.39it/s]"
     ]
    },
    {
     "name": "stdout",
     "output_type": "stream",
     "text": [
      "Saved cell mask: A:\\_Ongoing\\20250128_ActRep_version2_24well\\Output\\mask\\Rep_11_003_mask.tiff\n"
     ]
    },
    {
     "name": "stderr",
     "output_type": "stream",
     "text": [
      "Generating Masks:  58%|█████▊    | 145/252 [00:41<00:31,  3.41it/s]"
     ]
    },
    {
     "name": "stdout",
     "output_type": "stream",
     "text": [
      "Saved cell mask: A:\\_Ongoing\\20250128_ActRep_version2_24well\\Output\\mask\\Rep_11_004_mask.tiff\n",
      "Saved cell mask: A:\\_Ongoing\\20250128_ActRep_version2_24well\\Output\\mask\\Rep_11_005_mask.tiff\n"
     ]
    },
    {
     "name": "stderr",
     "output_type": "stream",
     "text": [
      "Generating Masks:  58%|█████▊    | 147/252 [00:42<00:29,  3.54it/s]"
     ]
    },
    {
     "name": "stdout",
     "output_type": "stream",
     "text": [
      "Saved cell mask: A:\\_Ongoing\\20250128_ActRep_version2_24well\\Output\\mask\\Rep_11_006_mask.tiff\n"
     ]
    },
    {
     "name": "stderr",
     "output_type": "stream",
     "text": [
      "Generating Masks:  59%|█████▊    | 148/252 [00:42<00:29,  3.53it/s]"
     ]
    },
    {
     "name": "stdout",
     "output_type": "stream",
     "text": [
      "Saved cell mask: A:\\_Ongoing\\20250128_ActRep_version2_24well\\Output\\mask\\Rep_11_007_mask.tiff\n"
     ]
    },
    {
     "name": "stderr",
     "output_type": "stream",
     "text": [
      "Generating Masks:  59%|█████▉    | 149/252 [00:43<00:28,  3.61it/s]"
     ]
    },
    {
     "name": "stdout",
     "output_type": "stream",
     "text": [
      "Saved cell mask: A:\\_Ongoing\\20250128_ActRep_version2_24well\\Output\\mask\\Rep_12_001_mask.tiff\n"
     ]
    },
    {
     "name": "stderr",
     "output_type": "stream",
     "text": [
      "Generating Masks:  60%|█████▉    | 150/252 [00:43<00:29,  3.48it/s]"
     ]
    },
    {
     "name": "stdout",
     "output_type": "stream",
     "text": [
      "Saved cell mask: A:\\_Ongoing\\20250128_ActRep_version2_24well\\Output\\mask\\Rep_12_002_mask.tiff\n"
     ]
    },
    {
     "name": "stderr",
     "output_type": "stream",
     "text": [
      "Generating Masks:  60%|█████▉    | 151/252 [00:43<00:28,  3.52it/s]"
     ]
    },
    {
     "name": "stdout",
     "output_type": "stream",
     "text": [
      "Saved cell mask: A:\\_Ongoing\\20250128_ActRep_version2_24well\\Output\\mask\\Rep_12_003_mask.tiff\n",
      "Saved cell mask: A:\\_Ongoing\\20250128_ActRep_version2_24well\\Output\\mask\\Rep_12_004_mask.tiff\n"
     ]
    },
    {
     "name": "stderr",
     "output_type": "stream",
     "text": [
      "Generating Masks:  61%|██████    | 153/252 [00:44<00:27,  3.57it/s]"
     ]
    },
    {
     "name": "stdout",
     "output_type": "stream",
     "text": [
      "Saved cell mask: A:\\_Ongoing\\20250128_ActRep_version2_24well\\Output\\mask\\Rep_12_005_mask.tiff\n"
     ]
    },
    {
     "name": "stderr",
     "output_type": "stream",
     "text": [
      "Generating Masks:  61%|██████    | 154/252 [00:44<00:27,  3.55it/s]"
     ]
    },
    {
     "name": "stdout",
     "output_type": "stream",
     "text": [
      "Saved cell mask: A:\\_Ongoing\\20250128_ActRep_version2_24well\\Output\\mask\\Rep_12_006_mask.tiff\n",
      "Saved cell mask: A:\\_Ongoing\\20250128_ActRep_version2_24well\\Output\\mask\\Rep_12_007_mask.tiff\n"
     ]
    },
    {
     "name": "stderr",
     "output_type": "stream",
     "text": [
      "Generating Masks:  62%|██████▏   | 156/252 [00:45<00:26,  3.56it/s]"
     ]
    },
    {
     "name": "stdout",
     "output_type": "stream",
     "text": [
      "Saved cell mask: A:\\_Ongoing\\20250128_ActRep_version2_24well\\Output\\mask\\Rep_12_008_mask.tiff\n",
      "Saved cell mask: A:\\_Ongoing\\20250128_ActRep_version2_24well\\Output\\mask\\Rep_12_009_mask.tiff\n"
     ]
    },
    {
     "name": "stderr",
     "output_type": "stream",
     "text": [
      "Generating Masks:  63%|██████▎   | 158/252 [00:45<00:30,  3.11it/s]"
     ]
    },
    {
     "name": "stdout",
     "output_type": "stream",
     "text": [
      "Saved cell mask: A:\\_Ongoing\\20250128_ActRep_version2_24well\\Output\\mask\\Rep_13_001_mask.tiff\n"
     ]
    },
    {
     "name": "stderr",
     "output_type": "stream",
     "text": [
      "Generating Masks:  63%|██████▎   | 159/252 [00:45<00:28,  3.25it/s]"
     ]
    },
    {
     "name": "stdout",
     "output_type": "stream",
     "text": [
      "Saved cell mask: A:\\_Ongoing\\20250128_ActRep_version2_24well\\Output\\mask\\Rep_13_002_mask.tiff\n",
      "Saved cell mask: A:\\_Ongoing\\20250128_ActRep_version2_24well\\Output\\mask\\Rep_13_003_mask.tiff\n"
     ]
    },
    {
     "name": "stderr",
     "output_type": "stream",
     "text": [
      "Generating Masks:  64%|██████▍   | 161/252 [00:46<00:26,  3.48it/s]"
     ]
    },
    {
     "name": "stdout",
     "output_type": "stream",
     "text": [
      "Saved cell mask: A:\\_Ongoing\\20250128_ActRep_version2_24well\\Output\\mask\\Rep_13_004_mask.tiff\n"
     ]
    },
    {
     "name": "stderr",
     "output_type": "stream",
     "text": [
      "Generating Masks:  64%|██████▍   | 162/252 [00:46<00:25,  3.52it/s]"
     ]
    },
    {
     "name": "stdout",
     "output_type": "stream",
     "text": [
      "Saved cell mask: A:\\_Ongoing\\20250128_ActRep_version2_24well\\Output\\mask\\Rep_13_005_mask.tiff\n",
      "Saved cell mask: A:\\_Ongoing\\20250128_ActRep_version2_24well\\Output\\mask\\Rep_13_006_mask.tiff\n"
     ]
    },
    {
     "name": "stderr",
     "output_type": "stream",
     "text": [
      "Generating Masks:  65%|██████▌   | 164/252 [00:47<00:24,  3.56it/s]"
     ]
    },
    {
     "name": "stdout",
     "output_type": "stream",
     "text": [
      "Saved cell mask: A:\\_Ongoing\\20250128_ActRep_version2_24well\\Output\\mask\\Rep_13_007_mask.tiff\n"
     ]
    },
    {
     "name": "stderr",
     "output_type": "stream",
     "text": [
      "Generating Masks:  65%|██████▌   | 165/252 [00:47<00:24,  3.58it/s]"
     ]
    },
    {
     "name": "stdout",
     "output_type": "stream",
     "text": [
      "Saved cell mask: A:\\_Ongoing\\20250128_ActRep_version2_24well\\Output\\mask\\Rep_13_008_mask.tiff\n",
      "Saved cell mask: A:\\_Ongoing\\20250128_ActRep_version2_24well\\Output\\mask\\Rep_14_001_mask.tiff\n"
     ]
    },
    {
     "name": "stderr",
     "output_type": "stream",
     "text": [
      "Generating Masks:  66%|██████▋   | 167/252 [00:48<00:22,  3.73it/s]"
     ]
    },
    {
     "name": "stdout",
     "output_type": "stream",
     "text": [
      "Saved cell mask: A:\\_Ongoing\\20250128_ActRep_version2_24well\\Output\\mask\\Rep_14_002_mask.tiff\n",
      "Saved cell mask: A:\\_Ongoing\\20250128_ActRep_version2_24well\\Output\\mask\\Rep_14_003_mask.tiff\n"
     ]
    },
    {
     "name": "stderr",
     "output_type": "stream",
     "text": [
      "Generating Masks:  67%|██████▋   | 169/252 [00:48<00:22,  3.71it/s]"
     ]
    },
    {
     "name": "stdout",
     "output_type": "stream",
     "text": [
      "Saved cell mask: A:\\_Ongoing\\20250128_ActRep_version2_24well\\Output\\mask\\Rep_14_004_mask.tiff\n"
     ]
    },
    {
     "name": "stderr",
     "output_type": "stream",
     "text": [
      "Generating Masks:  67%|██████▋   | 170/252 [00:48<00:22,  3.66it/s]"
     ]
    },
    {
     "name": "stdout",
     "output_type": "stream",
     "text": [
      "Saved cell mask: A:\\_Ongoing\\20250128_ActRep_version2_24well\\Output\\mask\\Rep_14_005_mask.tiff\n"
     ]
    },
    {
     "name": "stderr",
     "output_type": "stream",
     "text": [
      "Generating Masks:  68%|██████▊   | 171/252 [00:49<00:22,  3.59it/s]"
     ]
    },
    {
     "name": "stdout",
     "output_type": "stream",
     "text": [
      "Saved cell mask: A:\\_Ongoing\\20250128_ActRep_version2_24well\\Output\\mask\\Rep_14_006_mask.tiff\n"
     ]
    },
    {
     "name": "stderr",
     "output_type": "stream",
     "text": [
      "Generating Masks:  68%|██████▊   | 172/252 [00:49<00:24,  3.29it/s]"
     ]
    },
    {
     "name": "stdout",
     "output_type": "stream",
     "text": [
      "Saved cell mask: A:\\_Ongoing\\20250128_ActRep_version2_24well\\Output\\mask\\Rep_14_007_mask.tiff\n"
     ]
    },
    {
     "name": "stderr",
     "output_type": "stream",
     "text": [
      "Generating Masks:  69%|██████▊   | 173/252 [00:49<00:23,  3.37it/s]"
     ]
    },
    {
     "name": "stdout",
     "output_type": "stream",
     "text": [
      "Saved cell mask: A:\\_Ongoing\\20250128_ActRep_version2_24well\\Output\\mask\\Rep_14_008_mask.tiff\n",
      "Saved cell mask: A:\\_Ongoing\\20250128_ActRep_version2_24well\\Output\\mask\\Rep_14_009_mask.tiff\n"
     ]
    },
    {
     "name": "stderr",
     "output_type": "stream",
     "text": [
      "Generating Masks:  69%|██████▉   | 175/252 [00:50<00:21,  3.55it/s]"
     ]
    },
    {
     "name": "stdout",
     "output_type": "stream",
     "text": [
      "Saved cell mask: A:\\_Ongoing\\20250128_ActRep_version2_24well\\Output\\mask\\Rep_15_001_mask.tiff\n",
      "Saved cell mask: A:\\_Ongoing\\20250128_ActRep_version2_24well\\Output\\mask\\Rep_15_002_mask.tiff\n"
     ]
    },
    {
     "name": "stderr",
     "output_type": "stream",
     "text": [
      "Generating Masks:  70%|███████   | 177/252 [00:50<00:20,  3.70it/s]"
     ]
    },
    {
     "name": "stdout",
     "output_type": "stream",
     "text": [
      "Saved cell mask: A:\\_Ongoing\\20250128_ActRep_version2_24well\\Output\\mask\\Rep_15_003_mask.tiff\n",
      "Saved cell mask: A:\\_Ongoing\\20250128_ActRep_version2_24well\\Output\\mask\\Rep_15_004_mask.tiff\n"
     ]
    },
    {
     "name": "stderr",
     "output_type": "stream",
     "text": [
      "Generating Masks:  71%|███████   | 179/252 [00:51<00:19,  3.78it/s]"
     ]
    },
    {
     "name": "stdout",
     "output_type": "stream",
     "text": [
      "Saved cell mask: A:\\_Ongoing\\20250128_ActRep_version2_24well\\Output\\mask\\Rep_15_005_mask.tiff\n",
      "Saved cell mask: A:\\_Ongoing\\20250128_ActRep_version2_24well\\Output\\mask\\Rep_15_006_mask.tiff\n"
     ]
    },
    {
     "name": "stderr",
     "output_type": "stream",
     "text": [
      "Generating Masks:  72%|███████▏  | 181/252 [00:51<00:18,  3.77it/s]"
     ]
    },
    {
     "name": "stdout",
     "output_type": "stream",
     "text": [
      "Saved cell mask: A:\\_Ongoing\\20250128_ActRep_version2_24well\\Output\\mask\\Rep_15_007_mask.tiff\n"
     ]
    },
    {
     "name": "stderr",
     "output_type": "stream",
     "text": [
      "Generating Masks:  72%|███████▏  | 182/252 [00:52<00:19,  3.58it/s]"
     ]
    },
    {
     "name": "stdout",
     "output_type": "stream",
     "text": [
      "Saved cell mask: A:\\_Ongoing\\20250128_ActRep_version2_24well\\Output\\mask\\Rep_15_008_mask.tiff\n"
     ]
    },
    {
     "name": "stderr",
     "output_type": "stream",
     "text": [
      "Generating Masks:  73%|███████▎  | 183/252 [00:52<00:18,  3.66it/s]"
     ]
    },
    {
     "name": "stdout",
     "output_type": "stream",
     "text": [
      "Saved cell mask: A:\\_Ongoing\\20250128_ActRep_version2_24well\\Output\\mask\\Rep_16_001_mask.tiff\n"
     ]
    },
    {
     "name": "stderr",
     "output_type": "stream",
     "text": [
      "Generating Masks:  73%|███████▎  | 184/252 [00:52<00:19,  3.53it/s]"
     ]
    },
    {
     "name": "stdout",
     "output_type": "stream",
     "text": [
      "Saved cell mask: A:\\_Ongoing\\20250128_ActRep_version2_24well\\Output\\mask\\Rep_16_002_mask.tiff\n"
     ]
    },
    {
     "name": "stderr",
     "output_type": "stream",
     "text": [
      "Generating Masks:  73%|███████▎  | 185/252 [00:53<00:19,  3.48it/s]"
     ]
    },
    {
     "name": "stdout",
     "output_type": "stream",
     "text": [
      "Saved cell mask: A:\\_Ongoing\\20250128_ActRep_version2_24well\\Output\\mask\\Rep_16_003_mask.tiff\n"
     ]
    },
    {
     "name": "stderr",
     "output_type": "stream",
     "text": [
      "Generating Masks:  74%|███████▍  | 186/252 [00:53<00:19,  3.46it/s]"
     ]
    },
    {
     "name": "stdout",
     "output_type": "stream",
     "text": [
      "Saved cell mask: A:\\_Ongoing\\20250128_ActRep_version2_24well\\Output\\mask\\Rep_16_004_mask.tiff\n",
      "Saved cell mask: A:\\_Ongoing\\20250128_ActRep_version2_24well\\Output\\mask\\Rep_16_005_mask.tiff\n"
     ]
    },
    {
     "name": "stderr",
     "output_type": "stream",
     "text": [
      "Generating Masks:  75%|███████▍  | 188/252 [00:53<00:17,  3.59it/s]"
     ]
    },
    {
     "name": "stdout",
     "output_type": "stream",
     "text": [
      "Saved cell mask: A:\\_Ongoing\\20250128_ActRep_version2_24well\\Output\\mask\\Rep_16_006_mask.tiff\n"
     ]
    },
    {
     "name": "stderr",
     "output_type": "stream",
     "text": [
      "Generating Masks:  75%|███████▌  | 189/252 [00:54<00:17,  3.61it/s]"
     ]
    },
    {
     "name": "stdout",
     "output_type": "stream",
     "text": [
      "Saved cell mask: A:\\_Ongoing\\20250128_ActRep_version2_24well\\Output\\mask\\Rep_16_007_mask.tiff\n",
      "Saved cell mask: A:\\_Ongoing\\20250128_ActRep_version2_24well\\Output\\mask\\Rep_16_008_mask.tiff\n"
     ]
    },
    {
     "name": "stderr",
     "output_type": "stream",
     "text": [
      "Generating Masks:  76%|███████▌  | 191/252 [00:54<00:17,  3.53it/s]"
     ]
    },
    {
     "name": "stdout",
     "output_type": "stream",
     "text": [
      "Saved cell mask: A:\\_Ongoing\\20250128_ActRep_version2_24well\\Output\\mask\\Rep_17_001_mask.tiff\n",
      "Saved cell mask: A:\\_Ongoing\\20250128_ActRep_version2_24well\\Output\\mask\\Rep_17_002_mask.tiff\n"
     ]
    },
    {
     "name": "stderr",
     "output_type": "stream",
     "text": [
      "Generating Masks:  77%|███████▋  | 193/252 [00:55<00:16,  3.57it/s]"
     ]
    },
    {
     "name": "stdout",
     "output_type": "stream",
     "text": [
      "Saved cell mask: A:\\_Ongoing\\20250128_ActRep_version2_24well\\Output\\mask\\Rep_17_003_mask.tiff\n"
     ]
    },
    {
     "name": "stderr",
     "output_type": "stream",
     "text": [
      "Generating Masks:  77%|███████▋  | 194/252 [00:55<00:16,  3.45it/s]"
     ]
    },
    {
     "name": "stdout",
     "output_type": "stream",
     "text": [
      "Saved cell mask: A:\\_Ongoing\\20250128_ActRep_version2_24well\\Output\\mask\\Rep_17_004_mask.tiff\n"
     ]
    },
    {
     "name": "stderr",
     "output_type": "stream",
     "text": [
      "Generating Masks:  77%|███████▋  | 195/252 [00:55<00:16,  3.46it/s]"
     ]
    },
    {
     "name": "stdout",
     "output_type": "stream",
     "text": [
      "Saved cell mask: A:\\_Ongoing\\20250128_ActRep_version2_24well\\Output\\mask\\Rep_17_005_mask.tiff\n"
     ]
    },
    {
     "name": "stderr",
     "output_type": "stream",
     "text": [
      "Generating Masks:  78%|███████▊  | 196/252 [00:56<00:17,  3.17it/s]"
     ]
    },
    {
     "name": "stdout",
     "output_type": "stream",
     "text": [
      "Saved cell mask: A:\\_Ongoing\\20250128_ActRep_version2_24well\\Output\\mask\\Rep_17_006_mask.tiff\n",
      "Saved cell mask: A:\\_Ongoing\\20250128_ActRep_version2_24well\\Output\\mask\\Rep_17_007_mask.tiff\n"
     ]
    },
    {
     "name": "stderr",
     "output_type": "stream",
     "text": [
      "Generating Masks:  79%|███████▊  | 198/252 [00:56<00:15,  3.38it/s]"
     ]
    },
    {
     "name": "stdout",
     "output_type": "stream",
     "text": [
      "Saved cell mask: A:\\_Ongoing\\20250128_ActRep_version2_24well\\Output\\mask\\Rep_17_008_mask.tiff\n",
      "Saved cell mask: A:\\_Ongoing\\20250128_ActRep_version2_24well\\Output\\mask\\Rep_17_009_mask.tiff\n"
     ]
    },
    {
     "name": "stderr",
     "output_type": "stream",
     "text": [
      "Generating Masks:  79%|███████▉  | 200/252 [00:57<00:15,  3.47it/s]"
     ]
    },
    {
     "name": "stdout",
     "output_type": "stream",
     "text": [
      "Saved cell mask: A:\\_Ongoing\\20250128_ActRep_version2_24well\\Output\\mask\\Rep_18_001_mask.tiff\n",
      "Saved cell mask: A:\\_Ongoing\\20250128_ActRep_version2_24well\\Output\\mask\\Rep_18_002_mask.tiff\n"
     ]
    },
    {
     "name": "stderr",
     "output_type": "stream",
     "text": [
      "Generating Masks:  80%|████████  | 202/252 [00:58<00:13,  3.61it/s]"
     ]
    },
    {
     "name": "stdout",
     "output_type": "stream",
     "text": [
      "Saved cell mask: A:\\_Ongoing\\20250128_ActRep_version2_24well\\Output\\mask\\Rep_18_003_mask.tiff\n"
     ]
    },
    {
     "name": "stderr",
     "output_type": "stream",
     "text": [
      "Generating Masks:  81%|████████  | 203/252 [00:58<00:13,  3.58it/s]"
     ]
    },
    {
     "name": "stdout",
     "output_type": "stream",
     "text": [
      "Saved cell mask: A:\\_Ongoing\\20250128_ActRep_version2_24well\\Output\\mask\\Rep_18_004_mask.tiff\n"
     ]
    },
    {
     "name": "stderr",
     "output_type": "stream",
     "text": [
      "Generating Masks:  81%|████████  | 204/252 [00:58<00:13,  3.57it/s]"
     ]
    },
    {
     "name": "stdout",
     "output_type": "stream",
     "text": [
      "Saved cell mask: A:\\_Ongoing\\20250128_ActRep_version2_24well\\Output\\mask\\Rep_18_005_mask.tiff\n"
     ]
    },
    {
     "name": "stderr",
     "output_type": "stream",
     "text": [
      "Generating Masks:  81%|████████▏ | 205/252 [00:58<00:13,  3.52it/s]"
     ]
    },
    {
     "name": "stdout",
     "output_type": "stream",
     "text": [
      "Saved cell mask: A:\\_Ongoing\\20250128_ActRep_version2_24well\\Output\\mask\\Rep_18_006_mask.tiff\n",
      "Saved cell mask: A:\\_Ongoing\\20250128_ActRep_version2_24well\\Output\\mask\\Rep_18_007_mask.tiff\n"
     ]
    },
    {
     "name": "stderr",
     "output_type": "stream",
     "text": [
      "Generating Masks:  82%|████████▏ | 207/252 [00:59<00:13,  3.42it/s]"
     ]
    },
    {
     "name": "stdout",
     "output_type": "stream",
     "text": [
      "Saved cell mask: A:\\_Ongoing\\20250128_ActRep_version2_24well\\Output\\mask\\Rep_18_008_mask.tiff\n",
      "Saved cell mask: A:\\_Ongoing\\20250128_ActRep_version2_24well\\Output\\mask\\Rep_18_009_mask.tiff\n"
     ]
    },
    {
     "name": "stderr",
     "output_type": "stream",
     "text": [
      "Generating Masks:  83%|████████▎ | 209/252 [01:00<00:12,  3.53it/s]"
     ]
    },
    {
     "name": "stdout",
     "output_type": "stream",
     "text": [
      "Saved cell mask: A:\\_Ongoing\\20250128_ActRep_version2_24well\\Output\\mask\\Rep_18_010_mask.tiff\n"
     ]
    },
    {
     "name": "stderr",
     "output_type": "stream",
     "text": [
      "Generating Masks:  83%|████████▎ | 210/252 [01:00<00:12,  3.50it/s]"
     ]
    },
    {
     "name": "stdout",
     "output_type": "stream",
     "text": [
      "Saved cell mask: A:\\_Ongoing\\20250128_ActRep_version2_24well\\Output\\mask\\Rep_18_011_mask.tiff\n"
     ]
    },
    {
     "name": "stderr",
     "output_type": "stream",
     "text": [
      "Generating Masks:  84%|████████▎ | 211/252 [01:00<00:12,  3.30it/s]"
     ]
    },
    {
     "name": "stdout",
     "output_type": "stream",
     "text": [
      "Saved cell mask: A:\\_Ongoing\\20250128_ActRep_version2_24well\\Output\\mask\\Rep_19_001_mask.tiff\n"
     ]
    },
    {
     "name": "stderr",
     "output_type": "stream",
     "text": [
      "Generating Masks:  84%|████████▍ | 212/252 [01:00<00:11,  3.38it/s]"
     ]
    },
    {
     "name": "stdout",
     "output_type": "stream",
     "text": [
      "Saved cell mask: A:\\_Ongoing\\20250128_ActRep_version2_24well\\Output\\mask\\Rep_19_002_mask.tiff\n"
     ]
    },
    {
     "name": "stderr",
     "output_type": "stream",
     "text": [
      "Generating Masks:  85%|████████▍ | 213/252 [01:01<00:11,  3.41it/s]"
     ]
    },
    {
     "name": "stdout",
     "output_type": "stream",
     "text": [
      "Saved cell mask: A:\\_Ongoing\\20250128_ActRep_version2_24well\\Output\\mask\\Rep_19_003_mask.tiff\n"
     ]
    },
    {
     "name": "stderr",
     "output_type": "stream",
     "text": [
      "Generating Masks:  85%|████████▍ | 214/252 [01:01<00:11,  3.44it/s]"
     ]
    },
    {
     "name": "stdout",
     "output_type": "stream",
     "text": [
      "Saved cell mask: A:\\_Ongoing\\20250128_ActRep_version2_24well\\Output\\mask\\Rep_19_004_mask.tiff\n",
      "Saved cell mask: A:\\_Ongoing\\20250128_ActRep_version2_24well\\Output\\mask\\Rep_19_005_mask.tiff\n"
     ]
    },
    {
     "name": "stderr",
     "output_type": "stream",
     "text": [
      "Generating Masks:  86%|████████▌ | 216/252 [01:02<00:10,  3.53it/s]"
     ]
    },
    {
     "name": "stdout",
     "output_type": "stream",
     "text": [
      "Saved cell mask: A:\\_Ongoing\\20250128_ActRep_version2_24well\\Output\\mask\\Rep_19_006_mask.tiff\n"
     ]
    },
    {
     "name": "stderr",
     "output_type": "stream",
     "text": [
      "Generating Masks:  86%|████████▌ | 217/252 [01:02<00:09,  3.55it/s]"
     ]
    },
    {
     "name": "stdout",
     "output_type": "stream",
     "text": [
      "Saved cell mask: A:\\_Ongoing\\20250128_ActRep_version2_24well\\Output\\mask\\Rep_19_007_mask.tiff\n",
      "Saved cell mask: A:\\_Ongoing\\20250128_ActRep_version2_24well\\Output\\mask\\Rep_19_008_mask.tiff\n"
     ]
    },
    {
     "name": "stderr",
     "output_type": "stream",
     "text": [
      "Generating Masks:  87%|████████▋ | 219/252 [01:02<00:09,  3.55it/s]"
     ]
    },
    {
     "name": "stdout",
     "output_type": "stream",
     "text": [
      "Saved cell mask: A:\\_Ongoing\\20250128_ActRep_version2_24well\\Output\\mask\\Rep_19_009_mask.tiff\n"
     ]
    },
    {
     "name": "stderr",
     "output_type": "stream",
     "text": [
      "Generating Masks:  87%|████████▋ | 220/252 [01:03<00:08,  3.57it/s]"
     ]
    },
    {
     "name": "stdout",
     "output_type": "stream",
     "text": [
      "Saved cell mask: A:\\_Ongoing\\20250128_ActRep_version2_24well\\Output\\mask\\Rep_19_010_mask.tiff\n"
     ]
    },
    {
     "name": "stderr",
     "output_type": "stream",
     "text": [
      "Generating Masks:  88%|████████▊ | 221/252 [01:03<00:08,  3.56it/s]"
     ]
    },
    {
     "name": "stdout",
     "output_type": "stream",
     "text": [
      "Saved cell mask: A:\\_Ongoing\\20250128_ActRep_version2_24well\\Output\\mask\\Rep_20_001_mask.tiff\n"
     ]
    },
    {
     "name": "stderr",
     "output_type": "stream",
     "text": [
      "Generating Masks:  88%|████████▊ | 222/252 [01:03<00:08,  3.60it/s]"
     ]
    },
    {
     "name": "stdout",
     "output_type": "stream",
     "text": [
      "Saved cell mask: A:\\_Ongoing\\20250128_ActRep_version2_24well\\Output\\mask\\Rep_20_002_mask.tiff\n"
     ]
    },
    {
     "name": "stderr",
     "output_type": "stream",
     "text": [
      "Generating Masks:  88%|████████▊ | 223/252 [01:04<00:08,  3.25it/s]"
     ]
    },
    {
     "name": "stdout",
     "output_type": "stream",
     "text": [
      "Saved cell mask: A:\\_Ongoing\\20250128_ActRep_version2_24well\\Output\\mask\\Rep_20_003_mask.tiff\n",
      "Saved cell mask: A:\\_Ongoing\\20250128_ActRep_version2_24well\\Output\\mask\\Rep_20_004_mask.tiff\n"
     ]
    },
    {
     "name": "stderr",
     "output_type": "stream",
     "text": [
      "Generating Masks:  89%|████████▉ | 225/252 [01:04<00:08,  3.18it/s]"
     ]
    },
    {
     "name": "stdout",
     "output_type": "stream",
     "text": [
      "Saved cell mask: A:\\_Ongoing\\20250128_ActRep_version2_24well\\Output\\mask\\Rep_20_005_mask.tiff\n",
      "Saved cell mask: A:\\_Ongoing\\20250128_ActRep_version2_24well\\Output\\mask\\Rep_20_006_mask.tiff\n"
     ]
    },
    {
     "name": "stderr",
     "output_type": "stream",
     "text": [
      "Generating Masks:  90%|█████████ | 227/252 [01:05<00:07,  3.42it/s]"
     ]
    },
    {
     "name": "stdout",
     "output_type": "stream",
     "text": [
      "Saved cell mask: A:\\_Ongoing\\20250128_ActRep_version2_24well\\Output\\mask\\Rep_20_007_mask.tiff\n"
     ]
    },
    {
     "name": "stderr",
     "output_type": "stream",
     "text": [
      "Generating Masks:  90%|█████████ | 228/252 [01:05<00:06,  3.46it/s]"
     ]
    },
    {
     "name": "stdout",
     "output_type": "stream",
     "text": [
      "Saved cell mask: A:\\_Ongoing\\20250128_ActRep_version2_24well\\Output\\mask\\Rep_20_008_mask.tiff\n"
     ]
    },
    {
     "name": "stderr",
     "output_type": "stream",
     "text": [
      "Generating Masks:  91%|█████████ | 229/252 [01:05<00:06,  3.43it/s]"
     ]
    },
    {
     "name": "stdout",
     "output_type": "stream",
     "text": [
      "Saved cell mask: A:\\_Ongoing\\20250128_ActRep_version2_24well\\Output\\mask\\Rep_20_009_mask.tiff\n",
      "Saved cell mask: A:\\_Ongoing\\20250128_ActRep_version2_24well\\Output\\mask\\Rep_20_010_mask.tiff\n"
     ]
    },
    {
     "name": "stderr",
     "output_type": "stream",
     "text": [
      "Generating Masks:  92%|█████████▏| 231/252 [01:06<00:06,  3.32it/s]"
     ]
    },
    {
     "name": "stdout",
     "output_type": "stream",
     "text": [
      "Saved cell mask: A:\\_Ongoing\\20250128_ActRep_version2_24well\\Output\\mask\\Rep_22_001_mask.tiff\n"
     ]
    },
    {
     "name": "stderr",
     "output_type": "stream",
     "text": [
      "Generating Masks:  92%|█████████▏| 232/252 [01:06<00:06,  3.20it/s]"
     ]
    },
    {
     "name": "stdout",
     "output_type": "stream",
     "text": [
      "Saved cell mask: A:\\_Ongoing\\20250128_ActRep_version2_24well\\Output\\mask\\Rep_22_002_mask.tiff\n"
     ]
    },
    {
     "name": "stderr",
     "output_type": "stream",
     "text": [
      "Generating Masks:  92%|█████████▏| 233/252 [01:07<00:06,  3.11it/s]"
     ]
    },
    {
     "name": "stdout",
     "output_type": "stream",
     "text": [
      "Saved cell mask: A:\\_Ongoing\\20250128_ActRep_version2_24well\\Output\\mask\\Rep_22_003_mask.tiff\n"
     ]
    },
    {
     "name": "stderr",
     "output_type": "stream",
     "text": [
      "Generating Masks:  93%|█████████▎| 234/252 [01:07<00:05,  3.11it/s]"
     ]
    },
    {
     "name": "stdout",
     "output_type": "stream",
     "text": [
      "Saved cell mask: A:\\_Ongoing\\20250128_ActRep_version2_24well\\Output\\mask\\Rep_22_004_mask.tiff\n"
     ]
    },
    {
     "name": "stderr",
     "output_type": "stream",
     "text": [
      "Generating Masks:  93%|█████████▎| 235/252 [01:07<00:05,  3.03it/s]"
     ]
    },
    {
     "name": "stdout",
     "output_type": "stream",
     "text": [
      "Saved cell mask: A:\\_Ongoing\\20250128_ActRep_version2_24well\\Output\\mask\\Rep_22_005_mask.tiff\n"
     ]
    },
    {
     "name": "stderr",
     "output_type": "stream",
     "text": [
      "Generating Masks:  94%|█████████▎| 236/252 [01:08<00:05,  2.93it/s]"
     ]
    },
    {
     "name": "stdout",
     "output_type": "stream",
     "text": [
      "Saved cell mask: A:\\_Ongoing\\20250128_ActRep_version2_24well\\Output\\mask\\Rep_22_006_mask.tiff\n"
     ]
    },
    {
     "name": "stderr",
     "output_type": "stream",
     "text": [
      "Generating Masks:  94%|█████████▍| 237/252 [01:08<00:05,  2.87it/s]"
     ]
    },
    {
     "name": "stdout",
     "output_type": "stream",
     "text": [
      "Saved cell mask: A:\\_Ongoing\\20250128_ActRep_version2_24well\\Output\\mask\\Rep_22_007_mask.tiff\n"
     ]
    },
    {
     "name": "stderr",
     "output_type": "stream",
     "text": [
      "Generating Masks:  94%|█████████▍| 238/252 [01:08<00:04,  2.84it/s]"
     ]
    },
    {
     "name": "stdout",
     "output_type": "stream",
     "text": [
      "Saved cell mask: A:\\_Ongoing\\20250128_ActRep_version2_24well\\Output\\mask\\Rep_23_001_mask.tiff\n"
     ]
    },
    {
     "name": "stderr",
     "output_type": "stream",
     "text": [
      "Generating Masks:  95%|█████████▍| 239/252 [01:09<00:04,  2.76it/s]"
     ]
    },
    {
     "name": "stdout",
     "output_type": "stream",
     "text": [
      "Saved cell mask: A:\\_Ongoing\\20250128_ActRep_version2_24well\\Output\\mask\\Rep_23_002_mask.tiff\n"
     ]
    },
    {
     "name": "stderr",
     "output_type": "stream",
     "text": [
      "Generating Masks:  95%|█████████▌| 240/252 [01:09<00:04,  2.80it/s]"
     ]
    },
    {
     "name": "stdout",
     "output_type": "stream",
     "text": [
      "Saved cell mask: A:\\_Ongoing\\20250128_ActRep_version2_24well\\Output\\mask\\Rep_23_003_mask.tiff\n"
     ]
    },
    {
     "name": "stderr",
     "output_type": "stream",
     "text": [
      "Generating Masks:  96%|█████████▌| 241/252 [01:09<00:03,  2.77it/s]"
     ]
    },
    {
     "name": "stdout",
     "output_type": "stream",
     "text": [
      "Saved cell mask: A:\\_Ongoing\\20250128_ActRep_version2_24well\\Output\\mask\\Rep_23_004_mask.tiff\n"
     ]
    },
    {
     "name": "stderr",
     "output_type": "stream",
     "text": [
      "Generating Masks:  96%|█████████▌| 242/252 [01:10<00:03,  2.87it/s]"
     ]
    },
    {
     "name": "stdout",
     "output_type": "stream",
     "text": [
      "Saved cell mask: A:\\_Ongoing\\20250128_ActRep_version2_24well\\Output\\mask\\Rep_23_005_mask.tiff\n"
     ]
    },
    {
     "name": "stderr",
     "output_type": "stream",
     "text": [
      "Generating Masks:  96%|█████████▋| 243/252 [01:10<00:03,  2.93it/s]"
     ]
    },
    {
     "name": "stdout",
     "output_type": "stream",
     "text": [
      "Saved cell mask: A:\\_Ongoing\\20250128_ActRep_version2_24well\\Output\\mask\\Rep_23_006_mask.tiff\n"
     ]
    },
    {
     "name": "stderr",
     "output_type": "stream",
     "text": [
      "Generating Masks:  97%|█████████▋| 244/252 [01:10<00:02,  2.89it/s]"
     ]
    },
    {
     "name": "stdout",
     "output_type": "stream",
     "text": [
      "Saved cell mask: A:\\_Ongoing\\20250128_ActRep_version2_24well\\Output\\mask\\Rep_24_001_mask.tiff\n"
     ]
    },
    {
     "name": "stderr",
     "output_type": "stream",
     "text": [
      "Generating Masks:  97%|█████████▋| 245/252 [01:11<00:02,  2.94it/s]"
     ]
    },
    {
     "name": "stdout",
     "output_type": "stream",
     "text": [
      "Saved cell mask: A:\\_Ongoing\\20250128_ActRep_version2_24well\\Output\\mask\\Rep_24_002_mask.tiff\n"
     ]
    },
    {
     "name": "stderr",
     "output_type": "stream",
     "text": [
      "Generating Masks:  98%|█████████▊| 246/252 [01:11<00:02,  2.99it/s]"
     ]
    },
    {
     "name": "stdout",
     "output_type": "stream",
     "text": [
      "Saved cell mask: A:\\_Ongoing\\20250128_ActRep_version2_24well\\Output\\mask\\Rep_24_003_mask.tiff\n"
     ]
    },
    {
     "name": "stderr",
     "output_type": "stream",
     "text": [
      "Generating Masks:  98%|█████████▊| 247/252 [01:12<00:01,  2.89it/s]"
     ]
    },
    {
     "name": "stdout",
     "output_type": "stream",
     "text": [
      "Saved cell mask: A:\\_Ongoing\\20250128_ActRep_version2_24well\\Output\\mask\\Rep_24_004_mask.tiff\n"
     ]
    },
    {
     "name": "stderr",
     "output_type": "stream",
     "text": [
      "Generating Masks:  98%|█████████▊| 248/252 [01:12<00:01,  2.74it/s]"
     ]
    },
    {
     "name": "stdout",
     "output_type": "stream",
     "text": [
      "Saved cell mask: A:\\_Ongoing\\20250128_ActRep_version2_24well\\Output\\mask\\Rep_24_005_mask.tiff\n"
     ]
    },
    {
     "name": "stderr",
     "output_type": "stream",
     "text": [
      "Generating Masks:  99%|█████████▉| 249/252 [01:12<00:01,  2.75it/s]"
     ]
    },
    {
     "name": "stdout",
     "output_type": "stream",
     "text": [
      "Saved cell mask: A:\\_Ongoing\\20250128_ActRep_version2_24well\\Output\\mask\\Rep_24_006_mask.tiff\n"
     ]
    },
    {
     "name": "stderr",
     "output_type": "stream",
     "text": [
      "Generating Masks:  99%|█████████▉| 250/252 [01:13<00:00,  2.81it/s]"
     ]
    },
    {
     "name": "stdout",
     "output_type": "stream",
     "text": [
      "Saved cell mask: A:\\_Ongoing\\20250128_ActRep_version2_24well\\Output\\mask\\Rep_24_007_mask.tiff\n"
     ]
    },
    {
     "name": "stderr",
     "output_type": "stream",
     "text": [
      "Generating Masks: 100%|█████████▉| 251/252 [01:13<00:00,  2.85it/s]"
     ]
    },
    {
     "name": "stdout",
     "output_type": "stream",
     "text": [
      "Saved cell mask: A:\\_Ongoing\\20250128_ActRep_version2_24well\\Output\\mask\\Rep_24_008_mask.tiff\n"
     ]
    },
    {
     "name": "stderr",
     "output_type": "stream",
     "text": [
      "Generating Masks: 100%|██████████| 252/252 [01:13<00:00,  3.42it/s]\n"
     ]
    },
    {
     "name": "stdout",
     "output_type": "stream",
     "text": [
      "Saved cell mask: A:\\_Ongoing\\20250128_ActRep_version2_24well\\Output\\mask\\Rep_24_009_mask.tiff\n",
      "Cell mask generation completed.\n",
      "\n",
      "=== Intensity Calculation and Excel Output ===\n"
     ]
    },
    {
     "name": "stderr",
     "output_type": "stream",
     "text": [
      "Calculating Intensities: 100%|██████████| 252/252 [00:03<00:00, 67.25it/s]\n"
     ]
    },
    {
     "name": "stdout",
     "output_type": "stream",
     "text": [
      "Cell-level intensity data saved to A:\\_Ongoing\\20250128_ActRep_version2_24well\\Output\\cell_intensities.csv\n",
      "Error generating Excel output: No module named 'openpyxl'\n"
     ]
    }
   ],
   "source": [
    "# %% Import Libraries\n",
    "import os\n",
    "import re\n",
    "import gc\n",
    "import torch\n",
    "import numpy as np\n",
    "import tifffile\n",
    "import pandas as pd\n",
    "from nd2reader import ND2Reader\n",
    "from tqdm import tqdm\n",
    "from cellpose import models\n",
    "\n",
    "# %% Function Definitions\n",
    "\n",
    "def convert_nd2_to_tiff_channel(nd2_path, tiff_output_dir, channel_name):\n",
    "    \"\"\"\n",
    "    Converts an ND2 file to TIFF files by performing a maximum intensity projection\n",
    "    over the z-axis for the specified channel.\n",
    "    \"\"\"\n",
    "    try:\n",
    "        with ND2Reader(nd2_path) as img:\n",
    "            print(f\"\\nProcessing ND2 file: {os.path.basename(nd2_path)}\")\n",
    "            print(\"Detected Axes:\", img.axes)\n",
    "            print(\"Detected Shape:\", img.shape)\n",
    "            channels = img.metadata.get('channels')\n",
    "            if channels is None:\n",
    "                raise ValueError(\"No channel information found in ND2 metadata.\")\n",
    "            print(\"Channels in file:\", channels)\n",
    "            if channel_name in channels:\n",
    "                channel_index = channels.index(channel_name)\n",
    "                print(f\"Using channel '{channel_name}' at index {channel_index}.\")\n",
    "            else:\n",
    "                print(f\"Channel '{channel_name}' not found in {nd2_path}. Skipping conversion for this channel.\")\n",
    "                return\n",
    "            img.default_coords['c'] = channel_index\n",
    "\n",
    "            # Set up iteration: if a time axis exists, iterate over it and bundle z,y,x.\n",
    "            if 't' in img.axes and img.sizes.get('t', 1) > 1:\n",
    "                img.iter_axes = 't'\n",
    "                img.bundle_axes = 'zyx'\n",
    "            else:\n",
    "                img.iter_axes = ''\n",
    "                img.bundle_axes = 'zyx'\n",
    "                \n",
    "            # For each time frame (or single image), perform a max projection along z.\n",
    "            for idx, frame in enumerate(img):\n",
    "                max_proj = np.max(frame, axis=0)\n",
    "                base_name = os.path.splitext(os.path.basename(nd2_path))[0]\n",
    "                if 't' in img.axes and img.sizes.get('t', 1) > 1:\n",
    "                    tiff_filename = f\"{base_name}_t{idx}.tiff\"\n",
    "                else:\n",
    "                    tiff_filename = f\"{base_name}.tiff\"\n",
    "                tiff_path = os.path.join(tiff_output_dir, tiff_filename)\n",
    "                tifffile.imwrite(tiff_path, max_proj)\n",
    "                print(f\"Saved TIFF: {tiff_path}\")\n",
    "    except Exception as e:\n",
    "        print(f\"Error converting {nd2_path} for channel {channel_name} to TIFF: {e}\")\n",
    "\n",
    "def generate_cellmask(tiff_path, mask_path, model):\n",
    "    \"\"\"\n",
    "    Generates a cell mask from the given TIFF image using Cellpose and saves the mask.\n",
    "    \"\"\"\n",
    "    try:\n",
    "        img = tifffile.imread(tiff_path)\n",
    "        # If the image is 3D (a stack), average over the first axis to obtain a 2D image.\n",
    "        if img.ndim == 3:\n",
    "            img = img.mean(axis=0)\n",
    "        elif img.ndim > 3:\n",
    "            raise ValueError(f\"Unexpected number of dimensions ({img.ndim}) in image: {tiff_path}\")\n",
    "\n",
    "        img_min, img_max = np.min(img), np.max(img)\n",
    "        dynamic_range = img_max - img_min\n",
    "        if dynamic_range == 0:\n",
    "            print(f\"Warning: Image {tiff_path} has zero dynamic range. Skipping mask generation.\")\n",
    "            return\n",
    "        img = img.astype(np.float32)\n",
    "        img = (img - img_min) / dynamic_range\n",
    "\n",
    "        if not np.isfinite(img).all():\n",
    "            print(f\"Warning: Image {tiff_path} contains non-finite values after normalization. Skipping.\")\n",
    "            return\n",
    "\n",
    "        # Run Cellpose (adjust parameters such as diameter if needed)\n",
    "        masks, flows, styles, diams = model.eval(\n",
    "            img,\n",
    "            diameter=130,\n",
    "            flow_threshold=0.4,\n",
    "            cellprob_threshold=0.0,\n",
    "            channels=[0, 0]\n",
    "        )\n",
    "        tifffile.imwrite(mask_path, masks.astype(np.uint16))\n",
    "        print(f\"Saved cell mask: {mask_path}\")\n",
    "    except Exception as e:\n",
    "        print(f\"Error generating mask for {tiff_path}: {e}\")\n",
    "    finally:\n",
    "        gc.collect()\n",
    "        if torch.cuda.is_available():\n",
    "            torch.cuda.empty_cache()\n",
    "\n",
    "def calculate_intensities(tiff_files, tiff_dirs, mask_dir, output_csv):\n",
    "    \"\"\"\n",
    "    For each TIFF file, calculates the average intensity per cell (using the generated mask)\n",
    "    for both GFP and DSred channels and saves the data to a CSV file.\n",
    "    \"\"\"\n",
    "    data = []\n",
    "    for tiff_file in tqdm(tiff_files, desc=\"Calculating Intensities\"):\n",
    "        gfp_path = os.path.join(tiff_dirs[\"GFP\"], tiff_file)\n",
    "        dsred_path = os.path.join(tiff_dirs[\"DSred\"], tiff_file)\n",
    "        mask_filename = os.path.splitext(tiff_file)[0] + \"_mask.tiff\"\n",
    "        mask_path = os.path.join(mask_dir, mask_filename)\n",
    "        \n",
    "        if not os.path.exists(gfp_path):\n",
    "            print(f\"GFP image {gfp_path} not found. Skipping.\")\n",
    "            continue\n",
    "        if not os.path.exists(dsred_path):\n",
    "            print(f\"DSred image {dsred_path} not found. Skipping.\")\n",
    "            continue\n",
    "        if not os.path.exists(mask_path):\n",
    "            print(f\"Mask image {mask_path} not found. Skipping.\")\n",
    "            continue\n",
    "        \n",
    "        gfp_img = tifffile.imread(gfp_path)\n",
    "        dsred_img = tifffile.imread(dsred_path)\n",
    "        mask_img = tifffile.imread(mask_path)\n",
    "        \n",
    "        mask_indices = np.unique(mask_img)\n",
    "        mask_indices = mask_indices[mask_indices != 0]  # exclude background\n",
    "        \n",
    "        for idx in mask_indices:\n",
    "            cell_mask = (mask_img == idx)\n",
    "            avg_gfp = np.mean(gfp_img[cell_mask])\n",
    "            avg_dsred = np.mean(dsred_img[cell_mask])\n",
    "            data.append({\n",
    "                \"File Name\": tiff_file,\n",
    "                \"Mask Index\": idx,\n",
    "                \"Average GFP Intensity\": avg_gfp,\n",
    "                \"Average DSred Intensity\": avg_dsred\n",
    "            })\n",
    "    \n",
    "    df = pd.DataFrame(data)\n",
    "    df.to_csv(output_csv, index=False)\n",
    "    print(f\"Cell-level intensity data saved to {output_csv}\")\n",
    "\n",
    "def extract_info_from_filename(filename):\n",
    "    \"\"\"\n",
    "    Extracts group (Act/Rep), sample (e.g., 01), and repeat (e.g., 002) from the TIFF filename.\n",
    "    It first removes any time suffix (e.g., _t0) if present.\n",
    "    \"\"\"\n",
    "    base = re.sub(r'_t\\d+', '', os.path.splitext(filename)[0])\n",
    "    pattern = re.compile(r'^(Act|Rep)_(\\d{2})_(\\d{3})', re.IGNORECASE)\n",
    "    m = pattern.search(base)\n",
    "    if m:\n",
    "        return m.group(1), m.group(2), m.group(3)\n",
    "    else:\n",
    "        return 'Unknown', 'Unknown', 'Unknown'\n",
    "\n",
    "def run_conversion(nd2_dir, dsred_tiff_dir, gfp_tiff_dir):\n",
    "    \"\"\"\n",
    "    Converts all ND2 files in nd2_dir to TIFFs for DSred and GFP channels.\n",
    "    \"\"\"\n",
    "    nd2_files = [f for f in os.listdir(nd2_dir) if f.lower().endswith('.nd2')]\n",
    "    if not nd2_files:\n",
    "        print(\"No ND2 files found in\", nd2_dir)\n",
    "        return\n",
    "    print(f\"Found {len(nd2_files)} ND2 file(s) for conversion.\")\n",
    "    for nd2_file in nd2_files:\n",
    "        nd2_path = os.path.join(nd2_dir, nd2_file)\n",
    "        print(f\"\\n--- Processing: {nd2_file} ---\")\n",
    "        convert_nd2_to_tiff_channel(nd2_path, dsred_tiff_dir, '60x DSRED')\n",
    "        convert_nd2_to_tiff_channel(nd2_path, gfp_tiff_dir, '60x GFP')\n",
    "\n",
    "def run_mask_generation(dsred_tiff_dir, mask_dir, model):\n",
    "    \"\"\"\n",
    "    Generates cell masks from DSred TIFF files.\n",
    "    \"\"\"\n",
    "    dsred_tiff_files = [f for f in os.listdir(dsred_tiff_dir)\n",
    "                        if f.lower().endswith(('.tiff', '.tif')) and '_mask' not in f]\n",
    "    if not dsred_tiff_files:\n",
    "        print(\"No DSred TIFF files found in\", dsred_tiff_dir)\n",
    "        return\n",
    "    print(f\"Generating cell masks for {len(dsred_tiff_files)} DSred TIFF file(s)...\")\n",
    "    for tiff_file in tqdm(dsred_tiff_files, desc=\"Generating Masks\"):\n",
    "        tiff_path = os.path.join(dsred_tiff_dir, tiff_file)\n",
    "        mask_filename = os.path.splitext(tiff_file)[0] + \"_mask.tiff\"\n",
    "        mask_path = os.path.join(mask_dir, mask_filename)\n",
    "        generate_cellmask(tiff_path, mask_path, model)\n",
    "    print(\"Cell mask generation completed.\")\n",
    "\n",
    "def run_calculation(dsred_tiff_dir, gfp_tiff_dir, mask_dir, output_dir):\n",
    "    \"\"\"\n",
    "    Calculates intensities, writes a detailed CSV, then creates an Excel file with two worksheets:\n",
    "      1. Detailed Cell Data: one row per cell with Group, Sample, Repeat, Mask Index, GFP_Mean, DSred_Mean.\n",
    "      2. Wide Data: pivoted data so that each unique (Group, Sample, Repeat) is one row,\n",
    "         and individual cell measurements become separate columns.\n",
    "    \"\"\"\n",
    "    dsred_tiff_files = [f for f in os.listdir(dsred_tiff_dir)\n",
    "                        if f.lower().endswith(('.tiff', '.tif')) and '_mask' not in f]\n",
    "    if not dsred_tiff_files:\n",
    "        print(\"No DSred TIFF files found in\", dsred_tiff_dir)\n",
    "        return\n",
    "    output_csv = os.path.join(output_dir, \"cell_intensities.csv\")\n",
    "    tiff_dirs = {\"GFP\": gfp_tiff_dir, \"DSred\": dsred_tiff_dir}\n",
    "    calculate_intensities(dsred_tiff_files, tiff_dirs, mask_dir, output_csv)\n",
    "    \n",
    "    try:\n",
    "        # Read the detailed cell-level data from the CSV\n",
    "        df = pd.read_csv(output_csv)\n",
    "        \n",
    "        # Extract Group, Sample, and Repeat from the File Name.\n",
    "        # (Assumes filenames like \"Act_01_001.tiff\" or \"Rep_12_003.tiff\")\n",
    "        df[['Group', 'Sample', 'Repeat']] = df['File Name'].apply(\n",
    "            lambda x: pd.Series(extract_info_from_filename(x))\n",
    "        )\n",
    "        \n",
    "        # Optionally, convert Sample and Repeat to integers to remove leading zeros.\n",
    "        df['Sample'] = df['Sample'].apply(lambda x: int(x) if x.isdigit() else x)\n",
    "        df['Repeat'] = df['Repeat'].apply(lambda x: int(x) if x.isdigit() else x)\n",
    "        \n",
    "        # Drop the original File Name column since it's no longer needed.\n",
    "        df = df.drop(columns=[\"File Name\"])\n",
    "        \n",
    "        # Rename the intensity columns to the desired names.\n",
    "        df = df.rename(columns={\n",
    "            \"Average GFP Intensity\": \"GFP_Mean\",\n",
    "            \"Average DSred Intensity\": \"DSred_Mean\"\n",
    "        })\n",
    "        \n",
    "        # Create a cell order within each (Group, Sample, Repeat) group for pivoting.\n",
    "        df['cell_order'] = df.groupby(['Group', 'Sample', 'Repeat']).cumcount() + 1\n",
    "        \n",
    "        # At this point, the detailed cell data has the following columns:\n",
    "        # Group, Sample, Repeat, Mask Index, GFP_Mean, DSred_Mean, cell_order\n",
    "        # Each row represents one cell.\n",
    "        \n",
    "        # Create the wide-format DataFrame: each unique (Group, Sample, Repeat) is one row,\n",
    "        # and each cell measurement becomes its own column.\n",
    "        df_wide = df.pivot_table(\n",
    "            index=['Group', 'Sample', 'Repeat'], \n",
    "            columns='cell_order', \n",
    "            values=['GFP_Mean', 'DSred_Mean']\n",
    "        )\n",
    "        \n",
    "        # Flatten the MultiIndex columns. The resulting columns will be like \"GFP_Mean_1\", \"GFP_Mean_2\", etc.\n",
    "        df_wide.columns = [f\"{col[0]}_{col[1]}\" for col in df_wide.columns]\n",
    "        df_wide.reset_index(inplace=True)\n",
    "        \n",
    "        # Write both the detailed and wide data to an Excel file with separate worksheets.\n",
    "        output_excel = os.path.join(output_dir, \"analysis_output.xlsx\")\n",
    "        with pd.ExcelWriter(output_excel, engine=\"openpyxl\") as writer:\n",
    "            df.to_excel(writer, sheet_name=\"Detailed Cell Data\", index=False)\n",
    "            df_wide.to_excel(writer, sheet_name=\"Wide Data\", index=False)\n",
    "        print(\"Excel file with Detailed Cell Data and Wide Data saved to\", output_excel)\n",
    "    except Exception as e:\n",
    "        print(\"Error generating Excel output:\", e)\n",
    "\n",
    "# %% Call the Functions Directly (Without argparse)\n",
    "# Set up directories (adjust these paths if necessary)\n",
    "nd2_dir = r\"A:\\_Ongoing\\20250128_ActRep_version2_24well\"\n",
    "output_dir = os.path.join(nd2_dir, \"Output\")\n",
    "dsred_tiff_dir = os.path.join(output_dir, \"60x_DSRED_TIFF\")\n",
    "gfp_tiff_dir   = os.path.join(output_dir, \"60x_GFP_TIFF\")\n",
    "mask_dir       = os.path.join(output_dir, \"mask\")\n",
    "\n",
    "# Create directories if they do not exist\n",
    "os.makedirs(output_dir, exist_ok=True)\n",
    "os.makedirs(dsred_tiff_dir, exist_ok=True)\n",
    "os.makedirs(gfp_tiff_dir, exist_ok=True)\n",
    "os.makedirs(mask_dir, exist_ok=True)\n",
    "\n",
    "# Step 1: ND2-to-TIFF Conversion\n",
    "print(\"\\n=== ND2-to-TIFF Conversion ===\")\n",
    "run_conversion(nd2_dir, dsred_tiff_dir, gfp_tiff_dir)\n",
    "\n",
    "# Step 2: Cell Mask Generation\n",
    "print(\"\\n=== Cell Mask Generation ===\")\n",
    "try:\n",
    "    model = models.Cellpose(gpu=torch.cuda.is_available(), model_type=\"cyto3\")\n",
    "    print(\"Cellpose model initialized.\")\n",
    "except Exception as e:\n",
    "    print(\"Error initializing Cellpose model:\", e)\n",
    "    print(\"Falling back to CPU mode with cyto2.\")\n",
    "    model = models.Cellpose(gpu=False, model_type=\"cyto2\")\n",
    "run_mask_generation(dsred_tiff_dir, mask_dir, model)\n",
    "\n",
    "# Call Step 3: Intensity Calculation and Excel Output (Detailed and Wide Data)\n",
    "print(\"\\n=== Intensity Calculation and Excel Output ===\")\n",
    "run_calculation(dsred_tiff_dir, gfp_tiff_dir, mask_dir, output_dir)\n"
   ]
  },
  {
   "cell_type": "code",
   "execution_count": 1,
   "metadata": {},
   "outputs": [
    {
     "name": "stdout",
     "output_type": "stream",
     "text": [
      "New Excel summary saved to A:\\_Ongoing\\20250128_ActRep_version2_24well\\Output\\name_summary.xlsx\n"
     ]
    }
   ],
   "source": [
    "import os\n",
    "import re\n",
    "import pandas as pd\n",
    "\n",
    "def extract_info_from_filename(filename):\n",
    "    \"\"\"\n",
    "    Extracts group (Act/Rep), sample (e.g., 01), and repeat (e.g., 001) from a filename.\n",
    "    For example, given \"Act_01_001.tiff\" it returns (\"Act\", \"01\", \"001\").\n",
    "    \"\"\"\n",
    "    # Remove any time suffix if present (e.g., _t0)\n",
    "    base = re.sub(r'_t\\d+', '', os.path.splitext(filename)[0])\n",
    "    pattern = re.compile(r'^(Act|Rep)_(\\d{2})_(\\d{3})', re.IGNORECASE)\n",
    "    m = pattern.search(base)\n",
    "    if m:\n",
    "        return m.group(1), m.group(2), m.group(3)\n",
    "    else:\n",
    "        return 'Unknown', 'Unknown', 'Unknown'\n",
    "\n",
    "# Path to the previously generated CSV file with cell intensities\n",
    "csv_file = r\"A:\\_Ongoing\\20250128_ActRep_version2_24well\\Output\\cell_intensities.csv\"\n",
    "\n",
    "# Read the CSV file into a DataFrame\n",
    "df = pd.read_csv(csv_file)\n",
    "\n",
    "# The CSV is expected to have these columns:\n",
    "# \"File Name\", \"Mask Index\", \"Average GFP Intensity\", \"Average DSred Intensity\"\n",
    "\n",
    "# Extract Group, Sample, and Repeat from the \"File Name\" column.\n",
    "df[['Group', 'Sample', 'Repeat']] = df['File Name'].apply(lambda x: pd.Series(extract_info_from_filename(x)))\n",
    "\n",
    "# Optionally, you can convert Sample and Repeat to integers (to remove leading zeros)\n",
    "# Uncomment the following lines if that is desired:\n",
    "# df['Sample'] = df['Sample'].apply(lambda x: int(x) if x.isdigit() else x)\n",
    "# df['Repeat'] = df['Repeat'].apply(lambda x: int(x) if x.isdigit() else x)\n",
    "\n",
    "# Drop the original \"File Name\" column if you no longer need it\n",
    "df = df.drop(columns=[\"File Name\"])\n",
    "\n",
    "# Optionally, rename the intensity columns to shorter names\n",
    "df = df.rename(columns={\n",
    "    \"Average GFP Intensity\": \"GFP_Mean\",\n",
    "    \"Average DSred Intensity\": \"DSred_Mean\"\n",
    "})\n",
    "\n",
    "# Rearrange the columns if needed so that Group, Sample, Repeat come first:\n",
    "df = df[['Group', 'Sample', 'Repeat', 'Mask Index', 'GFP_Mean', 'DSred_Mean']]\n",
    "\n",
    "# Specify the output Excel file path\n",
    "excel_output = r\"A:\\_Ongoing\\20250128_ActRep_version2_24well\\Output\\name_summary.xlsx\"\n",
    "\n",
    "# Write the DataFrame to an Excel file (one worksheet)\n",
    "df.to_excel(excel_output, index=False)\n",
    "\n",
    "print(\"New Excel summary saved to\", excel_output)\n"
   ]
  }
 ],
 "metadata": {
  "kernelspec": {
   "display_name": "cellpose-env",
   "language": "python",
   "name": "python3"
  },
  "language_info": {
   "codemirror_mode": {
    "name": "ipython",
    "version": 3
   },
   "file_extension": ".py",
   "mimetype": "text/x-python",
   "name": "python",
   "nbconvert_exporter": "python",
   "pygments_lexer": "ipython3",
   "version": "3.10.15"
  }
 },
 "nbformat": 4,
 "nbformat_minor": 2
}
